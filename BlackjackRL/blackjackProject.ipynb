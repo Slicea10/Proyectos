{
  "cells": [
    {
      "cell_type": "markdown",
      "metadata": {
        "id": "bNUbdecDCAmU"
      },
      "source": [
        "#Reinforcement Learning project: The Blackjack dream.\n",
        "\n"
      ]
    },
    {
      "cell_type": "markdown",
      "metadata": {
        "id": "VVOCZAlQC-WG"
      },
      "source": [
        "by Santiago Licea"
      ]
    },
    {
      "cell_type": "code",
      "execution_count": null,
      "metadata": {
        "id": "o2SgMrOjWMn1"
      },
      "outputs": [],
      "source": [
        "import numpy as np\n",
        "import pandas as pd\n",
        "import random\n",
        "from collections import defaultdict\n",
        "import matplotlib.pyplot as plt\n",
        "import seaborn as sns\n",
        "sns.set_theme()\n",
        "import gym\n",
        "import random\n",
        "import tensorflow as tf\n",
        "from tensorflow.keras.models import Sequential\n",
        "from tensorflow.keras.layers import Dense\n",
        "from sklearn.model_selection import train_test_split\n",
        "from tensorflow.keras.callbacks import EarlyStopping\n",
        "from sklearn.preprocessing import StandardScaler\n",
        "import contextlib\n",
        "import os\n",
        "from tqdm import tqdm\n",
        "from sklearn.utils import shuffle"
      ]
    },
    {
      "cell_type": "markdown",
      "metadata": {
        "id": "rP_VF0UDfIBw"
      },
      "source": [
        "##Basic strategy evaluation."
      ]
    },
    {
      "cell_type": "markdown",
      "metadata": {
        "id": "RrdcbKydxMmX"
      },
      "source": [
        "Let's first create our Blackjack class. We will use it to simulate a blackjack round/game with a dealer and a single player that follows the basic strategy. The idea is to simulate many rounds to analyze the player's chances."
      ]
    },
    {
      "cell_type": "code",
      "execution_count": null,
      "metadata": {
        "id": "iFkXUpJiHzzb"
      },
      "outputs": [],
      "source": [
        "###meter más jugadores para que el agente pueda decidir cuando salirse?"
      ]
    },
    {
      "cell_type": "code",
      "execution_count": null,
      "metadata": {
        "colab": {
          "base_uri": "https://localhost:8080/"
        },
        "id": "32JTPjBj51LR",
        "outputId": "efb14897-9e2d-4d34-bbbd-170da3206606"
      },
      "outputs": [
        {
          "name": "stderr",
          "output_type": "stream",
          "text": [
            "/usr/local/lib/python3.10/dist-packages/ipykernel/ipkernel.py:283: DeprecationWarning: `should_run_async` will not call `transform_cell` automatically in the future. Please pass the result to `transformed_cell` argument and any exception that happen during thetransform in `preprocessing_exc_tuple` in IPython 7.17 and above.\n",
            "  and should_run_async(code)\n"
          ]
        }
      ],
      "source": [
        "class BlackjackBS():\n",
        "  def __init__(self, bjRatio=(3/2), playersMoney=100, minBet=10, nDecks=6, hitsSoft17=True, doubleAfterSplit=True):\n",
        "    '''\n",
        "    bjRatio: the ratio that the house pays when the player gets a blackjack AND the dealer doesn't. If 3 to 2, then the house pays 1.5 the bet.\n",
        "    playersMoney: the total money on the player's wallet.\n",
        "    minBet: the minimum bet requiered to enter the table, we asume that the player will always bet this amount.\n",
        "    nDecks: number of decks to be used.\n",
        "    hitsSoft17: True or False depending whether the dealer hits on Ace and 6 or doesn't.\n",
        "    doubleAfterSplit: indicates whether the player can double down after splitting.\n",
        "      Observations:\n",
        "    Basic strategy obtained from https://www.techopedia.com/gambling-guides/blackjack-strategy\n",
        "    We won't allow the player to surrender since most casinos don't have this variant.\n",
        "    We won't consider insurance (according to the basic strategy the player most never buy it anyways).\n",
        "    For the coding we won't consider the card suits since they don't matter in this game.\n",
        "    The player will only get one more card if he doubles down.\n",
        "    We asume that the player will always have money for splitting or doubling down (meaning he can have negative earnings).\n",
        "    '''\n",
        "    self.bjRatio = bjRatio\n",
        "    self.playersMoney = playersMoney\n",
        "    self.minBet = minBet\n",
        "    self.nDecks = nDecks\n",
        "    self.hitsSoft17 = hitsSoft17\n",
        "    self.doubleAfterSplit = doubleAfterSplit\n",
        "    self.values = [2, 3, 4, 5, 6, 7, 8, 9, 10, 10, 10, 10, 11] #11 will be treated as an ace\n",
        "    self.whichDeck = 'original' #'original' indicates the original deck, 'remainder' for when the shuffled remainder of the deck is being used\n",
        "    #to continue the hand in case the original deck is empty in the middle of a round.\n",
        "    self.wins = defaultdict(int) #dictonary containing the count for wins for 'player' and 'dealer' and the amount of 'pushes'\n",
        "    self.shuffle()\n",
        "    self.remainder = [] #contains the cards played after each round.\n",
        "    self.dealer = [] #dealer's hand\n",
        "    self.player = [[]] #player's hand, a list of lists (since he can have multiple hands after splitting)\n",
        "    self.doubledDown = [False] #boolean values indicating whether a hand has been doubled down\n",
        "    self.numSplits = 0 #to later obtain the total number of hands played\n",
        "\n",
        "  def shuffle(self):\n",
        "    if self.whichDeck=='original':\n",
        "      self.deck = [value for value in self.values for i in range(4)] * self.nDecks\n",
        "      random.shuffle(self.deck)\n",
        "      self.remainder = []\n",
        "    elif self.whichDeck=='remainder':\n",
        "      random.shuffle(self.remainder)\n",
        "      self.deck = self.remainder.copy()\n",
        "      self.remainder = []\n",
        "\n",
        "  def checkCardsLeft(self):\n",
        "    '''\n",
        "    In case there are no more cards left in the deck, it shuffles and uses the remaining cards to finish the hand.\n",
        "    It is called when someone wishes to hit.\n",
        "    '''\n",
        "    if len(self.deck) == 0: #no more cards left\n",
        "      self.whichDeck = 'remainder'\n",
        "      self.shuffle()\n",
        "    else:\n",
        "      return\n",
        "\n",
        "  def hit(self, who, index=0):\n",
        "    '''\n",
        "    who: 'dealer' or 'player'.\n",
        "    index: the index of the hand that the player wants to hit (in case he splitted).\n",
        "    '''\n",
        "    self.checkCardsLeft()\n",
        "    if who=='dealer':\n",
        "      self.dealer.append(self.deck.pop())\n",
        "    elif who=='player':\n",
        "      self.player[index].append(self.deck.pop())\n",
        "\n",
        "  def dealersTurn(self):\n",
        "    '''\n",
        "    Hits until the sum is more or equal to 17. Handles special case of soft 17 and of aces valued as 11 needing to change to 1.\n",
        "    '''\n",
        "    while sum(self.dealer) < 17:\n",
        "      self.hit('dealer')\n",
        "      if sum(self.dealer) > 21 and 11 in self.dealer:\n",
        "        ind = self.dealer.index(11)\n",
        "        self.dealer[ind] = 1\n",
        "      if sum(self.dealer) == 17 and 11 in self.dealer and self.hitsSoft17: #soft 17\n",
        "        self.hit('dealer')\n",
        "        if sum(self.dealer) > 21:\n",
        "          ind = self.dealer.index(11)\n",
        "          self.dealer[ind] = 1\n",
        "\n",
        "  def win(self, blackjack=False, doubledDown=False):\n",
        "    self.wins['player'] += 1\n",
        "    if blackjack:\n",
        "      self.playersMoney += self.minBet + self.bjRatio*self.minBet\n",
        "    else:\n",
        "      if not doubledDown:\n",
        "        self.playersMoney += 2*self.minBet\n",
        "      else:\n",
        "        self.playersMoney += 4*self.minBet\n",
        "\n",
        "  def loss(self):\n",
        "    self.wins['dealer'] += 1\n",
        "\n",
        "  def push(self):\n",
        "    self.wins['pushes'] += 1\n",
        "    self.playersMoney += self.minBet\n",
        "\n",
        "  def split(self, index):\n",
        "    '''\n",
        "    Obtains the index of the hand the player wishes to split (in case he already has more than one hand).\n",
        "    Returns the splited hand, for example [[4, 5], [2, 2]] returns [[4, 5], [2], [2]] for index=1\n",
        "    '''\n",
        "    self.playersMoney -= self.minBet\n",
        "    splitted = []\n",
        "    for i, hand in enumerate(self.player):\n",
        "      if i == index:\n",
        "        splitted.extend([[item] for item in hand])\n",
        "      else:\n",
        "        splitted.append(hand)\n",
        "    self.player = splitted\n",
        "    self.doubledDown[index:index+1] = [False, False]\n",
        "\n",
        "  def simulation(self, n):\n",
        "    '''\n",
        "    n: number of rounds to simulate.\n",
        "    We created this function since we can't include a for loop in round() because we call it recursively in\n",
        "    case of a split.\n",
        "    '''\n",
        "    for _ in range(n):\n",
        "      self.round()\n",
        "\n",
        "  def round(self):\n",
        "    '''\n",
        "    Conducts a single round of blackjack, from when the player places his bet to when the round finishes and\n",
        "    the player is handed money or not.\n",
        "    '''\n",
        "    #dealer hands cards:\n",
        "    if self.player==[[]]: #this means the function hasn't been called recursively after a split\n",
        "      self.playersMoney -= self.minBet\n",
        "      self.hit('player', 0)\n",
        "      self.hit('dealer')\n",
        "      self.hit('player', 0)\n",
        "      self.hit('dealer')\n",
        "    else: #the dealer gives a card to each hand after a split\n",
        "      for index, hand in enumerate(self.player):\n",
        "        if len(hand) == 1:\n",
        "          self.hit('player', index)\n",
        "\n",
        "    #player's decisions:\n",
        "    for index, hand in enumerate(self.player):\n",
        "      #win or loose will be determined after the for loop\n",
        "\n",
        "      #player gets a hand where he must split\n",
        "      if hand[0] == hand[1] and len(hand)==2: #pair\n",
        "        def func(p, a, b):\n",
        "          return hand[0]==p and self.dealer[-1] in range(a, b+1)\n",
        "        if self.doubleAfterSplit:\n",
        "          if hand[0]==11 or hand[0]==8 or func(2,2,7) or func(3,2,7) or func(4,5,6) or func(6,2,6) or func(7,2,7) or func(9,2,6) or func(9,8,9):\n",
        "            #split:\n",
        "            self.split(index)\n",
        "            self.round()\n",
        "            return\n",
        "        else:\n",
        "          if hand[0]==11 or hand[0]==8 or func(2,4,7) or func(3,4,7) or func(6,3,6) or func(7,2,7) or func(9,2,6) or func(9,8,9):\n",
        "            #split:\n",
        "            self.split(index)\n",
        "            self.round()\n",
        "            return\n",
        "\n",
        "      #player gets a blackjack or a hand where he must stand\n",
        "      #blackjack = hand[0]+hand[1]==21\n",
        "      twentyOne = sum(hand)==21\n",
        "      cond1 = hand[0]==hand[1]==10\n",
        "      cond2 = hand[0]==hand[1]==9 and self.dealer[-1] in (7,10,11) and len(hand)==2\n",
        "      if 11 in hand:\n",
        "        indx11 = hand.index(11)\n",
        "        cond3 = sum(hand[:indx11] + hand[indx11+1:])==8\n",
        "        cond4 = sum(hand[:indx11] + hand[indx11+1:])==7 and self.dealer[-1] in (2,7,8)\n",
        "        cond8 = sum(hand[:indx11] + hand[indx11+1:])==7 and self.dealer[-1] in range(3, 7) and len(hand)>2\n",
        "      else:\n",
        "        cond3 = False\n",
        "        cond4 = False\n",
        "        cond8 = False\n",
        "      cond5 = sum(hand)==17 and 11 not in hand\n",
        "      cond6 = sum(hand)==12 and 11 not in hand and self.dealer[-1] in (4,5,6)\n",
        "      cond7 = sum(hand) in range(13, 17) and 11 not in hand and self.dealer[-1] in range(2, 7)\n",
        "      if twentyOne or cond1 or cond2 or cond3 or cond4 or cond5 or cond6 or cond7 or cond8:\n",
        "        #stand:\n",
        "        continue\n",
        "\n",
        "      #Se usan en los ifs de abajo:\n",
        "      def func1(s, a, b):\n",
        "        return sum(hand)==s and self.dealer[-1] in range(a, b+1) and 11 not in hand\n",
        "      def func2(p, a, b):\n",
        "        if 11 in hand:\n",
        "          indx11 = hand.index(11)\n",
        "          return sum(hand[:indx11] + hand[indx11+1:])==p and self.dealer[-1] in range(a, b+1)\n",
        "        else:\n",
        "          return False\n",
        "      def func3(p, a, b):\n",
        "        return len(hand)==2 and hand[0]==hand[1]==p and self.dealer[-1] in range(a, b+1)\n",
        "\n",
        "      #player gets a sum straight away (without hitting) where he must double down\n",
        "      if len(hand)==2:\n",
        "        if func1(9,3,6) or func1(10,2,9) or sum(hand)==11 or func2(2,5,6) or func2(3,5,6) or func2(4,4,6) or func2(5,4,6) or func2(6,3,6) or func2(7,3,6) or func3(5,2,9):\n",
        "          if self.doubleAfterSplit or (not self.doubleAfterSplit and len(self.player)==1):               ###!! added\n",
        "            #double down:\n",
        "            self.playersMoney -= self.minBet               ###!! must be paid 4 times initial bet then\n",
        "            self.hit('player', index)\n",
        "            self.doubledDown[index] = True\n",
        "            continue\n",
        "          elif not self.doubleAfterSplit and len(self.player)>1:\n",
        "            #hit\n",
        "            self.hit('player', index)\n",
        "            self.round()\n",
        "            return\n",
        "\n",
        "      elif len(hand)>2: #after hitting\n",
        "        if func1(9,3,6) or func1(10,2,9) or sum(hand)==11 or func2(2,5,6) or func2(3,5,6) or func2(4,4,6) or func2(5,4,6) or func2(6,3,6):\n",
        "          if not self.doubledDown[index]:\n",
        "            #hit:\n",
        "            self.hit('player', index)\n",
        "            self.round()\n",
        "            return\n",
        "          else:\n",
        "            continue\n",
        "\n",
        "      #player has a hand where he must hit\n",
        "      cond1 = sum(hand)<=8 or func1(9,2,2) or func1(9,7,11) or func1(10,10,11) or func1(12,2,3)\n",
        "      cond2 = any([func1(i,7,11) for i in range(12, 17)])\n",
        "      cond3 = func2(2,2,4) or func2(3,2,4) or func2(4,2,3) or func2(5,2,3) or func2(6,2,2) or func2(7,9,11)\n",
        "      cond4 = any([func2(i,7,11) for i in range(2, 7)])\n",
        "      if self.doubleAfterSplit:\n",
        "        cond5 = func3(2,8,11) or func3(3,8,11) or func3(4,2,4) or func3(4,7,11) or func3(5,10,11) or func3(6,7,11) or func3(7,8,11)       #\n",
        "      else:\n",
        "         cond5 = func3(2,2,3) or func3(2,8,11) or func3(3,2,3) or func3(3,8,11) or func3(4,2,11) or func3(5,10,11) or func3(6,2,2) or func3(6,7,11) or func3(7,8,11)\n",
        "      if cond1 or cond2 or cond3 or cond4 or cond5:\n",
        "        if not self.doubledDown[index]:\n",
        "          #hit:\n",
        "          self.hit('player', index)\n",
        "          self.round()\n",
        "          return\n",
        "        else:\n",
        "          continue\n",
        "\n",
        "        ind = self.dealer.index(11)\n",
        "        self.dealer[ind] = 1\n",
        "\n",
        "      #player has more than 21\n",
        "      if sum(hand)>21:\n",
        "        if 11 in hand:\n",
        "          #we replace the first 11 with a 1\n",
        "          ind = hand.index(11)\n",
        "          hand[ind] = 1\n",
        "          self.player[index] = hand\n",
        "          self.round()\n",
        "          return\n",
        "      else:\n",
        "        continue\n",
        "\n",
        "    #End of round, now comes the dealer's turn and discover who won\n",
        "    self.dealersTurn()\n",
        "\n",
        "    for index, hand in enumerate(self.player):\n",
        "      if hand[0]+hand[1]==21 and self.dealer[0]+self.dealer[1]!=21:\n",
        "        self.win(blackjack=True) #blackjack\n",
        "      elif hand[0]+hand[1]==21 and self.dealer[0]+self.dealer[1]==21:\n",
        "        self.push()\n",
        "      elif self.dealer[0]+self.dealer[1]==21:\n",
        "        self.loss()\n",
        "      elif sum(hand)>21:\n",
        "        self.loss()\n",
        "      elif sum(hand)==21:\n",
        "        if sum(self.dealer)==21:\n",
        "          self.push()\n",
        "        else:\n",
        "          if self.doubledDown[index]:\n",
        "            self.win(blackjack=False, doubledDown=True)\n",
        "          else:\n",
        "            self.win(blackjack=False, doubledDown=False)\n",
        "      elif sum(self.dealer)==sum(hand):\n",
        "        self.push()\n",
        "      elif sum(hand)>sum(self.dealer):\n",
        "        if self.doubledDown[index]:\n",
        "          self.win(blackjack=False, doubledDown=True)\n",
        "        else:\n",
        "          self.win(blackjack=False, doubledDown=False)\n",
        "      elif sum(hand)<sum(self.dealer):\n",
        "        if sum(self.dealer)>21:\n",
        "          if self.doubledDown[index]:\n",
        "            self.win(blackjack=False, doubledDown=True)\n",
        "          else:\n",
        "            self.win(blackjack=False, doubledDown=False)\n",
        "        else:\n",
        "          self.loss()\n",
        "\n",
        "    #Finally we check if we used the original or remainder deck in this round:\n",
        "    if self.whichDeck=='remainder':\n",
        "      #we shuffle all the cards and set the remainder deck to an empty list\n",
        "      self.whichDeck = 'original'\n",
        "      self.shuffle()\n",
        "    elif self.whichDeck=='original':\n",
        "      #we add the played cards to the remainder deck\n",
        "      self.remainder.extend(self.dealer)\n",
        "      self.remainder.extend(item for sublist in self.player for item in sublist)\n",
        "\n",
        "    self.numSplits += len(self.player)-1\n",
        "    #we empty the hands\n",
        "    self.dealer = []\n",
        "    self.player = [[]]\n",
        "    self.doubledDown = [False]"
      ]
    },
    {
      "cell_type": "markdown",
      "metadata": {
        "id": "Rpu2JPfiyPjj"
      },
      "source": [
        "Let's now simulate a million rounds to see the overall number of wins, losses, and pushes/ties."
      ]
    },
    {
      "cell_type": "code",
      "execution_count": null,
      "metadata": {
        "colab": {
          "base_uri": "https://localhost:8080/"
        },
        "id": "1evDSAeZ5lXw",
        "outputId": "b7a13478-b18f-4a2a-bc65-c0297633fcf6"
      },
      "outputs": [
        {
          "name": "stdout",
          "output_type": "stream",
          "text": [
            "\t1,000,000 blackjack hands simulation playing a perfect basic strategy\n",
            "\n",
            "Player's money: -355150.0\n",
            "Results dictionary: defaultdict(<class 'int'>, {'player': 443618, 'pushes': 86721, 'dealer': 498957})\n",
            "\n",
            "\n",
            "Win percentage: 43.10%\n",
            "Loss percentage: 48.48%\n",
            "Push percentage: 8.43%\n"
          ]
        }
      ],
      "source": [
        "n = 1000000\n",
        "bj = BlackjackBS()\n",
        "bj.simulation(n)\n",
        "\n",
        "handsPlayed = n + bj.numSplits\n",
        "\n",
        "print('\\t1,000,000 blackjack hands simulation playing a perfect basic strategy\\n')\n",
        "print(f'Player\\'s money: {bj.playersMoney}')\n",
        "print(f'Results dictionary: {bj.wins}')\n",
        "print('\\n')\n",
        "print(f'Win percentage: {(bj.wins[\"player\"]/handsPlayed)*100:.2f}%')\n",
        "print(f'Loss percentage: {(bj.wins[\"dealer\"]/handsPlayed)*100:.2f}%')\n",
        "print(f'Push percentage: {(bj.wins[\"pushes\"]/handsPlayed)*100:.2f}%')"
      ]
    },
    {
      "cell_type": "markdown",
      "metadata": {
        "id": "M8M7YytJy40p"
      },
      "source": [
        "Now let's simulate for several number of rounds to look at the distribution of the player's earnings."
      ]
    },
    {
      "cell_type": "code",
      "execution_count": null,
      "metadata": {
        "id": "WEwOADJPBFwv"
      },
      "outputs": [],
      "source": [
        "def montecarlo(rounds=[30], n=10000):\n",
        "  '''\n",
        "  Obtains several graphs for the distribution of the earnings for different number of rounds.\n",
        "  '''\n",
        "  plt.figure(figsize=(10, 7))\n",
        "  plt.title('Earnings after different number of rounds')\n",
        "  plt.xlabel('$')\n",
        "  for i in rounds:\n",
        "    arr = []\n",
        "    for _ in range(n):\n",
        "      bj = BlackjackBS()\n",
        "      bj.simulation(i)\n",
        "      arr.append(bj.playersMoney)\n",
        "    sns.kdeplot(arr, label=f'{i} rounds, mean: {np.mean(arr):.2f}, std: {np.std(arr):.2f}');\n",
        "  plt.axvline(100, color='black', linestyle='--', label='$100')\n",
        "  plt.legend()"
      ]
    },
    {
      "cell_type": "code",
      "execution_count": null,
      "metadata": {
        "colab": {
          "base_uri": "https://localhost:8080/",
          "height": 650
        },
        "id": "1JLRQZrA2FKJ",
        "outputId": "8490f418-e490-4858-f3f1-a450e1805997"
      },
      "outputs": [
        {
          "data": {
            "image/png": "[encoded data removed]",
            "text/plain": [
              "<Figure size 1000x700 with 1 Axes>"
            ]
          },
          "metadata": {},
          "output_type": "display_data"
        }
      ],
      "source": [
        "montecarlo([20, 40, 60, 80, 100], 10000)"
      ]
    },
    {
      "cell_type": "markdown",
      "metadata": {
        "id": "lRW03cFowaf3"
      },
      "source": [
        "We see that our expected earning decreases but the variance increases the more rounds we play."
      ]
    },
    {
      "cell_type": "markdown",
      "metadata": {
        "id": "yhh6cur4fTqD"
      },
      "source": [
        "##Creating our agent."
      ]
    },
    {
      "cell_type": "markdown",
      "metadata": {
        "id": "t7X3LfFlmYsI"
      },
      "source": [
        "###Implementación sencilla de Q learning.\n",
        "\n",
        "Aplicamos Q-learning para que un agente aprenda a navegar un laberinto 3x3 con un hoyo en el centro (posición 1,1) y meta en (2,2), el cual es la única casilla con recompensa diferente de 0. A continuación implementamos la clase del laberinto y posteriormente aplicamos Q-learning para aprender la matríz de transición Q de estado-acción:"
      ]
    },
    {
      "cell_type": "code",
      "execution_count": null,
      "metadata": {
        "id": "_CvfKt-yGCMX"
      },
      "outputs": [],
      "source": [
        "class Env:\n",
        "    def __init__(self, hole=(1, 1), goal=(2, 2)):\n",
        "        self.state = (0, 0)  # initial position as coordinates\n",
        "        self.hole = hole\n",
        "        self.goal = goal\n",
        "        self.actions = [0, 1, 2, 3]  # 0: left, 1: down, 2: right, 3: up\n",
        "        self.map = [[0,1,2], [3,4,5], [6,7,8]]\n",
        "\n",
        "    def reset(self):\n",
        "        self.state = (0, 0)  # Reset to the initial position\n",
        "\n",
        "    def step(self, action):\n",
        "        if action not in self.actions:\n",
        "            raise ValueError('Not a valid action')\n",
        "\n",
        "        position = self.state\n",
        "\n",
        "        if action == 0:  # left\n",
        "            new_position = (position[0], max(position[1] - 1, 0))\n",
        "        elif action == 1:  # down\n",
        "            new_position = (min(position[0] + 1, 2), position[1])\n",
        "        elif action == 2:  # right\n",
        "            new_position = (position[0], min(position[1] + 1, 2))\n",
        "        else:  # up\n",
        "            new_position = (max(position[0] - 1, 0), position[1])\n",
        "\n",
        "        if new_position == self.hole:\n",
        "            self.reset()\n",
        "            return 0, True  # reward=0, done=True\n",
        "        elif new_position == self.goal:\n",
        "            self.reset()\n",
        "            return 1, True  # reward=1, done=True\n",
        "        else:\n",
        "            self.state = new_position\n",
        "            return 0, False"
      ]
    },
    {
      "cell_type": "code",
      "execution_count": null,
      "metadata": {
        "colab": {
          "base_uri": "https://localhost:8080/"
        },
        "id": "O6n0N8yw8fUl",
        "outputId": "76379540-7e56-4b38-9379-c2f5d9f868ac"
      },
      "outputs": [
        {
          "name": "stdout",
          "output_type": "stream",
          "text": [
            "Final Q-Table:\n",
            "[[4.39101722 4.62212339 4.62212339 4.39101722]\n",
            " [4.39101722 4.39101722 4.86539304 4.62212339]\n",
            " [4.62212339 5.12146636 4.86539304 4.86539304]\n",
            " [4.62212339 4.86539304 4.39101722 4.39101722]\n",
            " [0.         0.         0.         0.        ]\n",
            " [4.39101722 5.39101722 5.12146636 4.86539304]\n",
            " [4.86539304 4.86539304 5.12146636 4.62212339]\n",
            " [4.86539304 5.12146636 5.39101722 4.39101722]\n",
            " [0.         0.         0.         0.        ]]\n"
          ]
        }
      ],
      "source": [
        "# Initialize the Frozen Lake environment\n",
        "env = Env()\n",
        "\n",
        "# Q-learning parameters\n",
        "alpha = 0.8   # Learning rate\n",
        "gamma = 0.95  # Discount factor\n",
        "epsilon = 0.3 # Exploration rate\n",
        "num_episodes =  100000\n",
        "max_steps = 100\n",
        "\n",
        "# Initialize Q-table with zeros\n",
        "Q = np.zeros((9, len(env.actions)))\n",
        "\n",
        "# Q-learning algorithm\n",
        "for episode in range(num_episodes):\n",
        "    env.reset()\n",
        "    done = False\n",
        "    for step in range(max_steps):\n",
        "        if np.random.uniform(0, 1) < epsilon:\n",
        "            # Explore: choose a random action\n",
        "            action = random.choice(env.actions)\n",
        "        else:\n",
        "            # Exploit: choose the action with max value (greedy action)\n",
        "            action = np.argmax(Q[env.map[env.state[0]][env.state[1]], :]) #pasamos de coordenadas (i,j) del state a un entero con ayuda de env.map\n",
        "\n",
        "        state1 = env.map[env.state[0]][env.state[1]]\n",
        "        # Take the action and observe the next state and reward\n",
        "        reward, done = env.step(action) #al dar el step el env.state cambia\n",
        "\n",
        "        # Update Q-value\n",
        "        Q[state1, action] = Q[state1, action] + alpha * (reward + gamma * np.max(Q[env.map[env.state[0]][env.state[1]], :]) - Q[state1, action])\n",
        "\n",
        "        # If the episode is done, exit the loop\n",
        "        if done:\n",
        "            break\n",
        "\n",
        "# Print the final Q-table\n",
        "print(\"Final Q-Table:\")\n",
        "print(Q)"
      ]
    },
    {
      "cell_type": "code",
      "execution_count": null,
      "metadata": {
        "colab": {
          "base_uri": "https://localhost:8080/"
        },
        "id": "Uzw4BWriW01y",
        "outputId": "8f6cade2-a7ef-4d7e-8a0e-ef08e273b3db"
      },
      "outputs": [
        {
          "data": {
            "text/plain": [
              "array([[1, 2, 1],\n",
              "       [1, 0, 1],\n",
              "       [2, 2, 0]])"
            ]
          },
          "execution_count": 21,
          "metadata": {},
          "output_type": "execute_result"
        }
      ],
      "source": [
        "mat = []\n",
        "for i in Q:\n",
        "  mat.append(np.argmax(i))\n",
        "mat = np.array(mat)\n",
        "mat.reshape((3,3))"
      ]
    },
    {
      "cell_type": "markdown",
      "metadata": {
        "id": "F4KjoCGgmETS"
      },
      "source": [
        "Hasta que ajustamos el epsilon a 0.3, haciendo que nuestro agente explore más, finalmente llegamos a tener acciones para las posiciones (0,1), (0,2) y (1,2)."
      ]
    },
    {
      "cell_type": "markdown",
      "metadata": {
        "id": "w-cOS1nXE2lN"
      },
      "source": [
        "###Obtención gradual de DQN.\n",
        "\n"
      ]
    },
    {
      "cell_type": "markdown",
      "metadata": {
        "id": "ArPNXn2uDrcs"
      },
      "source": [
        "El proceso de entrenamiento de la red artificial que aproxima la función Q(s, a) para que nuestro agente llegue a una política óptima lo dividimos en tres pasos. Primero obtuvimos los pesos iniciales de la red, permitiendole al agente únicamente elegir una acción de entre 'hit', 'stand', y 'double down'. De aquí obtuvimos datos X, 'y' donde la X contiene un vector que describe el estado y la acción y la 'y' la recompensa obtenida. Después entrenamos la red y con los pesos obtenidos volvimos a obtener datos pero ahora introduciendo la acción de 'split', la cual introduce más complejidad en el cálculo de la recompensa pues genera más de una 'hand' que se enfrenta a la del dealer. En esta parte hicimos que el agente siempre elija split cuando se tenga un par. Posteriormente volvimos a entrenar la red. Finalmente, con estos nuevos pesos generamos datos y continuamos entrenando a la red de forma iterativa en un entorno 'real' abierto a todas las posibilidades en la que nuestro agente opta por una política epsilon greedy, la cual hace uso de la función Q(s ,a) que cuenta con pesos iniciales previamente construidos, por lo que se espera que se converja a una política óptima de forma más rápida."
      ]
    },
    {
      "cell_type": "markdown",
      "metadata": {
        "id": "zgzVy7s3Kjva"
      },
      "source": [
        "####Obtención de pesos iniciales:"
      ]
    },
    {
      "cell_type": "markdown",
      "metadata": {
        "id": "25Z1d_DVcOrU"
      },
      "source": [
        "La siguiente clase es para simular rondas de blackjack de un jugador contra un dealer que usa 6 card decks. En estas rondas se tomará una sola acción aleatoria, de modo que la ronda acabe inmediatamente después y se obtenga una recompensa. Por ello, omitimos la acción de split, ya que no hay forma de obtener una recompensa inmediata. Entrenaremos una red neuronal fully connected con estos datos: 'X': 15 características del estado y la acción, 'y': recompensa. Optamos por 15 características: la cuenta de cartas con face value de 2 que han salido, de 3, 4, 5, 6, 7, 8, 9, 10 y 11, así como el running count del método de contar cartas high-low, el face value de la carta visible del dealer, la suma de las dos cartas del jugador, el número de aces que tiene el jugador, y finalmente la acción a tomar: 0 para stand, 1 para hit, y 2 para double."
      ]
    },
    {
      "cell_type": "code",
      "execution_count": null,
      "metadata": {
        "colab": {
          "base_uri": "https://localhost:8080/"
        },
        "id": "azFzAXzfefhl",
        "outputId": "5dc3d4e5-4d87-4f31-871a-5e937b16d169"
      },
      "outputs": [
        {
          "output_type": "stream",
          "name": "stderr",
          "text": [
            "/usr/local/lib/python3.10/dist-packages/ipykernel/ipkernel.py:283: DeprecationWarning: `should_run_async` will not call `transform_cell` automatically in the future. Please pass the result to `transformed_cell` argument and any exception that happen during thetransform in `preprocessing_exc_tuple` in IPython 7.17 and above.\n",
            "  and should_run_async(code)\n"
          ]
        }
      ],
      "source": [
        "class bjData():\n",
        "  def __init__(self, nDecks=6, hitsSoft17=True):\n",
        "    '''\n",
        "    nDecks: number of decks to be used.\n",
        "    hitsSoft17: True or False depending whether the dealer hits on Ace and 6 or doesn't.\n",
        "      Observations:\n",
        "    We allow the player to double down after splitting.\n",
        "    We won't allow the player to surrender since most casinos don't have this variant.\n",
        "    We won't consider insurance (according to the basic strategy the player most never buy it anyways).\n",
        "    '''\n",
        "    self.nDecks = nDecks\n",
        "    self.hitsSoft17 = hitsSoft17\n",
        "    self.values = [2, 3, 4, 5, 6, 7, 8, 9, 10, 10, 10, 10, 11] #11 will be treated as an ace\n",
        "    self.whichDeck = 'original'\n",
        "    self.shuffle()\n",
        "    self.remainder = [] #contains the cards played after each round.\n",
        "    self.dealer = [] #dealer's hand\n",
        "    self.player = [] #player's hand, a list of lists (since he can have multiple hands after splitting)\n",
        "    self.doubledDown = False #boolean values indicating whether a hand has been doubled down\n",
        "    self.actions = {'stand': 0, 'hit': 1, 'double': 2}\n",
        "    self.features = [0] * 15\n",
        "    self.X = []\n",
        "    self.y = []\n",
        "\n",
        "  def shuffle(self):\n",
        "    if self.whichDeck=='original':\n",
        "      self.features = [0] * 15\n",
        "      self.deck = [value for value in self.values for i in range(4)] * self.nDecks\n",
        "      random.shuffle(self.deck)\n",
        "      self.remainder = []\n",
        "    elif self.whichDeck=='remainder':\n",
        "      random.shuffle(self.remainder)\n",
        "      self.deck = self.remainder.copy()\n",
        "      self.remainder = []\n",
        "\n",
        "  def popF(self):\n",
        "    '''\n",
        "    Aparte de self.deck.pop(), añadimos la carta a la cuenta de cada carta en nuestra list de features.\n",
        "    '''\n",
        "    carta = self.deck.pop()\n",
        "    self.remainder.append(carta)\n",
        "    self.features[carta-2] += 1\n",
        "    if carta<7:\n",
        "      self.features[10] += 1 #features[10] tiene la cuenta de high/low cards\n",
        "    elif carta>9:\n",
        "      self.features[10] -= 1\n",
        "    else:\n",
        "      pass #se suma 0\n",
        "\n",
        "    return carta\n",
        "\n",
        "  def checkCardsLeft(self):\n",
        "    '''\n",
        "    In case there are no more cards left in the deck, it shuffles and uses the remaining cards to finish the hand.\n",
        "    It is called when someone wishes to hit.\n",
        "    '''\n",
        "    if len(self.deck) == 0: #no more cards left\n",
        "      self.whichDeck = 'remainder'\n",
        "      self.shuffle()\n",
        "    else:\n",
        "      return\n",
        "\n",
        "  def hit(self, who, index=0):\n",
        "    '''\n",
        "    who: 'dealer' or 'player'.\n",
        "    index: the index of the hand that the player wants to hit (in case he splitted).\n",
        "    '''\n",
        "    self.checkCardsLeft()\n",
        "    if who=='dealer':\n",
        "      self.dealer.append(self.popF())\n",
        "    elif who=='player':\n",
        "      #self.player[index].append(self.popF())\n",
        "      self.player.append(self.popF())\n",
        "\n",
        "  def dealersTurn(self):\n",
        "    '''\n",
        "    Hits until the sum is more or equal to 17. Handles special case of soft 17 and of aces valued as 11 needing to change to 1.\n",
        "    '''\n",
        "    while sum(self.dealer) < 17:\n",
        "      self.hit('dealer')\n",
        "      if sum(self.dealer) > 21 and 11 in self.dealer:\n",
        "        ind = self.dealer.index(11)\n",
        "        self.dealer[ind] = 1\n",
        "      if sum(self.dealer) == 17 and 11 in self.dealer and self.hitsSoft17: #soft 17\n",
        "        self.hit('dealer')\n",
        "        if sum(self.dealer) > 21:\n",
        "          ind = self.dealer.index(11)\n",
        "          self.dealer[ind] = 1\n",
        "\n",
        "  def win(self, blackjack=False, doubledDown=False):\n",
        "    self.wins['player'] += 1\n",
        "    if blackjack:\n",
        "      self.playersMoney += self.minBet + self.bjRatio*self.minBet\n",
        "    else:\n",
        "      if not doubledDown:\n",
        "        self.playersMoney += 2*self.minBet\n",
        "      else:\n",
        "        self.playersMoney += 4*self.minBet\n",
        "\n",
        "  def loss(self):\n",
        "    self.wins['dealer'] += 1\n",
        "\n",
        "  def push(self):\n",
        "    self.wins['pushes'] += 1\n",
        "    self.playersMoney += self.minBet\n",
        "\n",
        "  def simulation(self, n):\n",
        "    '''\n",
        "    n: number of rounds to simulate.\n",
        "    We created this function since we can't include a for loop in round() because we call it recursively in\n",
        "    case of a split.\n",
        "    '''\n",
        "    for _ in range(n):\n",
        "      self.round()\n",
        "    return np.array(self.X), np.array(self.y)\n",
        "\n",
        "  def cardsEndOfRound(self):\n",
        "    '''\n",
        "    We check if we used the original or remainder deck in this round:\n",
        "    '''\n",
        "    self.dealer = []\n",
        "    self.player = []\n",
        "    if self.whichDeck=='remainder':\n",
        "      #we shuffle all the cards and set the remainder deck to an empty list\n",
        "      self.whichDeck = 'original'\n",
        "      self.shuffle()\n",
        "\n",
        "  def round(self):\n",
        "    '''\n",
        "    Conducts a single round of blackjack, from when the player places his bet to when the round finishes and\n",
        "    the player is handed money or not.\n",
        "    '''\n",
        "    reward = 0\n",
        "\n",
        "    #dealer hands cards:\n",
        "    self.hit('player')\n",
        "    self.hit('dealer')\n",
        "    self.hit('player')\n",
        "    self.hit('dealer')\n",
        "\n",
        "    self.features[11] = self.dealer[1]\n",
        "    self.features[12] = sum(self.player)\n",
        "    self.features[13] = int(11 in self.player)\n",
        "\n",
        "    #player's decisions:\n",
        "    if (self.player[0] + self.player[1]) == 21: #blackjack\n",
        "      action = None\n",
        "    else:\n",
        "      #Random action:\n",
        "      action = random.choice(list(self.actions.keys()))\n",
        "      self.features[14] = self.actions[action]\n",
        "      feat = self.features\n",
        "      feat[10] /= self.nDecks\n",
        "      if action == 'double':\n",
        "        self.hit('player')\n",
        "        self.doubledDown = True\n",
        "      elif action == 'hit':\n",
        "        self.hit('player')\n",
        "      elif action == 'stand':\n",
        "        pass\n",
        "\n",
        "    #End of round, now comes the dealer's turn and discover who won\n",
        "    self.dealersTurn()\n",
        "\n",
        "   # print(self.player, self.dealer)\n",
        "    if sum(self.player)==21 and sum(self.dealer)==21:\n",
        "      reward = 0\n",
        "    elif sum(self.player)==21 and sum(self.dealer)!=21:\n",
        "      reward = 2 if self.doubledDown else 1\n",
        "    elif sum(self.dealer)==21:\n",
        "      reward = -2 if self.doubledDown else -1\n",
        "    elif sum(self.player)>21:\n",
        "      reward = -2 if self.doubledDown else -1\n",
        "    elif sum(self.dealer)==sum(self.player):\n",
        "      reward = 0\n",
        "    elif sum(self.player)>sum(self.dealer):\n",
        "      reward = 2 if self.doubledDown else 1\n",
        "    elif sum(self.player)<sum(self.dealer):\n",
        "      if sum(self.dealer)>21:\n",
        "        reward = 2 if self.doubledDown else 1\n",
        "      else:\n",
        "        reward = -2 if self.doubledDown else -1\n",
        "\n",
        "    self.cardsEndOfRound()\n",
        "\n",
        "    if action != None:\n",
        "      self.X.append(feat)\n",
        "      self.y.append(reward)\n",
        "\n",
        "    self.doubledDown = False"
      ]
    },
    {
      "cell_type": "markdown",
      "metadata": {
        "id": "D_NEMEkxhRFk"
      },
      "source": [
        "Ahora simulamos 1 millón de rondas y obtenemos la recompensa para cada una al tomar una acción aleatoria:"
      ]
    },
    {
      "cell_type": "code",
      "execution_count": null,
      "metadata": {
        "id": "NIE8CfN57_gF"
      },
      "outputs": [],
      "source": [
        "simul = bjData()\n",
        "X, y = simul.simulation(1000000)"
      ]
    },
    {
      "cell_type": "markdown",
      "metadata": {
        "id": "gE06OCVthiT6"
      },
      "source": [
        "Entrenamos la red neuronal, con tres hidden layers the 64, 32, y 16 neuronas y usando la Huber loss como se hizo en el artículo https://cs230.stanford.edu/files_winter_2018/projects/6940282.pdf"
      ]
    },
    {
      "cell_type": "code",
      "execution_count": null,
      "metadata": {
        "colab": {
          "base_uri": "https://localhost:8080/"
        },
        "id": "GaBK_N7aSx2T",
        "outputId": "64f1750b-3505-4198-c62e-8b209de6cc2a"
      },
      "outputs": [
        {
          "output_type": "stream",
          "name": "stdout",
          "text": [
            "Epoch 1/5\n",
            "26786/26790 [============================>.] - ETA: 0s - loss: 0.6298"
          ]
        },
        {
          "output_type": "stream",
          "name": "stderr",
          "text": [
            "WARNING:tensorflow:Early stopping conditioned on metric `val_loss` which is not available. Available metrics are: loss\n"
          ]
        },
        {
          "output_type": "stream",
          "name": "stdout",
          "text": [
            "\b\b\b\b\b\b\b\b\b\b\b\b\b\b\b\b\b\b\b\b\b\b\b\b\b\b\b\b\b\b\b\b\b\b\b\b\b\b\b\b\b\b\b\b\b\b\b\b\b\b\b\b\b\b\b\b\b\b\b\b\b\b\b\b\b\b\b\b\b\r26790/26790 [==============================] - 80s 3ms/step - loss: 0.6298\n",
            "Epoch 2/5\n",
            "26785/26790 [============================>.] - ETA: 0s - loss: 0.6213"
          ]
        },
        {
          "output_type": "stream",
          "name": "stderr",
          "text": [
            "WARNING:tensorflow:Early stopping conditioned on metric `val_loss` which is not available. Available metrics are: loss\n"
          ]
        },
        {
          "output_type": "stream",
          "name": "stdout",
          "text": [
            "\b\b\b\b\b\b\b\b\b\b\b\b\b\b\b\b\b\b\b\b\b\b\b\b\b\b\b\b\b\b\b\b\b\b\b\b\b\b\b\b\b\b\b\b\b\b\b\b\b\b\b\b\b\b\b\b\b\b\b\b\b\b\b\b\b\b\b\b\b\r26790/26790 [==============================] - 70s 3ms/step - loss: 0.6213\n",
            "Epoch 3/5\n",
            "26789/26790 [============================>.] - ETA: 0s - loss: 0.6213"
          ]
        },
        {
          "output_type": "stream",
          "name": "stderr",
          "text": [
            "WARNING:tensorflow:Early stopping conditioned on metric `val_loss` which is not available. Available metrics are: loss\n"
          ]
        },
        {
          "output_type": "stream",
          "name": "stdout",
          "text": [
            "\b\b\b\b\b\b\b\b\b\b\b\b\b\b\b\b\b\b\b\b\b\b\b\b\b\b\b\b\b\b\b\b\b\b\b\b\b\b\b\b\b\b\b\b\b\b\b\b\b\b\b\b\b\b\b\b\b\b\b\b\b\b\b\b\b\b\b\b\b\r26790/26790 [==============================] - 71s 3ms/step - loss: 0.6213\n",
            "Epoch 4/5\n",
            "26766/26790 [============================>.] - ETA: 0s - loss: 0.6213"
          ]
        },
        {
          "output_type": "stream",
          "name": "stderr",
          "text": [
            "WARNING:tensorflow:Early stopping conditioned on metric `val_loss` which is not available. Available metrics are: loss\n"
          ]
        },
        {
          "output_type": "stream",
          "name": "stdout",
          "text": [
            "\b\b\b\b\b\b\b\b\b\b\b\b\b\b\b\b\b\b\b\b\b\b\b\b\b\b\b\b\b\b\b\b\b\b\b\b\b\b\b\b\b\b\b\b\b\b\b\b\b\b\b\b\b\b\b\b\b\b\b\b\b\b\b\b\b\b\b\b\b\r26790/26790 [==============================] - 68s 3ms/step - loss: 0.6213\n",
            "Epoch 5/5\n",
            "26790/26790 [==============================] - ETA: 0s - loss: 0.6213"
          ]
        },
        {
          "output_type": "stream",
          "name": "stderr",
          "text": [
            "WARNING:tensorflow:Early stopping conditioned on metric `val_loss` which is not available. Available metrics are: loss\n"
          ]
        },
        {
          "output_type": "stream",
          "name": "stdout",
          "text": [
            "26790/26790 [==============================] - 68s 3ms/step - loss: 0.6213\n",
            "2977/2977 [==============================] - 5s 2ms/step - loss: 0.6229\n",
            "Test loss: 0.6229022145271301\n"
          ]
        }
      ],
      "source": [
        "scaler = StandardScaler()\n",
        "X_scaled = scaler.fit_transform(X)\n",
        "\n",
        "xTrain, xTest, yTrain, yTest = train_test_split(X, y, test_size=0.1)\n",
        "\n",
        "model = Sequential()\n",
        "model.add(Dense(64, activation='relu'))\n",
        "model.add(Dense(32, activation='relu'))\n",
        "model.add(Dense(16, activation='relu'))\n",
        "model.add(Dense(1))\n",
        "\n",
        "model.compile(optimizer='adam', loss=tf.keras.losses.Huber())\n",
        "\n",
        "#Train:\n",
        "early_stopping = EarlyStopping(monitor='val_loss', patience=3, restore_best_weights=True)\n",
        "model.fit(xTrain, yTrain, epochs=5, callbacks=[early_stopping])\n",
        "\n",
        "test_loss = model.evaluate(xTest, yTest)\n",
        "print(f'Test loss: {test_loss}')"
      ]
    },
    {
      "cell_type": "markdown",
      "metadata": {
        "id": "xArd98cJhCci"
      },
      "source": [
        "Guardamos los pesos:"
      ]
    },
    {
      "cell_type": "code",
      "execution_count": null,
      "metadata": {
        "colab": {
          "base_uri": "https://localhost:8080/"
        },
        "id": "IELanPurg_Ep",
        "outputId": "f33b4f08-4298-4691-f33d-33f152b3603e"
      },
      "outputs": [
        {
          "output_type": "stream",
          "name": "stderr",
          "text": [
            "/usr/local/lib/python3.10/dist-packages/ipykernel/ipkernel.py:283: DeprecationWarning: `should_run_async` will not call `transform_cell` automatically in the future. Please pass the result to `transformed_cell` argument and any exception that happen during thetransform in `preprocessing_exc_tuple` in IPython 7.17 and above.\n",
            "  and should_run_async(code)\n"
          ]
        }
      ],
      "source": [
        "model.save_weights('initial_weights.h5')"
      ]
    },
    {
      "cell_type": "markdown",
      "metadata": {
        "id": "CV_0Mrr9Krx8"
      },
      "source": [
        "####Obtención de pesos al introducir split:"
      ]
    },
    {
      "cell_type": "markdown",
      "metadata": {
        "id": "f3_oHDNPidwN"
      },
      "source": [
        "Ahora crearemos una función donde se tendrá la política de la elección de acciones. Antes de que sea epsilon-greedy, simularemos algunos episodios en donde siempre que se tenga par se elija split para que esta acción no se vea en desventaja al tener valores q(s, a) iniciales desconocidos porque la red no ha visto (s, a=3) (split)."
      ]
    },
    {
      "cell_type": "markdown",
      "metadata": {
        "id": "x1eKANMsC8Xr"
      },
      "source": [
        "Evaluamos los pesos obtenidos anteriormente:"
      ]
    },
    {
      "cell_type": "code",
      "execution_count": null,
      "metadata": {
        "id": "gvxxSw2mRjRo"
      },
      "outputs": [],
      "source": [
        "model = Sequential()\n",
        "model.add(Dense(64, activation='relu'))\n",
        "model.add(Dense(32, activation='relu'))\n",
        "model.add(Dense(16, activation='relu'))\n",
        "model.add(Dense(1))\n",
        "model.compile(optimizer='adam', loss=tf.keras.losses.Huber())\n",
        "\n",
        "#We initialize model with dummy data:\n",
        "dummy_input = np.zeros((1, 15))  # Assuming your input has 15 features\n",
        "with contextlib.redirect_stdout(open(os.devnull, 'w')):\n",
        "  model.predict(dummy_input)\n",
        "model.load_weights('/content/initial_weights.h5')\n",
        "\n",
        "x = np.array([[0,0,0,0,0,0,0,0,0,0,0,10,8,0,2]])\n",
        "with contextlib.redirect_stdout(open(os.devnull, 'w')):\n",
        "  pred = model.predict(x)[0][0]\n",
        "pred"
      ]
    },
    {
      "cell_type": "code",
      "execution_count": null,
      "metadata": {
        "id": "HtgnDUDX19x5"
      },
      "outputs": [],
      "source": [
        "class bjDream():\n",
        "  def __init__(self, initialWeights, nDecks=6, hitsSoft17=True, epsilon=0.3):\n",
        "    '''\n",
        "    initialWeights: string with the route to the weights.h5 file to initialize the neural net.\n",
        "    nDecks: number of decks to be used.\n",
        "    hitsSoft17: True or False depending whether the dealer hits on Ace and 6 or doesn't.\n",
        "    epsilon: for the epsilon-greedy action policy.\n",
        "      Observations:\n",
        "    We allow the player to double down after splitting.\n",
        "    We won't allow the player to surrender since most casinos don't have this variant.\n",
        "    We won't consider insurance (according to the basic strategy the player most never buy it anyways).\n",
        "    There won't be an additional award for the agent for getting a blackjack.\n",
        "    '''\n",
        "    self.nDecks = nDecks\n",
        "    self.hitsSoft17 = hitsSoft17\n",
        "    self.epsilon = epsilon\n",
        "    self.values = [2, 3, 4, 5, 6, 7, 8, 9, 10, 10, 10, 10, 11] #11 will be treated as an ace\n",
        "    self.whichDeck = 'original'\n",
        "    self.shuffle()\n",
        "    self.remainder = [] #contains the cards played after each round.\n",
        "    self.dealer = [] #dealer's hand\n",
        "    self.player = [[]] #player's hand, a list of lists (since he can have multiple hands after splitting)\n",
        "    self.doubledDown = [False] #boolean values indicating whether a hand has been doubled down\n",
        "    self.stood = [False] #similar to doubledDown but with stand\n",
        "    self.actions = {'stand': 0, 'hit': 1, 'double': 2} #incluimos split después de entrenar con split forzoso al tener par\n",
        "    self.features = [0] * 15\n",
        "    self.features2 = [0] * 15\n",
        "    self.X = []\n",
        "    self.y = []\n",
        "    self.firstAction = None #the first action taken in a given hand\n",
        "    self.reward = 0\n",
        "\n",
        "    seed = 42\n",
        "    tf.random.set_seed(seed)\n",
        "    np.random.seed(seed)\n",
        "    random.seed(seed)\n",
        "\n",
        "    #Fully connected network architecture:\n",
        "    self.model = Sequential()\n",
        "    self.model.add(Dense(64, activation='relu'))\n",
        "    self.model.add(Dense(32, activation='relu'))\n",
        "    self.model.add(Dense(16, activation='relu'))\n",
        "    self.model.add(Dense(1))\n",
        "    self.model.compile(optimizer='adam', loss=tf.keras.losses.Huber())\n",
        "    #We initialize model with dummy data:\n",
        "    dummy_input = np.zeros((1, len(self.features)))  # Assuming your input has 15 features\n",
        "    self.model.predict(dummy_input)\n",
        "    self.model.load_weights(initialWeights)\n",
        "\n",
        "  def shuffle(self):\n",
        "    if self.whichDeck=='original':\n",
        "      self.features = [0] * 15\n",
        "      self.deck = [value for value in self.values for i in range(4)] * self.nDecks\n",
        "      random.shuffle(self.deck)\n",
        "      self.remainder = []\n",
        "    elif self.whichDeck=='remainder':\n",
        "      random.shuffle(self.remainder)\n",
        "      self.deck = self.remainder.copy()\n",
        "      self.remainder = []\n",
        "\n",
        "  def popF(self):\n",
        "    '''\n",
        "    Aparte de self.deck.pop(), añadimos la carta a la cuenta de cada carta en nuestra list de features.\n",
        "    '''\n",
        "    carta = self.deck.pop()\n",
        "    self.remainder.append(carta)\n",
        "    self.features[carta-2] += 1\n",
        "    if carta<7:\n",
        "      self.features[10] += 1 #features[10] tiene la cuenta de high/low cards\n",
        "    elif carta>9:\n",
        "      self.features[10] -= 1\n",
        "    else:\n",
        "      pass #se suma 0\n",
        "    return carta\n",
        "\n",
        "  def checkCardsLeft(self):\n",
        "    '''\n",
        "    In case there are no more cards left in the deck, it shuffles and uses the remaining cards to finish the hand.\n",
        "    It is called when someone wishes to hit.\n",
        "    '''\n",
        "    if len(self.deck) == 0: #no more cards left\n",
        "      self.whichDeck = 'remainder'\n",
        "      self.shuffle()\n",
        "    else:\n",
        "      return\n",
        "\n",
        "  def hit(self, who, index=0):\n",
        "    '''\n",
        "    who: 'dealer' or 'player'.\n",
        "    index: the index of the hand that the player wants to hit (in case he splitted).\n",
        "    '''\n",
        "    self.checkCardsLeft()\n",
        "    if who=='dealer':\n",
        "      self.dealer.append(self.popF())\n",
        "    elif who=='player':\n",
        "      self.player[index].append(self.popF())\n",
        "\n",
        "  def split(self, index):\n",
        "    '''\n",
        "    Obtains the index of the hand the player wishes to split (in case he already has more than one hand)\n",
        "    and returns the splited hand, for example [[4, 5], [2, 2]] returns [[4, 5], [2], [2]] for index=1\n",
        "    '''\n",
        "    splitted = []\n",
        "    for i, hand in enumerate(self.player):\n",
        "      if i == index:\n",
        "        splitted.extend([[item] for item in hand])\n",
        "      else:\n",
        "        splitted.append(hand)\n",
        "    self.player = splitted\n",
        "    self.doubledDown[index:index+1] = [False, False]\n",
        "    self.stood[index:index+1] = [False, False]\n",
        "\n",
        "  def dealersTurn(self):\n",
        "    '''\n",
        "    Hits until the sum is more or equal to 17. Handles special case of soft 17 and of aces valued as 11 needing to change to 1.\n",
        "    '''\n",
        "    while sum(self.dealer) < 17:\n",
        "      self.hit('dealer')\n",
        "      if sum(self.dealer) > 21 and 11 in self.dealer:\n",
        "        ind = self.dealer.index(11)\n",
        "        self.dealer[ind] = 1\n",
        "      if sum(self.dealer) == 17 and 11 in self.dealer and self.hitsSoft17: #soft 17\n",
        "        self.hit('dealer')\n",
        "        if sum(self.dealer) > 21:\n",
        "          ind = self.dealer.index(11)\n",
        "          self.dealer[ind] = 1\n",
        "\n",
        "  def win(self, doubledDown=False):\n",
        "    if not doubledDown:\n",
        "      self.reward += 1\n",
        "    else:\n",
        "      self.reward += 2\n",
        "\n",
        "  def loss(self, doubledDown=False):\n",
        "    if not doubledDown:\n",
        "      self.reward -= 1\n",
        "    else:\n",
        "      self.reward -= 2\n",
        "\n",
        "  def push(self):\n",
        "    self.reward += 0\n",
        "\n",
        "  def simulation(self, n):\n",
        "    '''\n",
        "    Returns the weights of the neural network that approximates Q(s, a)\n",
        "    n: number of rounds to simulate.\n",
        "    We created this function since we can't include a for loop in round() because we call it recursively in\n",
        "    case of a split.\n",
        "    '''\n",
        "    for _ in range(n):\n",
        "      reward = 0\n",
        "      self.round()\n",
        "    return X, y\n",
        "\n",
        "  def cardsEndOfRound(self):\n",
        "    '''\n",
        "    We check if we used the original or remainder deck in this round:\n",
        "    '''\n",
        "    self.dealer = []\n",
        "    self.player = [[]]\n",
        "    if self.whichDeck=='remainder':\n",
        "      #we shuffle all the cards and set the remainder deck to an empty list\n",
        "      self.whichDeck = 'original'\n",
        "      self.shuffle()\n",
        "\n",
        "  def actionPolicy(self, actType='random'):\n",
        "    if actType == 'random':\n",
        "      return random.choice(list(self.actions.values()))\n",
        "    elif actType == 'e-greedy':\n",
        "      if np.random.uniform(0, 1) < epsilon:\n",
        "        return random.choice(list(self.actions.values()))\n",
        "      else:\n",
        "        qVals = []\n",
        "        featuresAux = self.features.copy()\n",
        "        for act in list(self.actions.values()):\n",
        "          featuresAux[14] = act\n",
        "          qVals.append(self.model.predict(np.array([featuresAux]))[0][0])\n",
        "        return np.argmax(qVals)\n",
        "\n",
        "  def round(self):\n",
        "    '''\n",
        "    Conducts a single round of blackjack, from when the player places his bet to when the round finishes and\n",
        "    the player is handed money or not. It gathers the state-action and reward.\n",
        "    '''\n",
        "\n",
        "    #If the round has just started, dealer hands cards:\n",
        "    if self.player==[[]]:\n",
        "      self.hit('player', 0)\n",
        "      self.hit('dealer')\n",
        "      self.hit('player', 0)\n",
        "      self.hit('dealer')\n",
        "\n",
        "      self.features[11] = self.dealer[1]\n",
        "      self.features[12] = sum(self.player[0])\n",
        "      self.features[13] = self.player[0].count(11)\n",
        "\n",
        "    #If the function is called after splitting, dealer hands cards to each new game:\n",
        "    for index, hand in enumerate(self.player):\n",
        "      if len(hand)==1:\n",
        "        self.hit('player', index)\n",
        "\n",
        "    #Player decisions:\n",
        "    for index, hand in enumerate(self.player):\n",
        "        if self.doubledDown[index] or self.stood[index] or sum(hand)>=21:\n",
        "          action = True\n",
        "          continue\n",
        "\n",
        "        if (hand[0] + hand[1]) == 21 and len(hand)==2:\n",
        "          self.stood[index] = True\n",
        "          #if player gets a blackjack right away agent can't make further decisions, so we skip this hand\n",
        "          if len(self.player) == 1:\n",
        "            action = None\n",
        "          else:\n",
        "            action = True\n",
        "\n",
        "        else:\n",
        "          #we obtain the action that the agent choses\n",
        "          if hand[0]==hand[1] and len(hand)==2: #pair\n",
        "            action = 3 #split\n",
        "          else:\n",
        "            action = self.actionPolicy('random')\n",
        "            if action == self.actions['double'] and len(hand)>2:\n",
        "              action = self.actions['hit']\n",
        "\n",
        "          #we save the first action taken in the round\n",
        "          if len(hand) == 2 and len(self.player) == 1:\n",
        "            self.features[14] = action\n",
        "            self.features2 = self.features.copy()\n",
        "            self.features2[10] /= self.nDecks\n",
        "\n",
        "          #we execute the chosen action\n",
        "          if action == self.actions['double']:\n",
        "            self.hit('player', index)\n",
        "            self.doubledDown[index] = True\n",
        "          elif action == self.actions['hit']:\n",
        "            self.hit('player')\n",
        "            self.round()\n",
        "            return\n",
        "          elif action == self.actions['stand']:\n",
        "            self.stood[index] = True\n",
        "          elif action == 3: #split\n",
        "            self.split(index)\n",
        "            self.round()\n",
        "            return\n",
        "\n",
        "    #End of round, now comes the dealer's turn and discover who won\n",
        "    self.dealersTurn()\n",
        "    for index, hand in enumerate(self.player):\n",
        "        if sum(hand)==21 and sum(self.dealer)==21:\n",
        "          self.reward += 0\n",
        "        elif sum(hand)==21 and sum(self.dealer)!=21:\n",
        "          self.reward += 2 if self.doubledDown else 1\n",
        "        elif sum(self.dealer)==21:\n",
        "          self.reward -= 2 if self.doubledDown else -1\n",
        "        elif sum(hand)>21:\n",
        "          self.reward -= 2 if self.doubledDown else -1\n",
        "        elif sum(self.dealer)==sum(hand):\n",
        "          self.reward += 0\n",
        "        elif sum(hand)>sum(self.dealer):\n",
        "          self.reward += 2 if self.doubledDown else 1\n",
        "        elif sum(hand)<sum(self.dealer):\n",
        "          if sum(self.dealer)>21:\n",
        "            self.reward += 2 if self.doubledDown else 1\n",
        "          else:\n",
        "            self.reward -= 2 if self.doubledDown else -1\n",
        "\n",
        "    self.cardsEndOfRound()\n",
        "\n",
        "    if action != None:\n",
        "      self.X.append(self.features2)\n",
        "      self.y.append(self.reward)\n",
        "\n",
        "    self.doubledDown = [False]\n",
        "    self.stood = [False]"
      ]
    },
    {
      "cell_type": "code",
      "execution_count": null,
      "metadata": {
        "colab": {
          "base_uri": "https://localhost:8080/"
        },
        "id": "pPFfHMO03hlM",
        "outputId": "76ed8593-8866-40c3-ac02-32328f5cacc1"
      },
      "outputs": [
        {
          "output_type": "stream",
          "name": "stdout",
          "text": [
            "1/1 [==============================] - 0s 299ms/step\n"
          ]
        }
      ],
      "source": [
        "weights = '/content/initial_weights.h5'\n",
        "dqn = bjDream(weights)\n",
        "X, y = dqn.simulation(100000)"
      ]
    },
    {
      "cell_type": "code",
      "execution_count": null,
      "metadata": {
        "colab": {
          "base_uri": "https://localhost:8080/"
        },
        "id": "rXW8pv2Aqukl",
        "outputId": "188fc7a3-c9a9-4b3f-fc63-250e30f602d6"
      },
      "outputs": [
        {
          "output_type": "stream",
          "name": "stdout",
          "text": [
            "Epoch 1/5\n",
            "26785/26790 [============================>.] - ETA: 0s - loss: 0.6257"
          ]
        },
        {
          "output_type": "stream",
          "name": "stderr",
          "text": [
            "WARNING:tensorflow:Early stopping conditioned on metric `val_loss` which is not available. Available metrics are: loss\n"
          ]
        },
        {
          "output_type": "stream",
          "name": "stdout",
          "text": [
            "\b\b\b\b\b\b\b\b\b\b\b\b\b\b\b\b\b\b\b\b\b\b\b\b\b\b\b\b\b\b\b\b\b\b\b\b\b\b\b\b\b\b\b\b\b\b\b\b\b\b\b\b\b\b\b\b\b\b\b\b\b\b\b\b\b\b\b\b\b\r26790/26790 [==============================] - 69s 3ms/step - loss: 0.6258\n",
            "Epoch 2/5\n",
            "26789/26790 [============================>.] - ETA: 0s - loss: 0.6213"
          ]
        },
        {
          "output_type": "stream",
          "name": "stderr",
          "text": [
            "WARNING:tensorflow:Early stopping conditioned on metric `val_loss` which is not available. Available metrics are: loss\n"
          ]
        },
        {
          "output_type": "stream",
          "name": "stdout",
          "text": [
            "\b\b\b\b\b\b\b\b\b\b\b\b\b\b\b\b\b\b\b\b\b\b\b\b\b\b\b\b\b\b\b\b\b\b\b\b\b\b\b\b\b\b\b\b\b\b\b\b\b\b\b\b\b\b\b\b\b\b\b\b\b\b\b\b\b\b\b\b\b\r26790/26790 [==============================] - 66s 2ms/step - loss: 0.6213\n",
            "Epoch 3/5\n",
            "26787/26790 [============================>.] - ETA: 0s - loss: 0.6213"
          ]
        },
        {
          "output_type": "stream",
          "name": "stderr",
          "text": [
            "WARNING:tensorflow:Early stopping conditioned on metric `val_loss` which is not available. Available metrics are: loss\n"
          ]
        },
        {
          "output_type": "stream",
          "name": "stdout",
          "text": [
            "\b\b\b\b\b\b\b\b\b\b\b\b\b\b\b\b\b\b\b\b\b\b\b\b\b\b\b\b\b\b\b\b\b\b\b\b\b\b\b\b\b\b\b\b\b\b\b\b\b\b\b\b\b\b\b\b\b\b\b\b\b\b\b\b\b\b\b\b\b\r26790/26790 [==============================] - 70s 3ms/step - loss: 0.6213\n",
            "Epoch 4/5\n",
            "26774/26790 [============================>.] - ETA: 0s - loss: 0.6213"
          ]
        },
        {
          "output_type": "stream",
          "name": "stderr",
          "text": [
            "WARNING:tensorflow:Early stopping conditioned on metric `val_loss` which is not available. Available metrics are: loss\n"
          ]
        },
        {
          "output_type": "stream",
          "name": "stdout",
          "text": [
            "\b\b\b\b\b\b\b\b\b\b\b\b\b\b\b\b\b\b\b\b\b\b\b\b\b\b\b\b\b\b\b\b\b\b\b\b\b\b\b\b\b\b\b\b\b\b\b\b\b\b\b\b\b\b\b\b\b\b\b\b\b\b\b\b\b\b\b\b\b\r26790/26790 [==============================] - 84s 3ms/step - loss: 0.6213\n",
            "Epoch 5/5\n",
            "23382/26790 [=========================>....] - ETA: 8s - loss: 0.6218"
          ]
        }
      ],
      "source": [
        "scaler = StandardScaler()\n",
        "X_scaled = scaler.fit_transform(X)\n",
        "\n",
        "xTrain, xTest, yTrain, yTest = train_test_split(X, y, test_size=0.1)\n",
        "\n",
        "model = Sequential()\n",
        "model.add(Dense(64, activation='relu'))\n",
        "model.add(Dense(32, activation='relu'))\n",
        "model.add(Dense(16, activation='relu'))\n",
        "model.add(Dense(1))\n",
        "\n",
        "model.compile(optimizer='adam', loss=tf.keras.losses.Huber())\n",
        "\n",
        "#Train:\n",
        "early_stopping = EarlyStopping(monitor='val_loss', patience=3, restore_best_weights=True)\n",
        "model.fit(xTrain, yTrain, epochs=5, callbacks=[early_stopping])\n",
        "\n",
        "test_loss = model.evaluate(xTest, yTest)\n",
        "print(f'Test loss: {test_loss}')"
      ]
    },
    {
      "cell_type": "code",
      "execution_count": null,
      "metadata": {
        "id": "IwxspkZ5qzAP"
      },
      "outputs": [],
      "source": [
        "model.save_weights('splitWeights.h5')"
      ]
    },
    {
      "cell_type": "code",
      "execution_count": null,
      "metadata": {
        "colab": {
          "base_uri": "https://localhost:8080/"
        },
        "id": "Hj4bUipZrAfb",
        "outputId": "c3e368b1-971f-4552-b068-9a462f02fdf5"
      },
      "outputs": [
        {
          "name": "stdout",
          "output_type": "stream",
          "text": [
            "1/1 [==============================] - 0s 165ms/step\n",
            "1/1 [==============================] - 0s 74ms/step\n",
            "1/1 [==============================] - 0s 24ms/step\n",
            "1/1 [==============================] - 0s 29ms/step\n",
            "1/1 [==============================] - 0s 28ms/step\n",
            "1/1 [==============================] - 0s 24ms/step\n",
            "1/1 [==============================] - 0s 30ms/step\n",
            "1/1 [==============================] - 0s 24ms/step\n",
            "1/1 [==============================] - 0s 25ms/step\n",
            "1/1 [==============================] - 0s 24ms/step\n",
            "1/1 [==============================] - 0s 25ms/step\n",
            "1/1 [==============================] - 0s 32ms/step\n",
            "1/1 [==============================] - 0s 27ms/step\n",
            "1/1 [==============================] - 0s 26ms/step\n",
            "1/1 [==============================] - 0s 26ms/step\n",
            "1/1 [==============================] - 0s 25ms/step\n",
            "1/1 [==============================] - 0s 43ms/step\n",
            "1/1 [==============================] - 0s 30ms/step\n",
            "1/1 [==============================] - 0s 27ms/step\n",
            "1/1 [==============================] - 0s 35ms/step\n",
            "1/1 [==============================] - 0s 33ms/step\n",
            "1/1 [==============================] - 0s 17ms/step\n",
            "1/1 [==============================] - 0s 17ms/step\n",
            "1/1 [==============================] - 0s 20ms/step\n",
            "1/1 [==============================] - 0s 17ms/step\n",
            "1/1 [==============================] - 0s 17ms/step\n",
            "1/1 [==============================] - 0s 21ms/step\n",
            "1/1 [==============================] - 0s 17ms/step\n",
            "1/1 [==============================] - 0s 18ms/step\n",
            "1/1 [==============================] - 0s 18ms/step\n",
            "1/1 [==============================] - 0s 19ms/step\n"
          ]
        },
        {
          "data": {
            "text/plain": [
              "[array([[-1.0266986],\n",
              "        [-1.0299904],\n",
              "        [-1.026375 ],\n",
              "        [-0.9848149]], dtype=float32)]"
            ]
          },
          "execution_count": 32,
          "metadata": {},
          "output_type": "execute_result"
        }
      ],
      "source": [
        "model = Sequential()\n",
        "model.add(Dense(64, activation='relu'))\n",
        "model.add(Dense(32, activation='relu'))\n",
        "model.add(Dense(16, activation='relu'))\n",
        "model.add(Dense(1))\n",
        "model.compile(optimizer='adam', loss=tf.keras.losses.Huber())\n",
        "\n",
        "#We initialize model with dummy data:\n",
        "dummy_input = np.zeros((1, 15))  # Assuming your input has 15 features\n",
        "model.predict(dummy_input)\n",
        "model.load_weights('/content/splitWeights.h5')\n",
        "\n",
        "actions = [0, 1, 2, 3]\n",
        "x = np.array(np.array([[0,0,0,0,0,0,0,0,0,0,0,10,22,2,i] for i in actions]))\n",
        "for i in range(3*10): #es para ver cuánto tarda\n",
        "  preds = []\n",
        "  preds.append(model.predict(x))\n",
        "preds"
      ]
    },
    {
      "cell_type": "markdown",
      "metadata": {
        "id": "aw-EkgxbtfUM"
      },
      "source": [
        "Vemos que nuestro agente aprendíó a hacer un split cuando se tiene un par de aces, lo cual es la estrategia óptima."
      ]
    },
    {
      "cell_type": "markdown",
      "metadata": {
        "id": "7xd5pIIwDBs1"
      },
      "source": [
        "####Entrenamiento definitivo de la red:"
      ]
    },
    {
      "cell_type": "markdown",
      "metadata": {
        "id": "DpJxUdrprk0R"
      },
      "source": [
        "Now we make a similar class with a few adjustments. We will now include the split action in the self.actions so that our agent is now free to chose it or not whenever the player has a pair. Also, we will now create a new dqn() function that calls simulation() to obtain data, specifically to train the network every 50,000 data points gathered. At the end of dqn() we shall save the weights of the model to the 'content' file of our google colab session."
      ]
    },
    {
      "cell_type": "code",
      "execution_count": null,
      "metadata": {
        "id": "YZEdd_KMttQL"
      },
      "outputs": [],
      "source": [
        "class bjDream():\n",
        "  def __init__(self, initialWeights, policy='random', nDecks=6, hitsSoft17=True, epsilon=0.3):\n",
        "    '''\n",
        "    initialWeights: string with the route to the weights.h5 file to initialize the neural net.\n",
        "    policy: the policy to use in the function actionPolicy(), either random or epsilon greedy.\n",
        "    nDecks: number of decks to be used.\n",
        "    hitsSoft17: True or False depending whether the dealer hits on Ace and 6 or doesn't.\n",
        "    epsilon: for the epsilon-greedy action policy.\n",
        "      Observations:\n",
        "    We allow the player to double down after splitting.\n",
        "    We won't allow the player to surrender since most casinos don't have this variant.\n",
        "    We won't consider insurance (according to the basic strategy the player most never buy it anyways).\n",
        "    There won't be an additional award for the agent for getting a blackjack.\n",
        "    '''\n",
        "    self.nDecks = nDecks\n",
        "    self.hitsSoft17 = hitsSoft17\n",
        "    self.epsilon = epsilon\n",
        "    self.values = [2, 3, 4, 5, 6, 7, 8, 9, 10, 10, 10, 10, 11] #11 will be treated as an ace\n",
        "    self.whichDeck = 'original'\n",
        "    self.shuffle()\n",
        "    self.remainder = [] #contains the cards played after each round.\n",
        "    self.dealer = [] #dealer's hand\n",
        "    self.player = [[]] #player's hand, a list of lists (since he can have multiple hands after splitting)\n",
        "    self.doubledDown = [False] #boolean values indicating whether a hand has been doubled down\n",
        "    self.stood = [False] #similar to doubledDown but with stand\n",
        "    self.actions = {'stand': 0, 'hit': 1, 'double': 2, 'split': 3} #incluimos split después de entrenar con split forzoso al tener par\n",
        "    self.features = [0] * 15\n",
        "    self.features2 = [0] * 15 #here we save the snapshot of the round right after knowing the first action of the player\n",
        "    self.X = []\n",
        "    self.y = []\n",
        "    self.firstAction = None #the first action taken in a given hand\n",
        "    self.reward = 0\n",
        "\n",
        "    seed = 42\n",
        "    tf.random.set_seed(seed)\n",
        "    np.random.seed(seed)\n",
        "    random.seed(seed)\n",
        "\n",
        "    #Fully connected network architecture:\n",
        "    self.model = Sequential()\n",
        "    self.model.add(Dense(64, activation='relu'))\n",
        "    self.model.add(Dense(32, activation='relu'))\n",
        "    self.model.add(Dense(16, activation='relu'))\n",
        "    self.model.add(Dense(1))\n",
        "    self.model.compile(optimizer='adam', loss=tf.keras.losses.Huber())\n",
        "    #We initialize model with dummy data:\n",
        "    dummy_input = np.zeros((1, len(self.features)))  # Assuming your input has 15 features\n",
        "    with contextlib.redirect_stdout(open(os.devnull, 'w')):\n",
        "      self.model.predict(dummy_input)\n",
        "    self.model.load_weights(initialWeights)\n",
        "\n",
        "  def shuffle(self):\n",
        "    if self.whichDeck=='original':\n",
        "      self.features = [0] * 15\n",
        "      self.deck = [value for value in self.values for i in range(4)] * self.nDecks\n",
        "      random.shuffle(self.deck)\n",
        "      self.remainder = []\n",
        "    elif self.whichDeck=='remainder':\n",
        "      random.shuffle(self.remainder)\n",
        "      self.deck = self.remainder.copy()\n",
        "      self.remainder = []\n",
        "\n",
        "  def popF(self):\n",
        "    '''\n",
        "    Aparte de self.deck.pop(), añadimos la carta a la cuenta de cada carta en nuestra list de features.\n",
        "    '''\n",
        "    carta = self.deck.pop()\n",
        "    self.remainder.append(carta)\n",
        "    self.features[carta-2] += 1\n",
        "    if carta<7:\n",
        "      self.features[10] += 1 #features[10] tiene la cuenta de high/low cards\n",
        "    elif carta>9:\n",
        "      self.features[10] -= 1\n",
        "    else:\n",
        "      pass #se suma 0\n",
        "    return carta\n",
        "\n",
        "  def checkCardsLeft(self):\n",
        "    '''\n",
        "    In case there are no more cards left in the deck, it shuffles and uses the remaining cards to finish the hand.\n",
        "    It is called when someone wishes to hit.\n",
        "    '''\n",
        "    if len(self.deck) == 0: #no more cards left\n",
        "      self.whichDeck = 'remainder'\n",
        "      self.shuffle()\n",
        "    else:\n",
        "      return\n",
        "\n",
        "  def hit(self, who, index=0):\n",
        "    '''\n",
        "    who: 'dealer' or 'player'.\n",
        "    index: the index of the hand that the player wants to hit (in case he splitted).\n",
        "    '''\n",
        "    self.checkCardsLeft()\n",
        "    if who=='dealer':\n",
        "      self.dealer.append(self.popF())\n",
        "    elif who=='player':\n",
        "      self.player[index].append(self.popF())\n",
        "\n",
        "  def split(self, index):\n",
        "    '''\n",
        "    Obtains the index of the hand the player wishes to split (in case he already has more than one hand)\n",
        "    and returns the splited hand, for example [[4, 5], [2, 2]] returns [[4, 5], [2], [2]] for index=1\n",
        "    '''\n",
        "    splitted = []\n",
        "    for i, hand in enumerate(self.player):\n",
        "      if i == index:\n",
        "        splitted.extend([[item] for item in hand])\n",
        "      else:\n",
        "        splitted.append(hand)\n",
        "    self.player = splitted\n",
        "    self.doubledDown[index:index+1] = [False, False]\n",
        "    self.stood[index:index+1] = [False, False]\n",
        "\n",
        "  def dealersTurn(self):\n",
        "    '''\n",
        "    Hits until the sum is more or equal to 17. Handles special case of soft 17 and of aces valued as 11 needing to change to 1.\n",
        "    '''\n",
        "    while sum(self.dealer) < 17:\n",
        "      self.hit('dealer')\n",
        "      if sum(self.dealer) > 21 and 11 in self.dealer:\n",
        "        ind = self.dealer.index(11)\n",
        "        self.dealer[ind] = 1\n",
        "      if sum(self.dealer) == 17 and 11 in self.dealer and self.hitsSoft17: #soft 17\n",
        "        self.hit('dealer')\n",
        "        if sum(self.dealer) > 21:\n",
        "          ind = self.dealer.index(11)\n",
        "          self.dealer[ind] = 1\n",
        "\n",
        "  def win(self, doubledDown=False):\n",
        "    if not doubledDown:\n",
        "      self.reward += 1\n",
        "    else:\n",
        "      self.reward += 2\n",
        "\n",
        "  def loss(self, doubledDown=False):\n",
        "    if not doubledDown:\n",
        "      self.reward -= 1\n",
        "    else:\n",
        "      self.reward -= 2\n",
        "\n",
        "  def push(self):\n",
        "    self.reward += 0\n",
        "\n",
        "  def simulation(self, n):\n",
        "    '''\n",
        "    Returns the weights of the neural network that approximates Q(s, a)\n",
        "    n: number of rounds to simulate.\n",
        "    We created this function since we can't include a for loop in round() because we call it recursively in\n",
        "    case of a split.\n",
        "    '''\n",
        "    self.X = []\n",
        "    self.y = []\n",
        "    for _ in range(n):\n",
        "      reward = 0\n",
        "      self.round()\n",
        "\n",
        "  def dqn(self, n):\n",
        "    for i in tqdm(range(n)):\n",
        "      self.simulation(50000)\n",
        "      scaler = StandardScaler()\n",
        "      X_scaled = scaler.fit_transform(np.array(self.X))\n",
        "      X_scaled, y = shuffle(X_scaled, np.array(self.y))\n",
        "      self.model.fit(X_scaled, y.reshape(-1, 1), epochs=1)\n",
        "    self.model.save_weights('dqnWeights.h5')\n",
        "\n",
        "  def cardsEndOfRound(self):\n",
        "    '''\n",
        "    We check if we used the original or remainder deck in this round:\n",
        "    '''\n",
        "    self.dealer = []\n",
        "    self.player = [[]]\n",
        "    if self.whichDeck=='remainder':\n",
        "      #we shuffle all the cards and set the remainder deck to an empty list\n",
        "      self.whichDeck = 'original'\n",
        "      self.shuffle()\n",
        "\n",
        "  def actionPolicy(self, actType='random', split=False):\n",
        "    #if split=False, the player hasn't a pair and therefore can't split\n",
        "    if actType == 'random':\n",
        "      if split:\n",
        "        return random.choice(list(self.actions.values()))\n",
        "      else:\n",
        "        return random.choice(list(self.actions.values())[:-1]) #excluimos a split\n",
        "    elif actType == 'e-greedy':\n",
        "      if np.random.uniform(0, 1) < self.epsilon:\n",
        "        if split:\n",
        "          return random.choice(list(self.actions.values()))\n",
        "        else:\n",
        "          return random.choice(list(self.actions.values())[:-1]) #excluimos a split\n",
        "      else:\n",
        "        qVals = []\n",
        "        featuresAux = self.features.copy()\n",
        "        if split:\n",
        "          for act in list(self.actions.values()):\n",
        "            featuresAux[14] = act\n",
        "            with contextlib.redirect_stdout(open(os.devnull, 'w')): #para que no imprima nada en consola\n",
        "              qVals.append(self.model.predict(np.array([featuresAux]))[0][0])\n",
        "          return np.argmax(qVals)\n",
        "        else: #excluimos a split\n",
        "          for act in list(self.actions.values())[:-1]:\n",
        "            featuresAux[14] = act\n",
        "            with contextlib.redirect_stdout(open(os.devnull, 'w')):\n",
        "              qVals.append(self.model.predict(np.array([featuresAux]))[0][0])\n",
        "          return np.argmax(qVals)\n",
        "\n",
        "\n",
        "  def round(self):\n",
        "    '''\n",
        "    Conducts a single round of blackjack, from when the player places his bet to when the round finishes and\n",
        "    the player is handed money or not. It gathers the state-action and reward.\n",
        "    '''\n",
        "\n",
        "    #If the round has just started, dealer hands cards:\n",
        "    if self.player==[[]]:\n",
        "      self.hit('player', 0)\n",
        "      self.hit('dealer')\n",
        "      self.hit('player', 0)\n",
        "      self.hit('dealer')\n",
        "\n",
        "      self.features[11] = self.dealer[1]\n",
        "      self.features[12] = sum(self.player[0])\n",
        "      self.features[13] = self.player[0].count(11)\n",
        "\n",
        "    #If the function is called after splitting, dealer hands cards to each new game:\n",
        "    for index, hand in enumerate(self.player):\n",
        "      if len(hand)==1:\n",
        "        self.hit('player', index)\n",
        "\n",
        "    #Player decisions:\n",
        "    for index, hand in enumerate(self.player):\n",
        "        if self.doubledDown[index] or self.stood[index] or sum(hand)>=21:\n",
        "          action = True #solo por poner algo para se evalue su valor abajo\n",
        "          continue\n",
        "\n",
        "        if (hand[0] + hand[1]) == 21 and len(hand)==2:\n",
        "          self.stood[index] = True\n",
        "          #if player gets a blackjack right away agent can't make further decisions, so we skip this hand\n",
        "          if len(self.player) == 1:\n",
        "            action = None\n",
        "          else:\n",
        "            action = True\n",
        "\n",
        "        else:\n",
        "          if hand[0] == hand[1] and len(hand)==2: #pair\n",
        "            action = self.actionPolicy('random', True)\n",
        "          else:\n",
        "            action = self.actionPolicy('random')\n",
        "\n",
        "          if action == self.actions['double'] and len(hand)>2:\n",
        "            action = self.actions['hit']\n",
        "\n",
        "          #we save the first action taken in the round\n",
        "          if len(hand) == 2 and len(self.player) == 1:\n",
        "            self.features[14] = action\n",
        "            self.features2 = self.features.copy()\n",
        "            self.features2[10] /= self.nDecks\n",
        "\n",
        "          #we execute the chosen action\n",
        "          if action == self.actions['double']:\n",
        "            self.hit('player', index)\n",
        "            self.doubledDown[index] = True\n",
        "          elif action == self.actions['hit']:\n",
        "            self.hit('player')\n",
        "            self.round()\n",
        "            return\n",
        "          elif action == self.actions['stand']:\n",
        "            self.stood[index] = True\n",
        "          elif action == 3: #split\n",
        "            self.split(index)\n",
        "            self.round()\n",
        "            return\n",
        "\n",
        "    #End of round, now comes the dealer's turn and discover who won\n",
        "    self.dealersTurn()\n",
        "    for index, hand in enumerate(self.player):\n",
        "        if sum(hand)==21 and sum(self.dealer)==21:\n",
        "          self.reward += 0\n",
        "        elif sum(hand)==21 and sum(self.dealer)!=21:\n",
        "          self.reward += 2 if self.doubledDown else 1\n",
        "        elif sum(self.dealer)==21:\n",
        "          self.reward -= 2 if self.doubledDown else -1\n",
        "        elif sum(hand)>21:\n",
        "          self.reward -= 2 if self.doubledDown else -1\n",
        "        elif sum(self.dealer)==sum(hand):\n",
        "          self.reward += 0\n",
        "        elif sum(hand)>sum(self.dealer):\n",
        "          self.reward += 2 if self.doubledDown else 1\n",
        "        elif sum(hand)<sum(self.dealer):\n",
        "          if sum(self.dealer)>21:\n",
        "            self.reward += 2 if self.doubledDown else 1\n",
        "          else:\n",
        "            self.reward -= 2 if self.doubledDown else -1\n",
        "\n",
        "    self.cardsEndOfRound()\n",
        "\n",
        "    if action != None:\n",
        "      self.X.append(self.features2)\n",
        "      self.y.append(self.reward)\n",
        "\n",
        "    self.doubledDown = [False]\n",
        "    self.stood = [False]"
      ]
    },
    {
      "cell_type": "code",
      "execution_count": null,
      "metadata": {
        "colab": {
          "base_uri": "https://localhost:8080/"
        },
        "id": "HamXSOxuuNsM",
        "outputId": "b56c39fa-2df3-42bd-aeaa-898a4dac800f"
      },
      "outputs": [
        {
          "name": "stderr",
          "output_type": "stream",
          "text": [
            "\r  0%|          | 0/10 [00:00<?, ?it/s]"
          ]
        },
        {
          "name": "stdout",
          "output_type": "stream",
          "text": [
            "1563/1563 [==============================] - 6s 3ms/step - loss: 13845.7012\n"
          ]
        },
        {
          "name": "stderr",
          "output_type": "stream",
          "text": [
            "\r 10%|█         | 1/10 [00:07<01:05,  7.30s/it]"
          ]
        },
        {
          "name": "stdout",
          "output_type": "stream",
          "text": [
            "1563/1563 [==============================] - 6s 4ms/step - loss: 12687.9131\n"
          ]
        },
        {
          "name": "stderr",
          "output_type": "stream",
          "text": [
            "\r 20%|██        | 2/10 [00:14<00:57,  7.25s/it]"
          ]
        },
        {
          "name": "stdout",
          "output_type": "stream",
          "text": [
            "1563/1563 [==============================] - 6s 4ms/step - loss: 11383.8281\n"
          ]
        },
        {
          "name": "stderr",
          "output_type": "stream",
          "text": [
            "\r 30%|███       | 3/10 [00:35<01:35, 13.67s/it]"
          ]
        },
        {
          "name": "stdout",
          "output_type": "stream",
          "text": [
            "1563/1563 [==============================] - 5s 3ms/step - loss: 11207.1074\n"
          ]
        },
        {
          "name": "stderr",
          "output_type": "stream",
          "text": [
            "\r 40%|████      | 4/10 [00:42<01:04, 10.73s/it]"
          ]
        },
        {
          "name": "stdout",
          "output_type": "stream",
          "text": [
            "1563/1563 [==============================] - 7s 4ms/step - loss: 10978.1719\n"
          ]
        },
        {
          "name": "stderr",
          "output_type": "stream",
          "text": [
            "\r 50%|█████     | 5/10 [00:49<00:48,  9.72s/it]"
          ]
        },
        {
          "name": "stdout",
          "output_type": "stream",
          "text": [
            "1563/1563 [==============================] - 5s 3ms/step - loss: 10944.1240\n"
          ]
        },
        {
          "name": "stderr",
          "output_type": "stream",
          "text": [
            "\r 60%|██████    | 6/10 [01:01<00:40, 10.21s/it]"
          ]
        },
        {
          "name": "stdout",
          "output_type": "stream",
          "text": [
            "1563/1563 [==============================] - 5s 3ms/step - loss: 10985.1611\n"
          ]
        },
        {
          "name": "stderr",
          "output_type": "stream",
          "text": [
            "\r 70%|███████   | 7/10 [01:12<00:31, 10.60s/it]"
          ]
        },
        {
          "name": "stdout",
          "output_type": "stream",
          "text": [
            "1563/1563 [==============================] - 5s 3ms/step - loss: 11097.7686\n"
          ]
        },
        {
          "name": "stderr",
          "output_type": "stream",
          "text": [
            "\r 80%|████████  | 8/10 [01:18<00:18,  9.21s/it]"
          ]
        },
        {
          "name": "stdout",
          "output_type": "stream",
          "text": [
            "1563/1563 [==============================] - 6s 4ms/step - loss: 11032.9648\n"
          ]
        },
        {
          "name": "stderr",
          "output_type": "stream",
          "text": [
            "\r 90%|█████████ | 9/10 [01:29<00:09,  9.81s/it]"
          ]
        },
        {
          "name": "stdout",
          "output_type": "stream",
          "text": [
            "1563/1563 [==============================] - 6s 4ms/step - loss: 10817.4922\n"
          ]
        },
        {
          "name": "stderr",
          "output_type": "stream",
          "text": [
            "100%|██████████| 10/10 [01:41<00:00, 10.10s/it]\n"
          ]
        }
      ],
      "source": [
        "bj = bjDream('/content/splitWeights.h5', 'random')\n",
        "bj.dqn(10)"
      ]
    },
    {
      "cell_type": "markdown",
      "metadata": {
        "id": "HTq0_f9Ntsdv"
      },
      "source": [
        "###Evaluación de nuestra política:"
      ]
    },
    {
      "cell_type": "markdown",
      "metadata": {
        "id": "I-mNyLHW7J0y"
      },
      "source": [
        "Ahora creamos una clase para usar el modelo aprendido para simular muchas rondas de blackjack y al final obtenemos un diccionario con la cuenta de wins, losses y pushes."
      ]
    },
    {
      "cell_type": "markdown",
      "source": [
        "Un ejemplo de la predicción de nuestro modelo:"
      ],
      "metadata": {
        "id": "dl6x_rmAIU8K"
      }
    },
    {
      "cell_type": "code",
      "execution_count": null,
      "metadata": {
        "colab": {
          "base_uri": "https://localhost:8080/"
        },
        "id": "rfFQYzfo_Ia0",
        "outputId": "d40b3658-898b-451a-8a34-5b1a255652a7"
      },
      "outputs": [
        {
          "data": {
            "text/plain": [
              "array([-399229.7 , -399614.34, -399999.1 , -400383.72], dtype=float32)"
            ]
          },
          "execution_count": 3,
          "metadata": {},
          "output_type": "execute_result"
        }
      ],
      "source": [
        "model = Sequential()\n",
        "model.add(Dense(64, activation='relu'))\n",
        "model.add(Dense(32, activation='relu'))\n",
        "model.add(Dense(16, activation='relu'))\n",
        "model.add(Dense(1))\n",
        "model.compile(optimizer='adam', loss=tf.keras.losses.Huber())\n",
        "\n",
        "#We initialize model with dummy data:\n",
        "dummy_input = np.zeros((1, 15))  # Assuming your input has 15 features\n",
        "with contextlib.redirect_stdout(open(os.devnull, 'w')):\n",
        "  model.predict(dummy_input)\n",
        "model.load_weights('/content/dqnWeights.h5')\n",
        "\n",
        "# Collect all feature vectors for the actions\n",
        "featureBatch = []\n",
        "for i in [0, 1, 2, 3]:\n",
        "    featureBatch.append([0, 0, 0, 0, 0, 0, 0, 0, 0, 0, 0, 10, 8, 0, i])\n",
        "\n",
        "# Convert to numpy array\n",
        "featureBatch = np.array(featureBatch)\n",
        "\n",
        "# Normalize the featureBatch\n",
        "scaler = StandardScaler()\n",
        "featureBatch = scaler.fit_transform(featureBatch)\n",
        "\n",
        "# Make batch predictions\n",
        "with contextlib.redirect_stdout(open(os.devnull, 'w')):\n",
        "    preds = model.predict(featureBatch).flatten()\n",
        "\n",
        "preds"
      ]
    },
    {
      "cell_type": "code",
      "execution_count": null,
      "metadata": {
        "id": "_yI3W9Vbt-r0"
      },
      "outputs": [],
      "source": [
        "class bjEvaluation():\n",
        "  def __init__(self, weights, nDecks=6, hitsSoft17=True):\n",
        "    '''\n",
        "    weights: string with the route to the weights.h5 file to initialize the neural net.\n",
        "    nDecks: number of decks to be used.\n",
        "    hitsSoft17: True or False depending whether the dealer hits on Ace and 6 or doesn't.\n",
        "      Observations:\n",
        "    We allow the player to double down after splitting.\n",
        "    We won't allow the player to surrender since most casinos don't have this variant.\n",
        "    We won't consider insurance (according to the basic strategy the player most never buy it anyways).\n",
        "    There won't be an additional award for the agent for getting a blackjack.\n",
        "    '''\n",
        "    self.nDecks = nDecks\n",
        "    self.hitsSoft17 = hitsSoft17\n",
        "    self.values = [2, 3, 4, 5, 6, 7, 8, 9, 10, 10, 10, 10, 11]\n",
        "    self.whichDeck = 'original'\n",
        "    self.shuffle()\n",
        "    self.remainder = []\n",
        "    self.dealer = []\n",
        "    self.player = [[]]\n",
        "    self.doubledDown = [False]\n",
        "    self.stood = [False]\n",
        "    self.actions = {'stand': 0, 'hit': 1, 'double': 2, 'split': 3}\n",
        "    self.X = []\n",
        "    self.y = []\n",
        "    self.features = [0] * 15\n",
        "    self.wins = defaultdict(int)\n",
        "    self.playersMoney = 100\n",
        "    self.splits = 0\n",
        "\n",
        "    seed = 42\n",
        "    tf.random.set_seed(seed)\n",
        "    np.random.seed(seed)\n",
        "    random.seed(seed)\n",
        "\n",
        "    #Fully connected network architecture:\n",
        "    self.model = Sequential()\n",
        "    self.model.add(Dense(64, activation='relu'))\n",
        "    self.model.add(Dense(32, activation='relu'))\n",
        "    self.model.add(Dense(16, activation='relu'))\n",
        "    self.model.add(Dense(1))\n",
        "    self.model.compile(optimizer='adam', loss=tf.keras.losses.Huber())\n",
        "    #We initialize model with dummy data:\n",
        "    dummy_input = np.zeros((1, len(self.features)))  # Assuming your input has 15 features\n",
        "    with contextlib.redirect_stdout(open(os.devnull, 'w')):\n",
        "      self.model.predict(dummy_input)\n",
        "    self.model.load_weights(weights)\n",
        "\n",
        "  def shuffle(self):\n",
        "    if self.whichDeck=='original':\n",
        "      self.features = [0] * 15\n",
        "      self.deck = [value for value in self.values for i in range(4)] * self.nDecks\n",
        "      random.shuffle(self.deck)\n",
        "      self.remainder = []\n",
        "    elif self.whichDeck=='remainder':\n",
        "      random.shuffle(self.remainder)\n",
        "      self.deck = self.remainder.copy()\n",
        "      self.remainder = []\n",
        "\n",
        "  def popF(self):\n",
        "    '''\n",
        "    Aparte de self.deck.pop(), añadimos la carta a la cuenta de cada carta en nuestra list de features.\n",
        "    '''\n",
        "    carta = self.deck.pop()\n",
        "    self.remainder.append(carta)\n",
        "    self.features[carta-2] += 1\n",
        "    if carta<7:\n",
        "      self.features[10] += 1 #features[10] tiene la cuenta de high/low cards\n",
        "    elif carta>9:\n",
        "      self.features[10] -= 1\n",
        "    else:\n",
        "      pass #se suma 0\n",
        "    return carta\n",
        "\n",
        "  def checkCardsLeft(self):\n",
        "    '''\n",
        "    In case there are no more cards left in the deck, it shuffles and uses the remaining cards to finish the hand.\n",
        "    It is called when someone wishes to hit.\n",
        "    '''\n",
        "    if len(self.deck) == 0: #no more cards left\n",
        "      self.whichDeck = 'remainder'\n",
        "      self.shuffle()\n",
        "    else:\n",
        "      return\n",
        "\n",
        "  def hit(self, who, index=0):\n",
        "    '''\n",
        "    who: 'dealer' or 'player'.\n",
        "    index: the index of the hand that the player wants to hit (in case he splitted).\n",
        "    '''\n",
        "    self.checkCardsLeft()\n",
        "    if who=='dealer':\n",
        "      self.dealer.append(self.popF())\n",
        "    elif who=='player':\n",
        "      self.player[index].append(self.popF())\n",
        "\n",
        "  def split(self, index):\n",
        "    '''\n",
        "    Obtains the index of the hand the player wishes to split (in case he already has more than one hand)\n",
        "    and returns the splited hand, for example [[4, 5], [2, 2]] returns [[4, 5], [2], [2]] for index=1\n",
        "    '''\n",
        "    self.playersMoney -= 10\n",
        "    splitted = []\n",
        "    for i, hand in enumerate(self.player):\n",
        "      if i == index:\n",
        "        splitted.extend([[item] for item in hand])\n",
        "      else:\n",
        "        splitted.append(hand)\n",
        "    self.player = splitted\n",
        "    self.doubledDown[index:index+1] = [False, False]\n",
        "    self.stood[index:index+1] = [False, False]\n",
        "\n",
        "  def dealersTurn(self):\n",
        "    '''\n",
        "    Hits until the sum is more or equal to 17. Handles special case of soft 17 and of aces valued as 11 needing to change to 1.\n",
        "    '''\n",
        "    while sum(self.dealer) < 17:\n",
        "      self.hit('dealer')\n",
        "      if sum(self.dealer) > 21 and 11 in self.dealer:\n",
        "        ind = self.dealer.index(11)\n",
        "        self.dealer[ind] = 1\n",
        "      if sum(self.dealer) == 17 and 11 in self.dealer and self.hitsSoft17: #soft 17\n",
        "        self.hit('dealer')\n",
        "        if sum(self.dealer) > 21:\n",
        "          ind = self.dealer.index(11)\n",
        "          self.dealer[ind] = 1\n",
        "\n",
        "  def win(self, blackjack=False, doubledDown=False):\n",
        "    self.wins['player'] += 1\n",
        "    if blackjack:\n",
        "      self.playersMoney += 10 + (3/2)*10\n",
        "    else:\n",
        "      if not doubledDown:\n",
        "        self.playersMoney += 2*10\n",
        "      else:\n",
        "        self.playersMoney += 4*10\n",
        "\n",
        "  def loss(self):\n",
        "    self.wins['dealer'] += 1\n",
        "\n",
        "  def push(self, doubledDown=False):\n",
        "    self.wins['pushes'] += 1\n",
        "    if doubledDown:\n",
        "      self.playersMoney += 2*10\n",
        "    else:\n",
        "      self.playersMoney += 10\n",
        "\n",
        "  def simulation(self, n):\n",
        "    '''\n",
        "    We created this function since we can't include a for loop in round() because we call it recursively in\n",
        "    case of a split.\n",
        "    '''\n",
        "    for _ in range(n):\n",
        "      self.round()\n",
        "    return self.playersMoney, self.wins\n",
        "\n",
        "  def cardsEndOfRound(self):\n",
        "    '''\n",
        "    We check if we used the original or remainder deck in this round:\n",
        "    '''\n",
        "    self.dealer = []\n",
        "    self.player = [[]]\n",
        "    if self.whichDeck=='remainder':\n",
        "      #we shuffle all the cards and set the remainder deck to an empty list\n",
        "      self.whichDeck = 'original'\n",
        "      self.shuffle()\n",
        "\n",
        "  def actionPolicy(self, actType='random', split=False):\n",
        "    qVals = []\n",
        "    featuresAux = self.features.copy()\n",
        "    actions = list(self.actions.values())\n",
        "\n",
        "    if not split:\n",
        "        actions = actions[:-1]  # Exclude the split action\n",
        "\n",
        "    featureBatch = []\n",
        "    for act in actions:\n",
        "        tempFeatures = featuresAux.copy()  # Create a copy for each action\n",
        "        tempFeatures[14] = act\n",
        "        featureBatch.append(tempFeatures)\n",
        "\n",
        "    # Convert to numpy array for batch prediction\n",
        "    featureBatch = np.array(featureBatch)\n",
        "\n",
        "    # Scale the features\n",
        "    scaler = StandardScaler()\n",
        "    featureBatch = scaler.fit_transform(featureBatch)\n",
        "\n",
        "    # Make batch predictions\n",
        "    with contextlib.redirect_stdout(open(os.devnull, 'w')):\n",
        "        qVals = self.model.predict(featureBatch).flatten()\n",
        "\n",
        "    return np.argmax(qVals)\n",
        "\n",
        "  def bj(self, hand):\n",
        "    return sum(hand)==21 and len(hand)==2\n",
        "\n",
        "  def round(self):\n",
        "    '''\n",
        "    Conducts a single round of blackjack, from when the player places his bet to when the round finishes and\n",
        "    the player is handed money or not. It gathers the state-action and reward.\n",
        "    '''\n",
        "\n",
        "    #If the round has just started, dealer hands cards:\n",
        "    if self.player==[[]]:\n",
        "      self.playersMoney -= 10\n",
        "      self.hit('player', 0)\n",
        "      self.hit('dealer')\n",
        "      self.hit('player', 0)\n",
        "      self.hit('dealer')\n",
        "\n",
        "      self.features[11] = self.dealer[1]\n",
        "      self.features[12] = sum(self.player[0])\n",
        "      self.features[13] = self.player[0].count(11)\n",
        "\n",
        "    #If the function is called after splitting, dealer hands cards to each new game:\n",
        "    for index, hand in enumerate(self.player):\n",
        "      if len(hand)==1:\n",
        "        self.hit('player', index)\n",
        "\n",
        "    #Player decisions:\n",
        "    for index, hand in enumerate(self.player):\n",
        "        if self.doubledDown[index] or self.stood[index] or sum(hand)>=21:\n",
        "          continue\n",
        "\n",
        "        if (hand[0] + hand[1]) == 21 and len(hand)==2:\n",
        "          continue\n",
        "\n",
        "        else:\n",
        "          if hand[0] == hand[1] and len(hand)==2: #pair\n",
        "            action = self.actionPolicy('random', True)\n",
        "          else:\n",
        "            action = self.actionPolicy('random')\n",
        "\n",
        "          if action == self.actions['double'] and len(hand)>2:\n",
        "            action = self.actions['hit']\n",
        "\n",
        "          #we save the first action taken in the round\n",
        "          if len(hand) == 2 and len(self.player) == 1:\n",
        "            self.features[14] = action\n",
        "\n",
        "          #we execute the chosen action\n",
        "          if action == self.actions['double']:\n",
        "            self.playersMoney -= 10\n",
        "            self.hit('player', index)\n",
        "            self.doubledDown[index] = True\n",
        "          elif action == self.actions['hit']:\n",
        "            self.hit('player')\n",
        "            self.round()\n",
        "            return\n",
        "          elif action == self.actions['stand']:\n",
        "            self.stood[index] = True\n",
        "          elif action == 3: #split\n",
        "            self.split(index)\n",
        "            self.round()\n",
        "            return\n",
        "\n",
        "    #End of round, now comes the dealer's turn and discover who won\n",
        "    self.dealersTurn()\n",
        "    for index, hand in enumerate(self.player):\n",
        "        #blackjack:\n",
        "        if self.bj(hand) and self.bj(self.dealer):\n",
        "          self.push()\n",
        "        elif self.bj(hand) and not self.bj(self.dealer):\n",
        "          self.win(True)\n",
        "        #21:\n",
        "        elif sum(hand)==21 and sum(self.dealer)==21:\n",
        "          self.push(self.doubledDown[index])\n",
        "        elif sum(hand)==21 and sum(self.dealer)!=21:\n",
        "          self.win(False, self.doubledDown[index])\n",
        "        elif sum(self.dealer)==21:\n",
        "          self.loss()\n",
        "        elif sum(hand)>21:\n",
        "          self.loss()\n",
        "        elif sum(self.dealer)==sum(hand):\n",
        "          self.push(self.doubledDown[index])\n",
        "        elif sum(hand)>sum(self.dealer):\n",
        "          self.win(False, self.doubledDown[index])\n",
        "        elif sum(hand)<sum(self.dealer):\n",
        "          if sum(self.dealer)>21:\n",
        "            self.win(False, self.doubledDown[index])\n",
        "          else:\n",
        "            self.loss()\n",
        "            10\n",
        "\n",
        "    self.splits += len(self.player)-1\n",
        "    self.cardsEndOfRound()\n",
        "    self.doubledDown = [False]\n",
        "    self.stood = [False]"
      ]
    },
    {
      "cell_type": "markdown",
      "source": [
        "Simulamos 10,000 rondas con nuestro agente y con la basic strategy:"
      ],
      "metadata": {
        "id": "PWKtAIvEIh7c"
      }
    },
    {
      "cell_type": "code",
      "execution_count": null,
      "metadata": {
        "id": "XwANz7ml6-r2"
      },
      "outputs": [],
      "source": [
        "bj = bjEvaluation('/content/dqnWeights.h5')\n",
        "n = 10000\n",
        "_, winsDic = bj.simulation(n)"
      ]
    },
    {
      "cell_type": "code",
      "execution_count": null,
      "metadata": {
        "colab": {
          "base_uri": "https://localhost:8080/"
        },
        "id": "moV_64WICa6y",
        "outputId": "65720115-d2d9-494c-bea7-bf6947fd22c3"
      },
      "outputs": [
        {
          "output_type": "stream",
          "name": "stdout",
          "text": [
            "\t10,000 blackjack hands simulation playing with DQN policy\n",
            "\n",
            "Win percentage: 38.92%\n",
            "Loss percentage: 56.20%\n",
            "Push percentage: 4.88%\n"
          ]
        }
      ],
      "source": [
        "handsPlayed = n + bj.splits\n",
        "\n",
        "print('\\t10,000 blackjack hands simulation playing with DQN policy\\n')\n",
        "\n",
        "print(f'Win percentage: {(winsDic[\"player\"]/handsPlayed)*100:.2f}%')\n",
        "print(f'Loss percentage: {(winsDic[\"dealer\"]/handsPlayed)*100:.2f}%')\n",
        "print(f'Push percentage: {(winsDic[\"pushes\"]/handsPlayed)*100:.2f}%')"
      ]
    },
    {
      "cell_type": "code",
      "execution_count": null,
      "metadata": {
        "colab": {
          "base_uri": "https://localhost:8080/"
        },
        "id": "-PTAcD0X9bfv",
        "outputId": "f81e29a2-0040-4470-d741-bc3c97aeda7c"
      },
      "outputs": [
        {
          "output_type": "stream",
          "name": "stdout",
          "text": [
            "\t10,000 blackjack hands simulation playing a perfect basic strategy\n",
            "\n",
            "Win percentage: 42.81%\n",
            "Loss percentage: 48.54%\n",
            "Push percentage: 8.65%\n"
          ]
        }
      ],
      "source": [
        "bj = BlackjackBS()\n",
        "bj.simulation(n)\n",
        "\n",
        "handsPlayed = n + bj.numSplits\n",
        "\n",
        "print('\\t10,000 blackjack hands simulation playing a perfect basic strategy\\n')\n",
        "\n",
        "print(f'Win percentage: {(bj.wins[\"player\"]/handsPlayed)*100:.2f}%')\n",
        "print(f'Loss percentage: {(bj.wins[\"dealer\"]/handsPlayed)*100:.2f}%')\n",
        "print(f'Push percentage: {(bj.wins[\"pushes\"]/handsPlayed)*100:.2f}%')"
      ]
    },
    {
      "cell_type": "markdown",
      "source": [
        "Vemos que nuestro agente tuvo un desempeño aceptable, aunque no se acercó del todo al de seguir una estrategia perfecta."
      ],
      "metadata": {
        "id": "6TU6BhXWI6qR"
      }
    }
  ],
  "metadata": {
    "accelerator": "GPU",
    "colab": {
      "collapsed_sections": [
        "rP_VF0UDfIBw",
        "t7X3LfFlmYsI"
      ],
      "gpuType": "T4",
      "provenance": []
    },
    "kernelspec": {
      "display_name": "Python 3",
      "name": "python3"
    },
    "language_info": {
      "name": "python"
    }
  },
  "nbformat": 4,
  "nbformat_minor": 0
}