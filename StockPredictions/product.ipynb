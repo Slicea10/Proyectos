{
  "cells": [
    {
      "cell_type": "markdown",
      "metadata": {
        "id": "10Qo9rpMJ6MN"
      },
      "source": [
        "#Applying pattern recognition to the financial market\n",
        "\n",
        "###- Product\n",
        "\n",
        "\n",
        "by Santiago Licea"
      ]
    },
    {
      "cell_type": "code",
      "execution_count": null,
      "metadata": {
        "id": "EKaqmpLbJ0tw"
      },
      "outputs": [],
      "source": [
        "!pip install --quiet pmdarima\n",
        "!pip install --quiet arch\n",
        "!pip install --quiet reportlab"
      ]
    },
    {
      "cell_type": "code",
      "execution_count": null,
      "metadata": {
        "id": "wPVKgJKXKISD"
      },
      "outputs": [],
      "source": [
        "import pandas as pd\n",
        "import numpy as np\n",
        "import matplotlib.pyplot as plt\n",
        "import seaborn as sns\n",
        "sns.set_theme()\n",
        "sns.set_palette('pastel')\n",
        "import yfinance as yf\n",
        "import random\n",
        "import datetime\n",
        "from datetime import datetime, timedelta, date\n",
        "import time\n",
        "from google.colab import drive\n",
        "import pmdarima as pm\n",
        "from statsmodels.graphics.tsaplots import plot_pacf, plot_acf\n",
        "from statsmodels.tsa.arima.model import ARIMA\n",
        "from sklearn.metrics import mean_squared_error as mse\n",
        "from statsmodels.tsa.statespace.varmax import VARMAX\n",
        "from sklearn.preprocessing import MinMaxScaler\n",
        "from arch import arch_model\n",
        "from arch.__future__ import reindexing #to shut down warnings\n",
        "from prophet import Prophet\n",
        "from prophet.diagnostics import cross_validation, performance_metrics\n",
        "import itertools\n",
        "from keras.models import Sequential\n",
        "from keras.layers import LSTM, Dense\n",
        "from sklearn.model_selection import train_test_split\n",
        "from sklearn.cluster import KMeans\n",
        "from yellowbrick.cluster import KElbowVisualizer\n",
        "import plotly.express as px\n",
        "from sklearn.decomposition import PCA\n",
        "import plotly.graph_objects as go"
      ]
    },
    {
      "cell_type": "markdown",
      "metadata": {
        "id": "u3UX82t6KyTO"
      },
      "source": [
        "For detailed explanations of the code, as well as further testing of variants of each model, consult the Testing notebook. This will be the notebook that's going to be run on a daily basis. As mentioned in the testing notebook, we could have access to more historical data for certain companies and more time series variables if we paid a monthly subscription to use the Alpha Vantage API. However, for this Beta product, we are only going to use the yfinance API."
      ]
    },
    {
      "cell_type": "markdown",
      "metadata": {
        "id": "nNRcSG6GZAkB"
      },
      "source": [
        "###Data extraction."
      ]
    },
    {
      "cell_type": "code",
      "execution_count": null,
      "metadata": {
        "colab": {
          "base_uri": "https://localhost:8080/"
        },
        "id": "rFhE43zvPGr0",
        "outputId": "e75f5602-d7da-4850-bc30-c689f5b16090"
      },
      "outputs": [
        {
          "output_type": "stream",
          "name": "stderr",
          "text": [
            "<ipython-input-3-3a839b743f33>:2: FutureWarning: The default value of regex will change from True to False in a future version. In addition, single character regular expressions will *not* be treated as literal strings when regex=True.\n",
            "  df['Symbol'] = df.Symbol.str.replace('.', '-')\n"
          ]
        }
      ],
      "source": [
        "df = pd.read_html('https://en.wikipedia.org/wiki/List_of_S%26P_500_companies')[0]\n",
        "df['Symbol'] = df.Symbol.str.replace('.', '-')\n",
        "tickers = list(df.Symbol.values)"
      ]
    },
    {
      "cell_type": "code",
      "execution_count": null,
      "metadata": {
        "id": "DD6hNg-5PZUg"
      },
      "outputs": [],
      "source": [
        "dicCompanies = {}\n",
        "startDate = '2018-01-01'\n",
        "endDate = date.today().strftime('%Y-%m-%d')\n",
        "for i in tickers:\n",
        "  #Yahoo finance API call:\n",
        "  df = yf.download(i, start = startDate, end = endDate, progress = False)\n",
        "  df.reset_index(inplace=True)\n",
        "  df['Date'] = pd.to_datetime(df['Date'])\n",
        "  dicCompanies[i] = df"
      ]
    },
    {
      "cell_type": "code",
      "execution_count": null,
      "metadata": {
        "id": "TP97Wv5SLc30"
      },
      "outputs": [],
      "source": [
        "def ROI(adjClose): #Return of investment\n",
        "  returns = []\n",
        "  for i in range(len(adjClose)-1):\n",
        "    returns.append((adjClose[i+1]-adjClose[i])/adjClose[i])\n",
        "  return np.array(returns)"
      ]
    },
    {
      "cell_type": "markdown",
      "metadata": {
        "id": "3s2Mo8Z5LZMN"
      },
      "source": [
        "###ARIMA (10 min)"
      ]
    },
    {
      "cell_type": "code",
      "execution_count": null,
      "metadata": {
        "id": "5sm2bkCGhTRN"
      },
      "outputs": [],
      "source": [
        "random.seed(1)"
      ]
    },
    {
      "cell_type": "code",
      "execution_count": null,
      "metadata": {
        "id": "L9Ua7Cr-LzmK"
      },
      "outputs": [],
      "source": [
        "window = 90 #we discount the testing observations from the other notebook\n",
        "endDate = datetime.today()\n",
        "startDate = endDate - timedelta(days=window)\n",
        "\n",
        "arimaPreds = []\n",
        "for ticker in tickers:\n",
        "  returns = ROI(dicCompanies[ticker].query('Date >= @startDate & Date <= @endDate')['Adj Close'].values)\n",
        "\n",
        "  model = pm.auto_arima(returns, d=0, error_action='ignore', suppress_warnings=True)\n",
        "  model.fit(returns)\n",
        "  arimaPreds.append(model.predict(n_periods=1)[0])"
      ]
    },
    {
      "cell_type": "code",
      "execution_count": null,
      "metadata": {
        "id": "zKFSczeAu1sB"
      },
      "outputs": [],
      "source": [
        "arimaPreds = [0 if i==0.0 else i for i in arimaPreds]"
      ]
    },
    {
      "cell_type": "markdown",
      "metadata": {
        "id": "hQ3bHjdgcaDi"
      },
      "source": [
        "###EMA (<1 min)"
      ]
    },
    {
      "cell_type": "code",
      "execution_count": null,
      "metadata": {
        "id": "uY0UVq7ZcZfD"
      },
      "outputs": [],
      "source": [
        "window = 100\n",
        "endDate = datetime.today()\n",
        "startDate = endDate - timedelta(days=window)\n",
        "\n",
        "emaPreds = []\n",
        "for ticker in tickers:\n",
        "  returns = ROI(dicCompanies[ticker].query('Date >= @startDate & Date <= @endDate')['Adj Close'].values)\n",
        "  shortEma = pd.Series(returns).ewm(span=12, adjust=False).mean()\n",
        "  emaPreds.append(shortEma.values[-1])"
      ]
    },
    {
      "cell_type": "markdown",
      "metadata": {
        "id": "XdD8zEqnrDkS"
      },
      "source": [
        "###VARMA (45 min)"
      ]
    },
    {
      "cell_type": "markdown",
      "metadata": {
        "id": "ITgqiDJc27G5"
      },
      "source": [
        "It takes 45 minutos to predict for all 500 companies. Let's just predict for 50 for the moment."
      ]
    },
    {
      "cell_type": "code",
      "execution_count": null,
      "metadata": {
        "id": "Ht93IDR_rGKc"
      },
      "outputs": [],
      "source": [
        "window = 100\n",
        "endDate = datetime.today()\n",
        "startDate = endDate - timedelta(days=window)\n",
        "\n",
        "bestParamsArr = []\n",
        "varmaPreds = []\n",
        "for ticker in tickers[:50]: #50 sample\n",
        "  df = dicCompanies[ticker].query('Date >= @startDate & Date <= @endDate')[['Adj Close', 'Volume']]\n",
        "  returns = ROI(df['Adj Close'].values)\n",
        "  volume = df['Volume'].diff().values[1:]\n",
        "\n",
        "  df = pd.DataFrame({'returns': returns, 'volumeDiff': volume})\n",
        "  scaler = MinMaxScaler()\n",
        "  df = pd.DataFrame(scaler.fit_transform(df), columns=df.columns)\n",
        "\n",
        "  bestAIC = np.inf\n",
        "  bestParams = None\n",
        "  for p in range(3):\n",
        "    for q in range(3):\n",
        "      try:\n",
        "        model = VARMAX(df[['returns', 'volumeDiff']], order=(p, q)).fit(disp=False)\n",
        "        aic = model.aic\n",
        "        if aic < bestAIC:\n",
        "          bestAIC = aic\n",
        "          bestParams = (p, q)\n",
        "      except:\n",
        "        continue\n",
        "  bestParamsArr.append(bestParams)\n",
        "  if bestParams != None:\n",
        "    model = VARMAX(df[['returns', 'volumeDiff']], order=bestParams).fit(disp=False)\n",
        "    varmaPreds.append(scaler.inverse_transform(model.forecast(steps=1))[0, 0])\n",
        "  else:\n",
        "    varmaPreds.append(0)"
      ]
    },
    {
      "cell_type": "code",
      "execution_count": null,
      "metadata": {
        "id": "4VoH3lhK9THE"
      },
      "outputs": [],
      "source": [
        "for i in range(len(tickers)-50):\n",
        "  varmaPreds.append(0)"
      ]
    },
    {
      "cell_type": "markdown",
      "metadata": {
        "id": "U9j3gQtivtmc"
      },
      "source": [
        "###GARCH (4 min)"
      ]
    },
    {
      "cell_type": "markdown",
      "metadata": {
        "id": "PHMf-3FrHiT3"
      },
      "source": [
        "The parameters we obtain for each company in the following block can be used for at least 100 days, so there's no need to run this daily, although it doesn't take too much time."
      ]
    },
    {
      "cell_type": "code",
      "execution_count": null,
      "metadata": {
        "id": "wDxN_9u7vtUd"
      },
      "outputs": [],
      "source": [
        "random.seed(1)\n",
        "\n",
        "endDate = datetime.today()\n",
        "window = 1500\n",
        "startDate = endDate - timedelta(days=window)\n",
        "\n",
        "bestParamsArr = []\n",
        "for ticker in tickers:\n",
        "  returns = ROI(dicCompanies[ticker].query(f'Date >= @startDate & Date <= @endDate')['Adj Close'].values)*100\n",
        "\n",
        "  bestAIC = np.inf\n",
        "  bestParams = None\n",
        "  for p in range(4):\n",
        "    for q in range(4):\n",
        "      try:\n",
        "        model = arch_model(returns, p=p, q=q).fit(disp='off')\n",
        "        aic = model.aic\n",
        "        if aic < bestAIC:\n",
        "          bestAIC = aic\n",
        "          bestParams = (p, q)\n",
        "      except:\n",
        "        continue\n",
        "  bestParamsArr.append(bestParams)"
      ]
    },
    {
      "cell_type": "code",
      "execution_count": null,
      "metadata": {
        "id": "9cmcv_cXH_Sa"
      },
      "outputs": [],
      "source": [
        "garchPreds = []\n",
        "for i in range(len(tickers)):\n",
        "  returns = ROI(dicCompanies[tickers[i]].query(f'Date >= \"{startDate}\" and Date <= \"{endDate}\"')['Adj Close'].values)*100\n",
        "  model = arch_model(returns, p=bestParamsArr[i][0], q=bestParamsArr[i][1]).fit(disp='off')\n",
        "  garchPreds.append(model.forecast(horizon=1).variance.values[-1, :][0]**0.5)"
      ]
    },
    {
      "cell_type": "markdown",
      "metadata": {
        "id": "G-Ejv49A-1OQ"
      },
      "source": [
        "###LSTM (3-4 hr)"
      ]
    },
    {
      "cell_type": "code",
      "execution_count": null,
      "metadata": {
        "colab": {
          "base_uri": "https://localhost:8080/"
        },
        "id": "Dzi3uXrz1wVG",
        "outputId": "8020961f-24c9-4229-cace-3fba336b4876"
      },
      "outputs": [
        {
          "output_type": "stream",
          "name": "stdout",
          "text": [
            "1/1 [==============================] - 1s 526ms/step\n",
            "1/1 [==============================] - 1s 540ms/step\n",
            "1/1 [==============================] - 1s 595ms/step\n",
            "1/1 [==============================] - 1s 680ms/step\n"
          ]
        },
        {
          "output_type": "stream",
          "name": "stderr",
          "text": [
            "WARNING:tensorflow:5 out of the last 5 calls to <function Model.make_predict_function.<locals>.predict_function at 0x7fdf60bdfd00> triggered tf.function retracing. Tracing is expensive and the excessive number of tracings could be due to (1) creating @tf.function repeatedly in a loop, (2) passing tensors with different shapes, (3) passing Python objects instead of tensors. For (1), please define your @tf.function outside of the loop. For (2), @tf.function has reduce_retracing=True option that can avoid unnecessary retracing. For (3), please refer to https://www.tensorflow.org/guide/function#controlling_retracing and https://www.tensorflow.org/api_docs/python/tf/function for  more details.\n"
          ]
        },
        {
          "output_type": "stream",
          "name": "stdout",
          "text": [
            "1/1 [==============================] - 1s 524ms/step\n"
          ]
        },
        {
          "output_type": "stream",
          "name": "stderr",
          "text": [
            "WARNING:tensorflow:6 out of the last 6 calls to <function Model.make_predict_function.<locals>.predict_function at 0x7fdf622adcf0> triggered tf.function retracing. Tracing is expensive and the excessive number of tracings could be due to (1) creating @tf.function repeatedly in a loop, (2) passing tensors with different shapes, (3) passing Python objects instead of tensors. For (1), please define your @tf.function outside of the loop. For (2), @tf.function has reduce_retracing=True option that can avoid unnecessary retracing. For (3), please refer to https://www.tensorflow.org/guide/function#controlling_retracing and https://www.tensorflow.org/api_docs/python/tf/function for  more details.\n"
          ]
        },
        {
          "output_type": "stream",
          "name": "stdout",
          "text": [
            "1/1 [==============================] - 1s 521ms/step\n",
            "1/1 [==============================] - 1s 502ms/step\n",
            "1/1 [==============================] - 1s 1s/step\n",
            "1/1 [==============================] - 1s 508ms/step\n",
            "1/1 [==============================] - 1s 521ms/step\n"
          ]
        }
      ],
      "source": [
        "random.seed(1)\n",
        "endDate = datetime.today()\n",
        "window = 1550\n",
        "startDate = endDate - timedelta(days=window)\n",
        "\n",
        "lstmPreds = []\n",
        "for ticker in tickers[:10]: #first 10\n",
        "  returns = ROI(dicCompanies[ticker].query(f'Date >= @startDate and Date <= @endDate')['Adj Close'].values)\n",
        "  scaler = MinMaxScaler()\n",
        "  returns = scaler.fit_transform(returns.reshape(-1, 1))\n",
        "\n",
        "  # LSTM input\n",
        "  X = []\n",
        "  y = []\n",
        "  Xpred = []\n",
        "  lookback = 10  # we chose this lookback window due to the volatility of stock returns\n",
        "  for i in range(lookback, len(returns)):\n",
        "    X.append(returns[i - lookback:i, 0])\n",
        "    y.append(returns[i, 0])\n",
        "  Xpred.append(returns[-lookback:])\n",
        "  X, y, Xpred = np.array(X), np.array(y), np.array(Xpred)\n",
        "  X = np.reshape(X, (X.shape[0], X.shape[1], 1))  # to 3D array\n",
        "  Xpred = np.reshape(Xpred, (Xpred.shape[0], Xpred.shape[1], 1))\n",
        "\n",
        "  # LSTM model\n",
        "  model = Sequential()\n",
        "  model.add(LSTM(50, return_sequences=True, input_shape=(X.shape[1], 1)))\n",
        "  model.add(LSTM(50, return_sequences=False))\n",
        "  model.add(Dense(25))\n",
        "  model.add(Dense(1))\n",
        "\n",
        "  # Compiling\n",
        "  model.compile(optimizer='adam', loss='mean_squared_error')\n",
        "\n",
        "  # Train\n",
        "  model.fit(X, y, batch_size=50, epochs=50, verbose=0)\n",
        "\n",
        "  # Predict\n",
        "  prediction = model.predict(Xpred)\n",
        "  lstmPreds.append(scaler.inverse_transform(prediction))"
      ]
    },
    {
      "cell_type": "code",
      "execution_count": null,
      "metadata": {
        "id": "vICR7SGIhaW3"
      },
      "outputs": [],
      "source": [
        "lstmPreds = [i[0][0] for i in lstmPreds]"
      ]
    },
    {
      "cell_type": "code",
      "execution_count": null,
      "metadata": {
        "id": "ej81yoeUzlcW"
      },
      "outputs": [],
      "source": [
        "for i in range(len(tickers)-10):\n",
        "  lstmPreds.append(0)"
      ]
    },
    {
      "cell_type": "markdown",
      "metadata": {
        "id": "7PvWW0Fgx_pB"
      },
      "source": [
        "###Export"
      ]
    },
    {
      "cell_type": "code",
      "execution_count": null,
      "metadata": {
        "colab": {
          "base_uri": "https://localhost:8080/",
          "height": 17
        },
        "id": "FKrmgQrjx9Lo",
        "outputId": "a2bf3566-6960-4738-af0c-3a43a9166abd"
      },
      "outputs": [
        {
          "output_type": "display_data",
          "data": {
            "text/plain": [
              "<IPython.core.display.Javascript object>"
            ],
            "application/javascript": [
              "\n",
              "    async function download(id, filename, size) {\n",
              "      if (!google.colab.kernel.accessAllowed) {\n",
              "        return;\n",
              "      }\n",
              "      const div = document.createElement('div');\n",
              "      const label = document.createElement('label');\n",
              "      label.textContent = `Downloading \"${filename}\": `;\n",
              "      div.appendChild(label);\n",
              "      const progress = document.createElement('progress');\n",
              "      progress.max = size;\n",
              "      div.appendChild(progress);\n",
              "      document.body.appendChild(div);\n",
              "\n",
              "      const buffers = [];\n",
              "      let downloaded = 0;\n",
              "\n",
              "      const channel = await google.colab.kernel.comms.open(id);\n",
              "      // Send a message to notify the kernel that we're ready.\n",
              "      channel.send({})\n",
              "\n",
              "      for await (const message of channel.messages) {\n",
              "        // Send a message to notify the kernel that we're ready.\n",
              "        channel.send({})\n",
              "        if (message.buffers) {\n",
              "          for (const buffer of message.buffers) {\n",
              "            buffers.push(buffer);\n",
              "            downloaded += buffer.byteLength;\n",
              "            progress.value = downloaded;\n",
              "          }\n",
              "        }\n",
              "      }\n",
              "      const blob = new Blob(buffers, {type: 'application/binary'});\n",
              "      const a = document.createElement('a');\n",
              "      a.href = window.URL.createObjectURL(blob);\n",
              "      a.download = filename;\n",
              "      div.appendChild(a);\n",
              "      a.click();\n",
              "      div.remove();\n",
              "    }\n",
              "  "
            ]
          },
          "metadata": {}
        },
        {
          "output_type": "display_data",
          "data": {
            "text/plain": [
              "<IPython.core.display.Javascript object>"
            ],
            "application/javascript": [
              "download(\"download_76420455-35fc-42e4-9257-b2686270a201\", \"dfProduct.csv\", 31405)"
            ]
          },
          "metadata": {}
        }
      ],
      "source": [
        "dfProduct = pd.DataFrame({'Tickers': tickers, 'ARIMA': arimaPreds, 'EMA': emaPreds,\n",
        "                               'VARMA': varmaPreds, 'GARCH': garchPreds, 'LSTM': lstmPreds})\n",
        "\n",
        "dfProduct.to_csv('dfProduct.csv', index=False)\n",
        "files.download('dfProduct.csv')"
      ]
    },
    {
      "cell_type": "markdown",
      "source": [
        "###Kmeans:"
      ],
      "metadata": {
        "id": "zmQyE3hzdYa2"
      }
    },
    {
      "cell_type": "code",
      "source": [
        "dimensions = ['trailingPE', 'returnOnEquity', 'dividendYield', 'beta', 'marketCap', 'debtToEquity']\n",
        "dicInfo = {}\n",
        "for ticker in tickers:\n",
        "  dicInfo[ticker] = []\n",
        "  dicTicker = yf.Ticker(ticker).info\n",
        "  for dim in dimensions:\n",
        "    try:\n",
        "      dicInfo[ticker].append(dicTicker[dim])\n",
        "    except:\n",
        "      continue"
      ],
      "metadata": {
        "id": "ZuP4XfMJda1j"
      },
      "execution_count": null,
      "outputs": []
    },
    {
      "cell_type": "code",
      "source": [
        "dicInfo2 = {}\n",
        "for i in dicInfo.keys():\n",
        "  if len(dicInfo[i])==6:\n",
        "    dicInfo2[i] = dicInfo[i]\n",
        "X = []\n",
        "for i in dicInfo2.keys():\n",
        "  X.append(dicInfo2[i])\n",
        "\n",
        "X = np.array(X)\n",
        "scaler = MinMaxScaler()\n",
        "X = scaler.fit_transform(X)\n",
        "model = KMeans(random_state=0)\n",
        "visualizer = KElbowVisualizer(model, k=(2, 11))\n",
        "visualizer.fit(X)\n",
        "visualizer.show()"
      ],
      "metadata": {
        "colab": {
          "base_uri": "https://localhost:8080/",
          "height": 1000
        },
        "id": "2e9DJxKmddhP",
        "outputId": "113e5c8c-fa5f-417f-d010-8395e074fabf"
      },
      "execution_count": null,
      "outputs": [
        {
          "output_type": "stream",
          "name": "stderr",
          "text": [
            "/usr/local/lib/python3.10/dist-packages/sklearn/cluster/_kmeans.py:870: FutureWarning:\n",
            "\n",
            "The default value of `n_init` will change from 10 to 'auto' in 1.4. Set the value of `n_init` explicitly to suppress the warning\n",
            "\n",
            "/usr/local/lib/python3.10/dist-packages/sklearn/cluster/_kmeans.py:870: FutureWarning:\n",
            "\n",
            "The default value of `n_init` will change from 10 to 'auto' in 1.4. Set the value of `n_init` explicitly to suppress the warning\n",
            "\n",
            "/usr/local/lib/python3.10/dist-packages/sklearn/cluster/_kmeans.py:870: FutureWarning:\n",
            "\n",
            "The default value of `n_init` will change from 10 to 'auto' in 1.4. Set the value of `n_init` explicitly to suppress the warning\n",
            "\n",
            "/usr/local/lib/python3.10/dist-packages/sklearn/cluster/_kmeans.py:870: FutureWarning:\n",
            "\n",
            "The default value of `n_init` will change from 10 to 'auto' in 1.4. Set the value of `n_init` explicitly to suppress the warning\n",
            "\n",
            "/usr/local/lib/python3.10/dist-packages/sklearn/cluster/_kmeans.py:870: FutureWarning:\n",
            "\n",
            "The default value of `n_init` will change from 10 to 'auto' in 1.4. Set the value of `n_init` explicitly to suppress the warning\n",
            "\n",
            "/usr/local/lib/python3.10/dist-packages/sklearn/cluster/_kmeans.py:870: FutureWarning:\n",
            "\n",
            "The default value of `n_init` will change from 10 to 'auto' in 1.4. Set the value of `n_init` explicitly to suppress the warning\n",
            "\n",
            "/usr/local/lib/python3.10/dist-packages/sklearn/cluster/_kmeans.py:870: FutureWarning:\n",
            "\n",
            "The default value of `n_init` will change from 10 to 'auto' in 1.4. Set the value of `n_init` explicitly to suppress the warning\n",
            "\n",
            "/usr/local/lib/python3.10/dist-packages/sklearn/cluster/_kmeans.py:870: FutureWarning:\n",
            "\n",
            "The default value of `n_init` will change from 10 to 'auto' in 1.4. Set the value of `n_init` explicitly to suppress the warning\n",
            "\n",
            "/usr/local/lib/python3.10/dist-packages/sklearn/cluster/_kmeans.py:870: FutureWarning:\n",
            "\n",
            "The default value of `n_init` will change from 10 to 'auto' in 1.4. Set the value of `n_init` explicitly to suppress the warning\n",
            "\n"
          ]
        },
        {
          "output_type": "display_data",
          "data": {
            "text/plain": [
              "<Figure size 800x550 with 2 Axes>"
            ],
            "image/png": "[encoded data removed]"
          },
          "metadata": {}
        },
        {
          "output_type": "execute_result",
          "data": {
            "text/plain": [
              "<Axes: title={'center': 'Distortion Score Elbow for KMeans Clustering'}, xlabel='k', ylabel='distortion score'>"
            ]
          },
          "metadata": {},
          "execution_count": 26
        }
      ]
    },
    {
      "cell_type": "code",
      "source": [
        "kmeans = KMeans(n_clusters=6, random_state=0).fit(X)\n",
        "labels = pd.Categorical(kmeans.labels_)"
      ],
      "metadata": {
        "colab": {
          "base_uri": "https://localhost:8080/"
        },
        "id": "IMNRRSh_dg2O",
        "outputId": "d8e99590-8119-40e1-fbc5-8a37ef69cd11"
      },
      "execution_count": null,
      "outputs": [
        {
          "output_type": "stream",
          "name": "stderr",
          "text": [
            "/usr/local/lib/python3.10/dist-packages/sklearn/cluster/_kmeans.py:870: FutureWarning:\n",
            "\n",
            "The default value of `n_init` will change from 10 to 'auto' in 1.4. Set the value of `n_init` explicitly to suppress the warning\n",
            "\n"
          ]
        }
      ]
    },
    {
      "cell_type": "code",
      "source": [
        "zero = [i==0 for i in labels]\n",
        "one = [i==1 for i in labels]\n",
        "two = [i==2 for i in labels]\n",
        "three = [i==3 for i in labels]\n",
        "four = [i==4 for i in labels]\n",
        "five = [i==5 for i in labels]\n",
        "\n",
        "groups = [zero, one, two, three, four, five]\n",
        "colors = ['#003f5c', '#bc5090', '#ffa600', '#90EE90', '#ADD8E6', '#000000']\n",
        "names = ['Cluster 0', 'Cluster 1', 'Cluster 2', 'Cluster 3', 'Cluster 4', 'Cluster 5']\n",
        "dimensions = ['trailingPE', 'returnOnEquity', 'dividendYield', 'beta', 'marketCap', 'debtToEquity']\n",
        "\n",
        "datos = pd.DataFrame(data=X, columns=dimensions)\n",
        "\n",
        "for indicador in dimensions:\n",
        "  fig = go.Figure()\n",
        "  for i, c, t in zip(groups, colors, names):\n",
        "    df_cluster = datos[i]\n",
        "    boxplot = go.Box(y=df_cluster[indicador], name=t, marker_color=c)\n",
        "    fig.add_trace(boxplot)\n",
        "  fig.update_layout(title=indicador, title_x=0.5, title_y=0.95, yaxis_title=indicador)\n",
        "  fig.show()"
      ],
      "metadata": {
        "colab": {
          "base_uri": "https://localhost:8080/",
          "height": 1000
        },
        "id": "wJCwEOHYdnQu",
        "outputId": "ec054c42-43e5-48a5-ebe4-f69054aa7c3d"
      },
      "execution_count": null,
      "outputs": [
        {
          "output_type": "display_data",
          "data": {
            "text/html": [
              "<html>\n",
              "<head><meta charset=\"utf-8\" /></head>\n",
              "<body>\n",
              "    <div>            <script src=\"https://cdnjs.cloudflare.com/ajax/libs/mathjax/2.7.5/MathJax.js?config=TeX-AMS-MML_SVG\"></script><script type=\"text/javascript\">if (window.MathJax && window.MathJax.Hub && window.MathJax.Hub.Config) {window.MathJax.Hub.Config({SVG: {font: \"STIX-Web\"}});}</script>                <script type=\"text/javascript\">window.PlotlyConfig = {MathJaxConfig: 'local'};</script>\n",
              "        <script src=\"https://cdn.plot.ly/plotly-2.18.2.min.js\"></script>                <div id=\"6cd862b5-f397-4756-b811-db90f2658a86\" class=\"plotly-graph-div\" style=\"height:525px; width:100%;\"></div>            <script type=\"text/javascript\">                                    window.PLOTLYENV=window.PLOTLYENV || {};                                    if (document.getElementById(\"6cd862b5-f397-4756-b811-db90f2658a86\")) {                    Plotly.newPlot(                        \"6cd862b5-f397-4756-b811-db90f2658a86\",                        [{\"marker\":{\"color\":\"#003f5c\"},\"name\":\"Cluster 0\",\"y\":[0.006024989127099213,0.0011998829583257913,0.0012885696128030668,0.0051286111973969754,0.004420077775191549,0.0034170392472512353,0.0024379140365778777,0.0033449566076601597,0.0037764605624305125,0.011844325904761144,0.0024525466202054576,0.004795787758484269,0.0035246978954122108,0.0042751477698068875,0.0032482345720528647,0.0012445102826743127,0.002506123913553613,0.003151782246332045,0.003203229407177405,0.003963373419618244,0.0010689608045984346,1.0,0.0030413013062263804,0.053572516481819564,0.004060837979699588,0.004470313913978043,0.004784157136344657,0.007401490741183476,0.005393400317446029,0.0036438882857925264,0.0021046221000803546,0.005353644011207307,0.0053697016168875195,0.001743926857944909,0.0039900849769573905,0.018449552682586613,0.006494065395856821,0.0032773782465161743,0.0031163164241182076,0.00563299952084168,0.0030170987497747663,0.004669545235744524,0.0052644744691360285,0.0027566262213386933,0.0029556497102582037,0.004077126853384592,0.0008091340175460502,0.010102002916125907,0.0036620770518333333,0.0010283361640910575,0.002798712270064791,0.0031126882916590447,0.0029474712513225523,0.001784202026800602,0.013595944428188064,0.003808882897701299,0.0022651064719668027,0.011153992760603873,0.0027191828007194422,0.009586455551699803,0.0048903732888704145,0.006051380403948169,0.0034729298373619806,0.005051489382160173,0.0062029764783029274,0.004084818107723483,0.00338173644328433,0.002448218722156688,0.006858792924138023,0.0035622404015232915,0.00537335400679074,0.0038098573068948193,0.009234031070130365,0.004695306435762651,0.003811811264570854,0.003109388868124026,0.0020915623444569134,0.0018301606325704799,0.0045989780696923995,0.0072996875933322505,0.0009116770996696707,0.0032479996037599965,0.004850104492733076,0.004500561507717555,0.007370185687340278,0.0020209639315276963,0.0018849618989857692,0.0044661301215927025,0.007955083439755966,0.003174366749036361,0.0038921710374462924,0.004031155502178006,0.0040430266430426,0.003386999691930255,0.002360082999459715,0.0018952416076200617,0.025299026431203575,0.002153947351285311,0.003556375444921791,0.05788135599127909,0.0034963187415798496],\"type\":\"box\"},{\"marker\":{\"color\":\"#bc5090\"},\"name\":\"Cluster 1\",\"y\":[0.007662768287847782,0.005174484079826411,0.0006605289066008094,0.002768688132610796,0.0007500531212842357,0.002552712185011202,0.005153567379186869,0.004382674029883342,0.004565858435690721,0.00038618426540837716,0.0029754941496417547,0.009159765671717182,0.0035740414424859897,0.0016079616227121884,0.0049604102858697785,0.002197665740982113,0.0009413317633592107,0.007117684196136003,0.001022222568687961,0.00246450985712885,0.0008456677428988114,0.0036453038515534076,0.0007856788781716093,0.003042758603013904,0.0057116592169174545,0.002188641663435166,0.005063198532635634,0.007768949493208371,0.002604945657072851,0.0007582759836768067,0.0,0.008359935658511076,0.005059081756578793,0.0032397644070738365,0.003178963534685368,0.0003971698656647602,0.0017496649768940047,0.002112821116171987,0.0032930300539373127,0.0038921050489755917,0.004466860722916282,0.0023841634464047993,0.006954404256607641,0.0038595881507872895,0.006769949007417489,0.005593548899512402,0.0031057677250978977,0.0029300176091796412,0.0007348540646664315,0.0019189225262386468,0.00048728649646925923,4.327151824007791e-05,0.0034341080594341745,0.001062342633801774,0.003221859329785573,0.009319307703573441,0.007965243402956668,0.0022741257185820945,0.00018758478838814033,0.0017709566400586486,0.00752285320066479,0.007580950190327021,0.0026800222408610622,0.0004307697970587881,0.04044148919859094,0.0027085652352265947,0.0007400241071671365,0.0050477636032100984,0.009921047933884711,0.004426140286062032,0.00017319588928756417,0.000545932485539131,0.0018350182885288912,0.002325656547052298,0.0017403213383573265,0.004393682592482955,0.002668718477501555,0.0021693783748512096,0.002429595788981553,0.0023401676378880278,0.005107617612994063,0.00037214420068765,0.004136827506784934,0.0015573684061262975,0.0029952882239931517,0.0031580040751613843,0.004795079358889149,0.00249446081110755,0.0036834667726320085,0.002868066769485571,0.001588342695329753,0.0022104824082360736,8.21024029879836e-06,0.004682060226734458,0.0027721951834212277,0.0034613841162765713],\"type\":\"box\"},{\"marker\":{\"color\":\"#ffa600\"},\"name\":\"Cluster 2\",\"y\":[0.005686918474122247,0.00481808939472228,0.004601904997561035,0.003237311527222133,0.005843059735664499,0.003814716607425709,0.007007977849667719,0.003364123072039443,0.006713198922615162,0.008446327517666146,0.0023543325462170306,0.005764710041500924,0.004624613665487478,0.007743519468973106,0.00910470127370533,0.003794553737696006,0.00022393294429385712,0.0023387533055565057,0.0024466152639901367,0.010709025718809724,0.0016999699024529422,0.002243443135422015,0.009446622898712297,0.005839007097934321,0.004367700608609589,0.0017882310238014018,0.003283504073427079,0.007808865734120629,0.008467125192372556,0.0029299921183062244,0.013351441726376163,0.016633567442494685,0.011877894507049454,0.003583121127139867,0.0023415207098947256,0.006275302720192383,0.002673236940386272,0.005664773894555933,0.0023468779047434857,0.002163813963870157,0.0022184542677541113,0.0028809117028290063,0.0022681836726456627,0.005837703363101979,0.0035609712027129987,0.004696039915088067,0.007803311396146007,0.010108048775700044,0.0032454114578219346,0.005807123771293366,0.0030967174371770738,0.0032692999009301528,0.0053806552918806635,0.002673579628176483,0.007542105182812956,0.0019656783385174847,0.0074963381697368235,0.004884042095971254,0.004628428456922952,0.006764254675210635,0.006514264651752611,0.0046099728589975054,0.009881040213628338,0.00428554886844725,0.005615115822995637,0.00437905535371593,0.002283914213974211,0.0045843010826078995,0.0017503300008900038,0.003207913766310892,0.003160217875289024,0.018001426417061237,0.010104718516431053,0.0033794469928226786,0.0018267343713830554,0.005431088573793019,0.006736806760544232,0.007763347257060311,0.00973807691135642,0.008975224699186587,0.004053302754174596,0.008502138140440124,0.005083279584884531,0.03768268391871822,0.007508170046433496,0.0056110179595222996,0.006167131993275911,0.004205019293463406,0.003849761419085048,0.003919354998229893,0.008917203565429927,0.005357697060080605,0.00795311961464506,0.0066881541394829885,0.005462269256842529,0.00876344693398152,0.0037360301870471594,0.009454442224132952,0.011464966203995482,0.006832168734711796],\"type\":\"box\"},{\"marker\":{\"color\":\"#90EE90\"},\"name\":\"Cluster 3\",\"y\":[0.004457077572384721,0.002078740229556618],\"type\":\"box\"},{\"marker\":{\"color\":\"#ADD8E6\"},\"name\":\"Cluster 4\",\"y\":[0.001364510213857177,0.0012228631862827499,0.001895640519231881,0.0013768249781478514,0.0002925088003175295,0.00041210149424040197,0.00045802276821501795,0.00185338220153866,0.0031954583910733057,0.0027625072125218608,0.002350074953641717,0.0034582803968664956,0.0007216395342156064,0.0014934251668745073,0.014337819296108209,0.0023061891259094467,0.0012687192118442806,0.0015646789419364125,0.0001002471356006785,0.0008352286135198829,0.011546249404317605,0.004537158179081931,0.0026356272123751316,0.002965506660979738,0.0008083431426411327,0.0106835525245469,0.0005745675759634602,0.003743117677714876,0.0021571032858715795],\"type\":\"box\"},{\"marker\":{\"color\":\"#000000\"},\"name\":\"Cluster 5\",\"y\":[0.005606563634964244,0.0067287243035270144],\"type\":\"box\"}],                        {\"template\":{\"data\":{\"histogram2dcontour\":[{\"type\":\"histogram2dcontour\",\"colorbar\":{\"outlinewidth\":0,\"ticks\":\"\"},\"colorscale\":[[0.0,\"#0d0887\"],[0.1111111111111111,\"#46039f\"],[0.2222222222222222,\"#7201a8\"],[0.3333333333333333,\"#9c179e\"],[0.4444444444444444,\"#bd3786\"],[0.5555555555555556,\"#d8576b\"],[0.6666666666666666,\"#ed7953\"],[0.7777777777777778,\"#fb9f3a\"],[0.8888888888888888,\"#fdca26\"],[1.0,\"#f0f921\"]]}],\"choropleth\":[{\"type\":\"choropleth\",\"colorbar\":{\"outlinewidth\":0,\"ticks\":\"\"}}],\"histogram2d\":[{\"type\":\"histogram2d\",\"colorbar\":{\"outlinewidth\":0,\"ticks\":\"\"},\"colorscale\":[[0.0,\"#0d0887\"],[0.1111111111111111,\"#46039f\"],[0.2222222222222222,\"#7201a8\"],[0.3333333333333333,\"#9c179e\"],[0.4444444444444444,\"#bd3786\"],[0.5555555555555556,\"#d8576b\"],[0.6666666666666666,\"#ed7953\"],[0.7777777777777778,\"#fb9f3a\"],[0.8888888888888888,\"#fdca26\"],[1.0,\"#f0f921\"]]}],\"heatmap\":[{\"type\":\"heatmap\",\"colorbar\":{\"outlinewidth\":0,\"ticks\":\"\"},\"colorscale\":[[0.0,\"#0d0887\"],[0.1111111111111111,\"#46039f\"],[0.2222222222222222,\"#7201a8\"],[0.3333333333333333,\"#9c179e\"],[0.4444444444444444,\"#bd3786\"],[0.5555555555555556,\"#d8576b\"],[0.6666666666666666,\"#ed7953\"],[0.7777777777777778,\"#fb9f3a\"],[0.8888888888888888,\"#fdca26\"],[1.0,\"#f0f921\"]]}],\"heatmapgl\":[{\"type\":\"heatmapgl\",\"colorbar\":{\"outlinewidth\":0,\"ticks\":\"\"},\"colorscale\":[[0.0,\"#0d0887\"],[0.1111111111111111,\"#46039f\"],[0.2222222222222222,\"#7201a8\"],[0.3333333333333333,\"#9c179e\"],[0.4444444444444444,\"#bd3786\"],[0.5555555555555556,\"#d8576b\"],[0.6666666666666666,\"#ed7953\"],[0.7777777777777778,\"#fb9f3a\"],[0.8888888888888888,\"#fdca26\"],[1.0,\"#f0f921\"]]}],\"contourcarpet\":[{\"type\":\"contourcarpet\",\"colorbar\":{\"outlinewidth\":0,\"ticks\":\"\"}}],\"contour\":[{\"type\":\"contour\",\"colorbar\":{\"outlinewidth\":0,\"ticks\":\"\"},\"colorscale\":[[0.0,\"#0d0887\"],[0.1111111111111111,\"#46039f\"],[0.2222222222222222,\"#7201a8\"],[0.3333333333333333,\"#9c179e\"],[0.4444444444444444,\"#bd3786\"],[0.5555555555555556,\"#d8576b\"],[0.6666666666666666,\"#ed7953\"],[0.7777777777777778,\"#fb9f3a\"],[0.8888888888888888,\"#fdca26\"],[1.0,\"#f0f921\"]]}],\"surface\":[{\"type\":\"surface\",\"colorbar\":{\"outlinewidth\":0,\"ticks\":\"\"},\"colorscale\":[[0.0,\"#0d0887\"],[0.1111111111111111,\"#46039f\"],[0.2222222222222222,\"#7201a8\"],[0.3333333333333333,\"#9c179e\"],[0.4444444444444444,\"#bd3786\"],[0.5555555555555556,\"#d8576b\"],[0.6666666666666666,\"#ed7953\"],[0.7777777777777778,\"#fb9f3a\"],[0.8888888888888888,\"#fdca26\"],[1.0,\"#f0f921\"]]}],\"mesh3d\":[{\"type\":\"mesh3d\",\"colorbar\":{\"outlinewidth\":0,\"ticks\":\"\"}}],\"scatter\":[{\"fillpattern\":{\"fillmode\":\"overlay\",\"size\":10,\"solidity\":0.2},\"type\":\"scatter\"}],\"parcoords\":[{\"type\":\"parcoords\",\"line\":{\"colorbar\":{\"outlinewidth\":0,\"ticks\":\"\"}}}],\"scatterpolargl\":[{\"type\":\"scatterpolargl\",\"marker\":{\"colorbar\":{\"outlinewidth\":0,\"ticks\":\"\"}}}],\"bar\":[{\"error_x\":{\"color\":\"#2a3f5f\"},\"error_y\":{\"color\":\"#2a3f5f\"},\"marker\":{\"line\":{\"color\":\"#E5ECF6\",\"width\":0.5},\"pattern\":{\"fillmode\":\"overlay\",\"size\":10,\"solidity\":0.2}},\"type\":\"bar\"}],\"scattergeo\":[{\"type\":\"scattergeo\",\"marker\":{\"colorbar\":{\"outlinewidth\":0,\"ticks\":\"\"}}}],\"scatterpolar\":[{\"type\":\"scatterpolar\",\"marker\":{\"colorbar\":{\"outlinewidth\":0,\"ticks\":\"\"}}}],\"histogram\":[{\"marker\":{\"pattern\":{\"fillmode\":\"overlay\",\"size\":10,\"solidity\":0.2}},\"type\":\"histogram\"}],\"scattergl\":[{\"type\":\"scattergl\",\"marker\":{\"colorbar\":{\"outlinewidth\":0,\"ticks\":\"\"}}}],\"scatter3d\":[{\"type\":\"scatter3d\",\"line\":{\"colorbar\":{\"outlinewidth\":0,\"ticks\":\"\"}},\"marker\":{\"colorbar\":{\"outlinewidth\":0,\"ticks\":\"\"}}}],\"scattermapbox\":[{\"type\":\"scattermapbox\",\"marker\":{\"colorbar\":{\"outlinewidth\":0,\"ticks\":\"\"}}}],\"scatterternary\":[{\"type\":\"scatterternary\",\"marker\":{\"colorbar\":{\"outlinewidth\":0,\"ticks\":\"\"}}}],\"scattercarpet\":[{\"type\":\"scattercarpet\",\"marker\":{\"colorbar\":{\"outlinewidth\":0,\"ticks\":\"\"}}}],\"carpet\":[{\"aaxis\":{\"endlinecolor\":\"#2a3f5f\",\"gridcolor\":\"white\",\"linecolor\":\"white\",\"minorgridcolor\":\"white\",\"startlinecolor\":\"#2a3f5f\"},\"baxis\":{\"endlinecolor\":\"#2a3f5f\",\"gridcolor\":\"white\",\"linecolor\":\"white\",\"minorgridcolor\":\"white\",\"startlinecolor\":\"#2a3f5f\"},\"type\":\"carpet\"}],\"table\":[{\"cells\":{\"fill\":{\"color\":\"#EBF0F8\"},\"line\":{\"color\":\"white\"}},\"header\":{\"fill\":{\"color\":\"#C8D4E3\"},\"line\":{\"color\":\"white\"}},\"type\":\"table\"}],\"barpolar\":[{\"marker\":{\"line\":{\"color\":\"#E5ECF6\",\"width\":0.5},\"pattern\":{\"fillmode\":\"overlay\",\"size\":10,\"solidity\":0.2}},\"type\":\"barpolar\"}],\"pie\":[{\"automargin\":true,\"type\":\"pie\"}]},\"layout\":{\"autotypenumbers\":\"strict\",\"colorway\":[\"#636efa\",\"#EF553B\",\"#00cc96\",\"#ab63fa\",\"#FFA15A\",\"#19d3f3\",\"#FF6692\",\"#B6E880\",\"#FF97FF\",\"#FECB52\"],\"font\":{\"color\":\"#2a3f5f\"},\"hovermode\":\"closest\",\"hoverlabel\":{\"align\":\"left\"},\"paper_bgcolor\":\"white\",\"plot_bgcolor\":\"#E5ECF6\",\"polar\":{\"bgcolor\":\"#E5ECF6\",\"angularaxis\":{\"gridcolor\":\"white\",\"linecolor\":\"white\",\"ticks\":\"\"},\"radialaxis\":{\"gridcolor\":\"white\",\"linecolor\":\"white\",\"ticks\":\"\"}},\"ternary\":{\"bgcolor\":\"#E5ECF6\",\"aaxis\":{\"gridcolor\":\"white\",\"linecolor\":\"white\",\"ticks\":\"\"},\"baxis\":{\"gridcolor\":\"white\",\"linecolor\":\"white\",\"ticks\":\"\"},\"caxis\":{\"gridcolor\":\"white\",\"linecolor\":\"white\",\"ticks\":\"\"}},\"coloraxis\":{\"colorbar\":{\"outlinewidth\":0,\"ticks\":\"\"}},\"colorscale\":{\"sequential\":[[0.0,\"#0d0887\"],[0.1111111111111111,\"#46039f\"],[0.2222222222222222,\"#7201a8\"],[0.3333333333333333,\"#9c179e\"],[0.4444444444444444,\"#bd3786\"],[0.5555555555555556,\"#d8576b\"],[0.6666666666666666,\"#ed7953\"],[0.7777777777777778,\"#fb9f3a\"],[0.8888888888888888,\"#fdca26\"],[1.0,\"#f0f921\"]],\"sequentialminus\":[[0.0,\"#0d0887\"],[0.1111111111111111,\"#46039f\"],[0.2222222222222222,\"#7201a8\"],[0.3333333333333333,\"#9c179e\"],[0.4444444444444444,\"#bd3786\"],[0.5555555555555556,\"#d8576b\"],[0.6666666666666666,\"#ed7953\"],[0.7777777777777778,\"#fb9f3a\"],[0.8888888888888888,\"#fdca26\"],[1.0,\"#f0f921\"]],\"diverging\":[[0,\"#8e0152\"],[0.1,\"#c51b7d\"],[0.2,\"#de77ae\"],[0.3,\"#f1b6da\"],[0.4,\"#fde0ef\"],[0.5,\"#f7f7f7\"],[0.6,\"#e6f5d0\"],[0.7,\"#b8e186\"],[0.8,\"#7fbc41\"],[0.9,\"#4d9221\"],[1,\"#276419\"]]},\"xaxis\":{\"gridcolor\":\"white\",\"linecolor\":\"white\",\"ticks\":\"\",\"title\":{\"standoff\":15},\"zerolinecolor\":\"white\",\"automargin\":true,\"zerolinewidth\":2},\"yaxis\":{\"gridcolor\":\"white\",\"linecolor\":\"white\",\"ticks\":\"\",\"title\":{\"standoff\":15},\"zerolinecolor\":\"white\",\"automargin\":true,\"zerolinewidth\":2},\"scene\":{\"xaxis\":{\"backgroundcolor\":\"#E5ECF6\",\"gridcolor\":\"white\",\"linecolor\":\"white\",\"showbackground\":true,\"ticks\":\"\",\"zerolinecolor\":\"white\",\"gridwidth\":2},\"yaxis\":{\"backgroundcolor\":\"#E5ECF6\",\"gridcolor\":\"white\",\"linecolor\":\"white\",\"showbackground\":true,\"ticks\":\"\",\"zerolinecolor\":\"white\",\"gridwidth\":2},\"zaxis\":{\"backgroundcolor\":\"#E5ECF6\",\"gridcolor\":\"white\",\"linecolor\":\"white\",\"showbackground\":true,\"ticks\":\"\",\"zerolinecolor\":\"white\",\"gridwidth\":2}},\"shapedefaults\":{\"line\":{\"color\":\"#2a3f5f\"}},\"annotationdefaults\":{\"arrowcolor\":\"#2a3f5f\",\"arrowhead\":0,\"arrowwidth\":1},\"geo\":{\"bgcolor\":\"white\",\"landcolor\":\"#E5ECF6\",\"subunitcolor\":\"white\",\"showland\":true,\"showlakes\":true,\"lakecolor\":\"white\"},\"title\":{\"x\":0.05},\"mapbox\":{\"style\":\"light\"}}},\"title\":{\"text\":\"trailingPE\",\"x\":0.5,\"y\":0.95},\"yaxis\":{\"title\":{\"text\":\"trailingPE\"}}},                        {\"responsive\": true}                    ).then(function(){\n",
              "                            \n",
              "var gd = document.getElementById('6cd862b5-f397-4756-b811-db90f2658a86');\n",
              "var x = new MutationObserver(function (mutations, observer) {{\n",
              "        var display = window.getComputedStyle(gd).display;\n",
              "        if (!display || display === 'none') {{\n",
              "            console.log([gd, 'removed!']);\n",
              "            Plotly.purge(gd);\n",
              "            observer.disconnect();\n",
              "        }}\n",
              "}});\n",
              "\n",
              "// Listen for the removal of the full notebook cells\n",
              "var notebookContainer = gd.closest('#notebook-container');\n",
              "if (notebookContainer) {{\n",
              "    x.observe(notebookContainer, {childList: true});\n",
              "}}\n",
              "\n",
              "// Listen for the clearing of the current output cell\n",
              "var outputEl = gd.closest('.output');\n",
              "if (outputEl) {{\n",
              "    x.observe(outputEl, {childList: true});\n",
              "}}\n",
              "\n",
              "                        })                };                            </script>        </div>\n",
              "</body>\n",
              "</html>"
            ]
          },
          "metadata": {}
        },
        {
          "output_type": "display_data",
          "data": {
            "text/html": [
              "<html>\n",
              "<head><meta charset=\"utf-8\" /></head>\n",
              "<body>\n",
              "    <div>            <script src=\"https://cdnjs.cloudflare.com/ajax/libs/mathjax/2.7.5/MathJax.js?config=TeX-AMS-MML_SVG\"></script><script type=\"text/javascript\">if (window.MathJax && window.MathJax.Hub && window.MathJax.Hub.Config) {window.MathJax.Hub.Config({SVG: {font: \"STIX-Web\"}});}</script>                <script type=\"text/javascript\">window.PlotlyConfig = {MathJaxConfig: 'local'};</script>\n",
              "        <script src=\"https://cdn.plot.ly/plotly-2.18.2.min.js\"></script>                <div id=\"c50c180d-257f-4638-9f8b-1832b21c3084\" class=\"plotly-graph-div\" style=\"height:525px; width:100%;\"></div>            <script type=\"text/javascript\">                                    window.PLOTLYENV=window.PLOTLYENV || {};                                    if (document.getElementById(\"c50c180d-257f-4638-9f8b-1832b21c3084\")) {                    Plotly.newPlot(                        \"c50c180d-257f-4638-9f8b-1832b21c3084\",                        [{\"marker\":{\"color\":\"#003f5c\"},\"name\":\"Cluster 0\",\"y\":[0.023940905484103422,0.008474251528346731,0.00820928513281499,0.007024647015225989,0.0019631813538427607,0.004929216120050807,0.010351447314680073,0.004912392856842442,0.003849723397514083,0.0056694395142937,0.11810585010285557,0.0023730149250383433,0.004020759906799122,0.004287595553798459,0.01076128069895051,0.00771206424243444,0.021082819990149045,0.00623208439296526,0.0109080169391568,0.003895987090949365,0.010900539933286416,0.0,0.01294269716163511,0.010475284757095445,0.004835286233804105,0.00408852027249948,0.017191506682106686,0.14410480145278223,0.0026884509232700314,0.004206283301883178,0.005560088957677343,0.0036445730489454153,0.01022059971194835,0.011826286722613363,0.0025141432239166985,0.0009093908389854826,0.0021454334653959496,0.005411015685823691,0.0035230719372081054,0.002205716731763349,0.004168430772739211,0.003819815374032546,0.0039983288891879696,0.0043960123258441775,0.004295072559668844,0.010758009976195082,0.015518992996849378,0.002190762579828721,0.007102220951131225,0.05981837885427971,0.008519113563569037,0.012777735719619758,0.01264875736835563,0.005874122736920615,0.0018669149032615635,0.006187689203296987,0.008293868761723711,0.004686213242338173,0.011991248164628715,0.0018617744617256745,0.03714950366700407,0.008148534460118118,0.005357275173443171,0.008927077696371877,0.002411334393198916,0.10902829766334222,0.0022631962143919277,0.010790254096698247,0.0022678693430609183,0.027036385914442494,0.0033674565188742994,0.01385536012531462,0.0010622021464614603,0.0050801581760591885,0.005481580162381876,0.004180580626890865,0.017069537089220307,0.011954330448143693,0.02099029204250304,0.01748684841398686,0.01475540377233639,0.0036567231834847896,0.002411334393198916,0.014746057514998407,0.0027407899643627207,0.007634957619396102,0.02046316312864095,0.0035576530426273453,0.0015070839957493222,0.004504896036906502,0.0039847770029730455,0.004451622183154867,0.011343085218239781,0.02635083653676304,0.00536428411874607,0.0036464423004130115,0.0010729503424001376,0.028373368026640575,0.0053563398000087865,0.00026262983119724624,0.0050731484830557035],\"type\":\"box\"},{\"marker\":{\"color\":\"#bc5090\"},\"name\":\"Cluster 1\",\"y\":[0.00628442343405795,0.014442304151514047,0.022963753344791848,0.013950223702669386,0.005913377017740132,0.021941272324703935,0.007569066037850474,0.012967932056447657,0.004612377809368128,0.10068162254765892,0.0235703263806525,0.007031656240916607,0.005736732754052305,0.006402186743829369,0.02580968963883258,0.015170377598142713,0.012645953491154235,0.017469088655793233,0.015242343779645161,0.015699843076339294,0.012751098886206513,0.02047764982751482,0.013876855582566239,0.011332804335168005,0.001888411295138918,0.005750752326984422,0.007020441199423897,0.004742290973291201,0.00961963489780335,0.018661205648504087,0.02070476294620201,0.0069409984793639325,0.01619239083805086,0.005656354754020527,0.006795663710445471,0.006095629035830747,0.004190861790350364,0.011971621958844691,0.014026395699973927,0.0019585082251737706,0.013370289369473442,0.005522703928325422,0.006272272832205709,0.043137647939570846,0.0032758630100369456,0.004232452635504376,0.0484715598062334,0.03182026773288771,0.009733659704639576,0.00924298119439561,0.011172516021821642,0.025718096316920375,0.13381877793946803,0.004403021831922516,0.016834478717170104,0.001562694226910305,0.02279832692647393,0.004741356347557403,0.011295886151370114,0.06065487355915761,0.001737001832801064,0.001737001832801064,0.01080380616983832,0.01833408570704904,0.008790622339237364,0.01735413062516181,0.016394269996551233,0.007466724987312457,0.012293132276645479,0.008963995412856899,0.017917241695149386,0.015082056400924533,0.030056161660343927,0.009815906769213803,0.018715881721244138,0.019131789705471396,0.010737914588292692,0.07041143159427524,0.009492993110873716,0.010058442147134392,0.002947809564398984,0.020870659948576894,0.048761761096577684,0.01752329788297925,0.019508442941566267,0.009133630450854108,0.012072560603469144,0.005751686765793073,0.014244630808815764,0.02683871257174421,0.015462448139954597,0.0051745550947850695,0.02765370808086756,0.0030482818307822727,0.005776921894262053,0.029942604633687465],\"type\":\"box\"},{\"marker\":{\"color\":\"#ffa600\"},\"name\":\"Cluster 2\",\"y\":[0.007424666829291545,0.038622006510602866,0.011560385234034957,0.02550733821394892,0.004551627323596403,0.10327240508174705,0.005732526938250213,0.01596854797480623,0.0056493452479421885,0.003043141669634104,0.0073171848699047715,0.013548802884628865,0.006973709912733996,0.012206679396269161,0.0039095394444771565,0.041524954039779544,0.022244559777259997,0.008151806117499279,0.004454426247281408,0.005434848455110394,0.007023245076625292,0.008732208230874988,0.002437504100670407,0.002228615155703974,0.006602663963729045,0.02011875354573638,0.01910935868786024,0.007551308616221179,0.005003986178754649,0.007920018935517368,0.02558537946272105,0.0032978269017063465,0.00740363775028109,0.0033263329865871865,0.01649801251837708,0.01480166774615939,0.011622538779958261,0.003650648116215103,0.0050787562374584915,0.0050787562374584915,0.010676229757174888,0.01534468623212178,0.006295638942863526,0.024885344788106327,0.009069608120776076,0.008925675290458313,0.003043141669634104,0.006035812988867673,0.012224437285211323,0.011366450861584733,0.005591398452446711,0.004416573905062588,0.04574385460214385,0.007481211686186326,0.005019874816229216,0.0032496936764157477,0.011267847846669041,0.013581513850686063,0.006616682882423149,0.07199422494759088,0.006532099253514428,0.0065213510575757505,0.014075931798490956,0.008719590316155847,0.017429835309599448,0.010245367761206865,0.016184446519313576,0.017543858714497075,0.011273923381251596,0.008654633827656884,0.02577277192234756,0.0023365644279576465,0.004568450119491901,0.006321808463409871,0.008411164291315365,0.007493362288038568,0.011163637544663428,0.0021496391877354674,0.014926440281621428,0.0032118413341969275,0.017241040911372244,0.0034520403814394546,0.03678079381502075,0.000762187285912293,0.007666267581478336,0.004268903039122499,0.006726034093277518,0.029548661288830196,0.027342010398645915,0.011790770944729037,0.025401258193162843,0.019770136745091114,0.004266099442308826,0.00624610377897223,0.01510308361068352,0.010092556453730887,0.005063334679194391,0.005096047280846622,0.00172158060165597,0.0211052510077602],\"type\":\"box\"},{\"marker\":{\"color\":\"#90EE90\"},\"name\":\"Cluster 3\",\"y\":[0.18544984003880566,1.0000000000000002],\"type\":\"box\"},{\"marker\":{\"color\":\"#ADD8E6\"},\"name\":\"Cluster 4\",\"y\":[0.016818590079695536,0.008057408451072811,0.022202034306372187,0.005406342557154701,0.01580218599612878,0.027488277456733837,0.014025928387107027,0.006999412120413441,0.006076469208287888,0.0027959328826568045,0.003252964866484041,0.0037324278679224305,0.008884084912617166,0.0023543220832433756,0.0007804124877213544,0.0038515926489816788,0.011048210799226504,0.01692794222517564,0.02097206684069398,0.014475483365063876,0.0006107779170370121,0.002930051909113255,0.029107516540538926,0.006353118425492106,0.011469727005169414,0.0017000842097786152,0.004280585860794974,0.0033721296475432896,0.00883875603184083],\"type\":\"box\"},{\"marker\":{\"color\":\"#000000\"},\"name\":\"Cluster 5\",\"y\":[0.06802252354555881,0.018018183143651043],\"type\":\"box\"}],                        {\"template\":{\"data\":{\"histogram2dcontour\":[{\"type\":\"histogram2dcontour\",\"colorbar\":{\"outlinewidth\":0,\"ticks\":\"\"},\"colorscale\":[[0.0,\"#0d0887\"],[0.1111111111111111,\"#46039f\"],[0.2222222222222222,\"#7201a8\"],[0.3333333333333333,\"#9c179e\"],[0.4444444444444444,\"#bd3786\"],[0.5555555555555556,\"#d8576b\"],[0.6666666666666666,\"#ed7953\"],[0.7777777777777778,\"#fb9f3a\"],[0.8888888888888888,\"#fdca26\"],[1.0,\"#f0f921\"]]}],\"choropleth\":[{\"type\":\"choropleth\",\"colorbar\":{\"outlinewidth\":0,\"ticks\":\"\"}}],\"histogram2d\":[{\"type\":\"histogram2d\",\"colorbar\":{\"outlinewidth\":0,\"ticks\":\"\"},\"colorscale\":[[0.0,\"#0d0887\"],[0.1111111111111111,\"#46039f\"],[0.2222222222222222,\"#7201a8\"],[0.3333333333333333,\"#9c179e\"],[0.4444444444444444,\"#bd3786\"],[0.5555555555555556,\"#d8576b\"],[0.6666666666666666,\"#ed7953\"],[0.7777777777777778,\"#fb9f3a\"],[0.8888888888888888,\"#fdca26\"],[1.0,\"#f0f921\"]]}],\"heatmap\":[{\"type\":\"heatmap\",\"colorbar\":{\"outlinewidth\":0,\"ticks\":\"\"},\"colorscale\":[[0.0,\"#0d0887\"],[0.1111111111111111,\"#46039f\"],[0.2222222222222222,\"#7201a8\"],[0.3333333333333333,\"#9c179e\"],[0.4444444444444444,\"#bd3786\"],[0.5555555555555556,\"#d8576b\"],[0.6666666666666666,\"#ed7953\"],[0.7777777777777778,\"#fb9f3a\"],[0.8888888888888888,\"#fdca26\"],[1.0,\"#f0f921\"]]}],\"heatmapgl\":[{\"type\":\"heatmapgl\",\"colorbar\":{\"outlinewidth\":0,\"ticks\":\"\"},\"colorscale\":[[0.0,\"#0d0887\"],[0.1111111111111111,\"#46039f\"],[0.2222222222222222,\"#7201a8\"],[0.3333333333333333,\"#9c179e\"],[0.4444444444444444,\"#bd3786\"],[0.5555555555555556,\"#d8576b\"],[0.6666666666666666,\"#ed7953\"],[0.7777777777777778,\"#fb9f3a\"],[0.8888888888888888,\"#fdca26\"],[1.0,\"#f0f921\"]]}],\"contourcarpet\":[{\"type\":\"contourcarpet\",\"colorbar\":{\"outlinewidth\":0,\"ticks\":\"\"}}],\"contour\":[{\"type\":\"contour\",\"colorbar\":{\"outlinewidth\":0,\"ticks\":\"\"},\"colorscale\":[[0.0,\"#0d0887\"],[0.1111111111111111,\"#46039f\"],[0.2222222222222222,\"#7201a8\"],[0.3333333333333333,\"#9c179e\"],[0.4444444444444444,\"#bd3786\"],[0.5555555555555556,\"#d8576b\"],[0.6666666666666666,\"#ed7953\"],[0.7777777777777778,\"#fb9f3a\"],[0.8888888888888888,\"#fdca26\"],[1.0,\"#f0f921\"]]}],\"surface\":[{\"type\":\"surface\",\"colorbar\":{\"outlinewidth\":0,\"ticks\":\"\"},\"colorscale\":[[0.0,\"#0d0887\"],[0.1111111111111111,\"#46039f\"],[0.2222222222222222,\"#7201a8\"],[0.3333333333333333,\"#9c179e\"],[0.4444444444444444,\"#bd3786\"],[0.5555555555555556,\"#d8576b\"],[0.6666666666666666,\"#ed7953\"],[0.7777777777777778,\"#fb9f3a\"],[0.8888888888888888,\"#fdca26\"],[1.0,\"#f0f921\"]]}],\"mesh3d\":[{\"type\":\"mesh3d\",\"colorbar\":{\"outlinewidth\":0,\"ticks\":\"\"}}],\"scatter\":[{\"fillpattern\":{\"fillmode\":\"overlay\",\"size\":10,\"solidity\":0.2},\"type\":\"scatter\"}],\"parcoords\":[{\"type\":\"parcoords\",\"line\":{\"colorbar\":{\"outlinewidth\":0,\"ticks\":\"\"}}}],\"scatterpolargl\":[{\"type\":\"scatterpolargl\",\"marker\":{\"colorbar\":{\"outlinewidth\":0,\"ticks\":\"\"}}}],\"bar\":[{\"error_x\":{\"color\":\"#2a3f5f\"},\"error_y\":{\"color\":\"#2a3f5f\"},\"marker\":{\"line\":{\"color\":\"#E5ECF6\",\"width\":0.5},\"pattern\":{\"fillmode\":\"overlay\",\"size\":10,\"solidity\":0.2}},\"type\":\"bar\"}],\"scattergeo\":[{\"type\":\"scattergeo\",\"marker\":{\"colorbar\":{\"outlinewidth\":0,\"ticks\":\"\"}}}],\"scatterpolar\":[{\"type\":\"scatterpolar\",\"marker\":{\"colorbar\":{\"outlinewidth\":0,\"ticks\":\"\"}}}],\"histogram\":[{\"marker\":{\"pattern\":{\"fillmode\":\"overlay\",\"size\":10,\"solidity\":0.2}},\"type\":\"histogram\"}],\"scattergl\":[{\"type\":\"scattergl\",\"marker\":{\"colorbar\":{\"outlinewidth\":0,\"ticks\":\"\"}}}],\"scatter3d\":[{\"type\":\"scatter3d\",\"line\":{\"colorbar\":{\"outlinewidth\":0,\"ticks\":\"\"}},\"marker\":{\"colorbar\":{\"outlinewidth\":0,\"ticks\":\"\"}}}],\"scattermapbox\":[{\"type\":\"scattermapbox\",\"marker\":{\"colorbar\":{\"outlinewidth\":0,\"ticks\":\"\"}}}],\"scatterternary\":[{\"type\":\"scatterternary\",\"marker\":{\"colorbar\":{\"outlinewidth\":0,\"ticks\":\"\"}}}],\"scattercarpet\":[{\"type\":\"scattercarpet\",\"marker\":{\"colorbar\":{\"outlinewidth\":0,\"ticks\":\"\"}}}],\"carpet\":[{\"aaxis\":{\"endlinecolor\":\"#2a3f5f\",\"gridcolor\":\"white\",\"linecolor\":\"white\",\"minorgridcolor\":\"white\",\"startlinecolor\":\"#2a3f5f\"},\"baxis\":{\"endlinecolor\":\"#2a3f5f\",\"gridcolor\":\"white\",\"linecolor\":\"white\",\"minorgridcolor\":\"white\",\"startlinecolor\":\"#2a3f5f\"},\"type\":\"carpet\"}],\"table\":[{\"cells\":{\"fill\":{\"color\":\"#EBF0F8\"},\"line\":{\"color\":\"white\"}},\"header\":{\"fill\":{\"color\":\"#C8D4E3\"},\"line\":{\"color\":\"white\"}},\"type\":\"table\"}],\"barpolar\":[{\"marker\":{\"line\":{\"color\":\"#E5ECF6\",\"width\":0.5},\"pattern\":{\"fillmode\":\"overlay\",\"size\":10,\"solidity\":0.2}},\"type\":\"barpolar\"}],\"pie\":[{\"automargin\":true,\"type\":\"pie\"}]},\"layout\":{\"autotypenumbers\":\"strict\",\"colorway\":[\"#636efa\",\"#EF553B\",\"#00cc96\",\"#ab63fa\",\"#FFA15A\",\"#19d3f3\",\"#FF6692\",\"#B6E880\",\"#FF97FF\",\"#FECB52\"],\"font\":{\"color\":\"#2a3f5f\"},\"hovermode\":\"closest\",\"hoverlabel\":{\"align\":\"left\"},\"paper_bgcolor\":\"white\",\"plot_bgcolor\":\"#E5ECF6\",\"polar\":{\"bgcolor\":\"#E5ECF6\",\"angularaxis\":{\"gridcolor\":\"white\",\"linecolor\":\"white\",\"ticks\":\"\"},\"radialaxis\":{\"gridcolor\":\"white\",\"linecolor\":\"white\",\"ticks\":\"\"}},\"ternary\":{\"bgcolor\":\"#E5ECF6\",\"aaxis\":{\"gridcolor\":\"white\",\"linecolor\":\"white\",\"ticks\":\"\"},\"baxis\":{\"gridcolor\":\"white\",\"linecolor\":\"white\",\"ticks\":\"\"},\"caxis\":{\"gridcolor\":\"white\",\"linecolor\":\"white\",\"ticks\":\"\"}},\"coloraxis\":{\"colorbar\":{\"outlinewidth\":0,\"ticks\":\"\"}},\"colorscale\":{\"sequential\":[[0.0,\"#0d0887\"],[0.1111111111111111,\"#46039f\"],[0.2222222222222222,\"#7201a8\"],[0.3333333333333333,\"#9c179e\"],[0.4444444444444444,\"#bd3786\"],[0.5555555555555556,\"#d8576b\"],[0.6666666666666666,\"#ed7953\"],[0.7777777777777778,\"#fb9f3a\"],[0.8888888888888888,\"#fdca26\"],[1.0,\"#f0f921\"]],\"sequentialminus\":[[0.0,\"#0d0887\"],[0.1111111111111111,\"#46039f\"],[0.2222222222222222,\"#7201a8\"],[0.3333333333333333,\"#9c179e\"],[0.4444444444444444,\"#bd3786\"],[0.5555555555555556,\"#d8576b\"],[0.6666666666666666,\"#ed7953\"],[0.7777777777777778,\"#fb9f3a\"],[0.8888888888888888,\"#fdca26\"],[1.0,\"#f0f921\"]],\"diverging\":[[0,\"#8e0152\"],[0.1,\"#c51b7d\"],[0.2,\"#de77ae\"],[0.3,\"#f1b6da\"],[0.4,\"#fde0ef\"],[0.5,\"#f7f7f7\"],[0.6,\"#e6f5d0\"],[0.7,\"#b8e186\"],[0.8,\"#7fbc41\"],[0.9,\"#4d9221\"],[1,\"#276419\"]]},\"xaxis\":{\"gridcolor\":\"white\",\"linecolor\":\"white\",\"ticks\":\"\",\"title\":{\"standoff\":15},\"zerolinecolor\":\"white\",\"automargin\":true,\"zerolinewidth\":2},\"yaxis\":{\"gridcolor\":\"white\",\"linecolor\":\"white\",\"ticks\":\"\",\"title\":{\"standoff\":15},\"zerolinecolor\":\"white\",\"automargin\":true,\"zerolinewidth\":2},\"scene\":{\"xaxis\":{\"backgroundcolor\":\"#E5ECF6\",\"gridcolor\":\"white\",\"linecolor\":\"white\",\"showbackground\":true,\"ticks\":\"\",\"zerolinecolor\":\"white\",\"gridwidth\":2},\"yaxis\":{\"backgroundcolor\":\"#E5ECF6\",\"gridcolor\":\"white\",\"linecolor\":\"white\",\"showbackground\":true,\"ticks\":\"\",\"zerolinecolor\":\"white\",\"gridwidth\":2},\"zaxis\":{\"backgroundcolor\":\"#E5ECF6\",\"gridcolor\":\"white\",\"linecolor\":\"white\",\"showbackground\":true,\"ticks\":\"\",\"zerolinecolor\":\"white\",\"gridwidth\":2}},\"shapedefaults\":{\"line\":{\"color\":\"#2a3f5f\"}},\"annotationdefaults\":{\"arrowcolor\":\"#2a3f5f\",\"arrowhead\":0,\"arrowwidth\":1},\"geo\":{\"bgcolor\":\"white\",\"landcolor\":\"#E5ECF6\",\"subunitcolor\":\"white\",\"showland\":true,\"showlakes\":true,\"lakecolor\":\"white\"},\"title\":{\"x\":0.05},\"mapbox\":{\"style\":\"light\"}}},\"title\":{\"text\":\"returnOnEquity\",\"x\":0.5,\"y\":0.95},\"yaxis\":{\"title\":{\"text\":\"returnOnEquity\"}}},                        {\"responsive\": true}                    ).then(function(){\n",
              "                            \n",
              "var gd = document.getElementById('c50c180d-257f-4638-9f8b-1832b21c3084');\n",
              "var x = new MutationObserver(function (mutations, observer) {{\n",
              "        var display = window.getComputedStyle(gd).display;\n",
              "        if (!display || display === 'none') {{\n",
              "            console.log([gd, 'removed!']);\n",
              "            Plotly.purge(gd);\n",
              "            observer.disconnect();\n",
              "        }}\n",
              "}});\n",
              "\n",
              "// Listen for the removal of the full notebook cells\n",
              "var notebookContainer = gd.closest('#notebook-container');\n",
              "if (notebookContainer) {{\n",
              "    x.observe(notebookContainer, {childList: true});\n",
              "}}\n",
              "\n",
              "// Listen for the clearing of the current output cell\n",
              "var outputEl = gd.closest('.output');\n",
              "if (outputEl) {{\n",
              "    x.observe(outputEl, {childList: true});\n",
              "}}\n",
              "\n",
              "                        })                };                            </script>        </div>\n",
              "</body>\n",
              "</html>"
            ]
          },
          "metadata": {}
        },
        {
          "output_type": "display_data",
          "data": {
            "text/html": [
              "<html>\n",
              "<head><meta charset=\"utf-8\" /></head>\n",
              "<body>\n",
              "    <div>            <script src=\"https://cdnjs.cloudflare.com/ajax/libs/mathjax/2.7.5/MathJax.js?config=TeX-AMS-MML_SVG\"></script><script type=\"text/javascript\">if (window.MathJax && window.MathJax.Hub && window.MathJax.Hub.Config) {window.MathJax.Hub.Config({SVG: {font: \"STIX-Web\"}});}</script>                <script type=\"text/javascript\">window.PlotlyConfig = {MathJaxConfig: 'local'};</script>\n",
              "        <script src=\"https://cdn.plot.ly/plotly-2.18.2.min.js\"></script>                <div id=\"5220f193-f0ab-43e3-bf10-e66883d10d68\" class=\"plotly-graph-div\" style=\"height:525px; width:100%;\"></div>            <script type=\"text/javascript\">                                    window.PLOTLYENV=window.PLOTLYENV || {};                                    if (document.getElementById(\"5220f193-f0ab-43e3-bf10-e66883d10d68\")) {                    Plotly.newPlot(                        \"5220f193-f0ab-43e3-bf10-e66883d10d68\",                        [{\"marker\":{\"color\":\"#003f5c\"},\"name\":\"Cluster 0\",\"y\":[0.38112199465716834,0.21816562778272486,0.23063222617987536,0.22617987533392703,0.38112199465716834,0.3143365983971505,0.44434552092609086,0.27782727515583266,0.35796972395369553,0.30543187889581486,0.3481745503116653,0.19768477292965272,0.22974175422974177,0.3401602671415851,0.31700801424755126,0.24844166518254676,0.2208370436331256,0.32591273374888696,0.2537845057880677,0.23686554764024936,0.34728406055209265,0.26803204808548536,0.2769367764915406,0.26268922528940347,0.219946571682992,0.30276046304541415,0.2724844167408727,0.22617987533392703,0.2600178094390027,0.34105075690115766,0.30988423864648273,0.31789848619768485,0.4968833303650936,0.2609082813891363,0.31700801424755126,0.4692787177203919,0.4746215494211933,0.31700801424755126,0.401602876224399,0.3980409260908282,0.39180765805877127,0.39180765805877127,0.3820124666073019,0.3526268922528941,0.32413178984861984,0.3926981032947463,0.307212822796082,0.3766696349065005,0.244879786286732,0.2582368655387356,0.2270703472840606,0.22885128227960821,0.3446126714158505,0.21816562778272486,0.4105075690115762,0.2537845057880677,0.2172751647373108,0.45503116651825476,0.2867319679430098,0.2751558325912734,0.4105075690115762,0.2724844167408727,0.2537845057880677,0.3143365983971505,0.22796081032947466,0.3125556544968834,0.36954585930543193,0.19412288512911843,0.22885128227960821,0.23686554764024936,0.29652715939447916,0.232413196794301,0.35529830810329477,0.3374888691006234,0.2270703472840606,0.32947462154942125,0.2742653606411399,0.350845948352627,0.2911843098842387,0.24666073018699913,0.3864648263579698,0.3998219323241319,0.32591273374888696,0.22885128227960821,0.2475511932324132,0.33926981300089054,0.3677649332146038,0.2235084594835263,0.46037399821905617,0.29296525378450583,0.24577025823686555,0.357079252003562,0.2751558325912734,0.24844166518254676,0.20391807658058772,0.32502226179875343,0.3793410507569012,0.33837934105075695,0.31789848619768485,0.29563668744434557,0.2858414959928763],\"type\":\"box\"},{\"marker\":{\"color\":\"#bc5090\"},\"name\":\"Cluster 1\",\"y\":[0.1585040071237756,0.12733749332146038,0.06856634906500446,0.1344612644701692,0.23508460373998222,0.15405164737310778,0.05788067943009796,0.09617097061442564,0.17186108637577918,0.2644701691896706,0.08192341941228852,0.03205699020480855,0.26268922528940347,0.12644702582368658,0.2021371326803206,0.15939447016918967,0.22885128227960821,0.0854853072128228,0.20837042742653608,0.12466606411398043,0.08192341941228852,0.26714157613535183,0.24220837043633128,0.12911843276936777,0.18788959038290295,0.350845948352627,0.16651825467497774,0.2021371326803206,0.2315226892252894,0.26803204808548536,0.1504897595725735,0.0641139804096171,0.22439893143365985,0.19679430097951917,0.1522707034728406,0.09439002671415851,0.2662511130899377,0.18967052537845058,0.11754230186999111,0.2769367764915406,0.18699910952804988,0.2555654585930544,0.031166518254674983,0.207479964381122,0.01068566340160285,0.2056990204808549,0.09884238646482636,0.09617097061442564,0.1219946571682992,0.1834372217275156,0.15138023152270705,0.24398931433659843,0.10774711041852182,0.0008904718610863759,0.17275155832591274,0.05699020837043634,0.0854853072128228,0.32680320569902055,0.20837042742653608,0.2555654585930544,0.09260908281389137,0.09260908281389137,0.22617987533392703,0.1344612644701692,0.001780943900267142,0.19768477292965272,0.10685664292074801,0.15672306322350849,0.04541406945681212,0.16295636687444345,0.3312555654496884,0.08459483526268924,0.25645593054318794,0.23508460373998222,0.25111307212822803,0.14514692787177205,0.1985752448797863,0.17631344612644703,0.20837042742653608,0.22261798753339274,0.2146037577916296,0.15672306322350849,0.25467498664292076,0.2617987533392699,0.2555654585930544,0.16918966162065896,0.03561887800534284,0.009795191451469279,0.1585040071237756,0.23775601068566343,0.14870882457702586,0.05253784772929654,0.31700801424755126,0.06233303918076582,0.23775601068566343,0.09795191451469279],\"type\":\"box\"},{\"marker\":{\"color\":\"#ffa600\"},\"name\":\"Cluster 2\",\"y\":[0.17453250222617991,0.21015138023152274,0.06589492430988424,0.14781834372217276,0.17453250222617991,0.10062333036509351,0.09439002671415851,0.17542297417631347,0.13089937666963491,0.13268031611754233,0.061442560997328595,0.17097061442564562,0.06322350845948353,0.11754230186999111,0.13178984861976847,0.11843276936776492,0.2252894033837934,0.16384683882457704,0.15939447016918967,0.1041852181656278,0.17898485307212825,0.1620658949243099,0.0,0.09528049866429208,0.040071237756010694,0.12288512466607303,0.10062333036509351,0.11219946571682994,0.05164737310774711,0.1166518343722173,0.09260908281389137,0.16384683882457704,0.12110418521816564,0.16562778272484419,0.10507569011576136,0.08815672306322352,0.19679430097951917,0.03561887800534284,0.13980409617097064,0.1504897595725735,0.025823686553873553,0.21282279608192345,0.07479964381121995,0.14247551202137132,0.06233303918076582,0.1104185218165628,0.14158504007123776,0.06678539626001781,0.08637577916295638,0.12288512466607303,0.08014247551202137,0.1193232413178985,0.08904718610863759,0.16028495102404278,0.12644702582368658,0.03739982190560998,0.08993765805877116,0.1193232413178985,0.05699020837043634,0.05253784772929654,0.16117542297417634,0.18788959038290295,0.06767586821015138,0.1406945681211042,0.1104185218165628,0.10329474176313447,0.1504897595725735,0.042742653606411406,0.12377559216384684,0.1344612644701692,0.11754230186999111,0.025823686553873553,0.014247552092609084,0.18699910952804988,0.15761353517364204,0.12288512466607303,0.07123775601068567,0.01959038201246661,0.11576136242208371,0.05253784772929654,0.11398040071237757,0.08726625111308994,0.09260908281389137,0.08192341941228852,0.09706144256455923,0.05075689937666964,0.022261798753339272,0.1522707034728406,0.17186108637577918,0.12110418521816564,0.05342831700801425,0.06945681211041853,0.0765805877114871,0.1371326803205699,0.1531611754229742,0.01780943900267142,0.13357079252003562,0.11754230186999111,0.06500445235975066,0.07925200356188782],\"type\":\"box\"},{\"marker\":{\"color\":\"#90EE90\"},\"name\":\"Cluster 3\",\"y\":[0.06856634906500446,0.07925200356188782],\"type\":\"box\"},{\"marker\":{\"color\":\"#ADD8E6\"},\"name\":\"Cluster 4\",\"y\":[0.5494211932324132,0.4746215494211933,0.4390026714158505,0.7105966162065895,0.7693677649154052,0.8530721282279609,0.616206589492431,0.49332146037399827,0.4390026714158505,0.9759572217275156,0.432769394479074,0.5342831700801425,0.5449688334817454,0.47640249332146045,0.44968833481745335,0.6215494211932325,0.48975957257346403,0.5921638824577026,0.3926981032947463,1.0000000000000002,0.553873552983081,0.41317898486197696,0.634906500445236,0.4060552092609084,0.6642920747996439,0.6064113980409618,0.4719501602849511,0.4532502226179876,0.5529830810329475],\"type\":\"box\"},{\"marker\":{\"color\":\"#000000\"},\"name\":\"Cluster 5\",\"y\":[0.047195013357079256,0.07123775601068567],\"type\":\"box\"}],                        {\"template\":{\"data\":{\"histogram2dcontour\":[{\"type\":\"histogram2dcontour\",\"colorbar\":{\"outlinewidth\":0,\"ticks\":\"\"},\"colorscale\":[[0.0,\"#0d0887\"],[0.1111111111111111,\"#46039f\"],[0.2222222222222222,\"#7201a8\"],[0.3333333333333333,\"#9c179e\"],[0.4444444444444444,\"#bd3786\"],[0.5555555555555556,\"#d8576b\"],[0.6666666666666666,\"#ed7953\"],[0.7777777777777778,\"#fb9f3a\"],[0.8888888888888888,\"#fdca26\"],[1.0,\"#f0f921\"]]}],\"choropleth\":[{\"type\":\"choropleth\",\"colorbar\":{\"outlinewidth\":0,\"ticks\":\"\"}}],\"histogram2d\":[{\"type\":\"histogram2d\",\"colorbar\":{\"outlinewidth\":0,\"ticks\":\"\"},\"colorscale\":[[0.0,\"#0d0887\"],[0.1111111111111111,\"#46039f\"],[0.2222222222222222,\"#7201a8\"],[0.3333333333333333,\"#9c179e\"],[0.4444444444444444,\"#bd3786\"],[0.5555555555555556,\"#d8576b\"],[0.6666666666666666,\"#ed7953\"],[0.7777777777777778,\"#fb9f3a\"],[0.8888888888888888,\"#fdca26\"],[1.0,\"#f0f921\"]]}],\"heatmap\":[{\"type\":\"heatmap\",\"colorbar\":{\"outlinewidth\":0,\"ticks\":\"\"},\"colorscale\":[[0.0,\"#0d0887\"],[0.1111111111111111,\"#46039f\"],[0.2222222222222222,\"#7201a8\"],[0.3333333333333333,\"#9c179e\"],[0.4444444444444444,\"#bd3786\"],[0.5555555555555556,\"#d8576b\"],[0.6666666666666666,\"#ed7953\"],[0.7777777777777778,\"#fb9f3a\"],[0.8888888888888888,\"#fdca26\"],[1.0,\"#f0f921\"]]}],\"heatmapgl\":[{\"type\":\"heatmapgl\",\"colorbar\":{\"outlinewidth\":0,\"ticks\":\"\"},\"colorscale\":[[0.0,\"#0d0887\"],[0.1111111111111111,\"#46039f\"],[0.2222222222222222,\"#7201a8\"],[0.3333333333333333,\"#9c179e\"],[0.4444444444444444,\"#bd3786\"],[0.5555555555555556,\"#d8576b\"],[0.6666666666666666,\"#ed7953\"],[0.7777777777777778,\"#fb9f3a\"],[0.8888888888888888,\"#fdca26\"],[1.0,\"#f0f921\"]]}],\"contourcarpet\":[{\"type\":\"contourcarpet\",\"colorbar\":{\"outlinewidth\":0,\"ticks\":\"\"}}],\"contour\":[{\"type\":\"contour\",\"colorbar\":{\"outlinewidth\":0,\"ticks\":\"\"},\"colorscale\":[[0.0,\"#0d0887\"],[0.1111111111111111,\"#46039f\"],[0.2222222222222222,\"#7201a8\"],[0.3333333333333333,\"#9c179e\"],[0.4444444444444444,\"#bd3786\"],[0.5555555555555556,\"#d8576b\"],[0.6666666666666666,\"#ed7953\"],[0.7777777777777778,\"#fb9f3a\"],[0.8888888888888888,\"#fdca26\"],[1.0,\"#f0f921\"]]}],\"surface\":[{\"type\":\"surface\",\"colorbar\":{\"outlinewidth\":0,\"ticks\":\"\"},\"colorscale\":[[0.0,\"#0d0887\"],[0.1111111111111111,\"#46039f\"],[0.2222222222222222,\"#7201a8\"],[0.3333333333333333,\"#9c179e\"],[0.4444444444444444,\"#bd3786\"],[0.5555555555555556,\"#d8576b\"],[0.6666666666666666,\"#ed7953\"],[0.7777777777777778,\"#fb9f3a\"],[0.8888888888888888,\"#fdca26\"],[1.0,\"#f0f921\"]]}],\"mesh3d\":[{\"type\":\"mesh3d\",\"colorbar\":{\"outlinewidth\":0,\"ticks\":\"\"}}],\"scatter\":[{\"fillpattern\":{\"fillmode\":\"overlay\",\"size\":10,\"solidity\":0.2},\"type\":\"scatter\"}],\"parcoords\":[{\"type\":\"parcoords\",\"line\":{\"colorbar\":{\"outlinewidth\":0,\"ticks\":\"\"}}}],\"scatterpolargl\":[{\"type\":\"scatterpolargl\",\"marker\":{\"colorbar\":{\"outlinewidth\":0,\"ticks\":\"\"}}}],\"bar\":[{\"error_x\":{\"color\":\"#2a3f5f\"},\"error_y\":{\"color\":\"#2a3f5f\"},\"marker\":{\"line\":{\"color\":\"#E5ECF6\",\"width\":0.5},\"pattern\":{\"fillmode\":\"overlay\",\"size\":10,\"solidity\":0.2}},\"type\":\"bar\"}],\"scattergeo\":[{\"type\":\"scattergeo\",\"marker\":{\"colorbar\":{\"outlinewidth\":0,\"ticks\":\"\"}}}],\"scatterpolar\":[{\"type\":\"scatterpolar\",\"marker\":{\"colorbar\":{\"outlinewidth\":0,\"ticks\":\"\"}}}],\"histogram\":[{\"marker\":{\"pattern\":{\"fillmode\":\"overlay\",\"size\":10,\"solidity\":0.2}},\"type\":\"histogram\"}],\"scattergl\":[{\"type\":\"scattergl\",\"marker\":{\"colorbar\":{\"outlinewidth\":0,\"ticks\":\"\"}}}],\"scatter3d\":[{\"type\":\"scatter3d\",\"line\":{\"colorbar\":{\"outlinewidth\":0,\"ticks\":\"\"}},\"marker\":{\"colorbar\":{\"outlinewidth\":0,\"ticks\":\"\"}}}],\"scattermapbox\":[{\"type\":\"scattermapbox\",\"marker\":{\"colorbar\":{\"outlinewidth\":0,\"ticks\":\"\"}}}],\"scatterternary\":[{\"type\":\"scatterternary\",\"marker\":{\"colorbar\":{\"outlinewidth\":0,\"ticks\":\"\"}}}],\"scattercarpet\":[{\"type\":\"scattercarpet\",\"marker\":{\"colorbar\":{\"outlinewidth\":0,\"ticks\":\"\"}}}],\"carpet\":[{\"aaxis\":{\"endlinecolor\":\"#2a3f5f\",\"gridcolor\":\"white\",\"linecolor\":\"white\",\"minorgridcolor\":\"white\",\"startlinecolor\":\"#2a3f5f\"},\"baxis\":{\"endlinecolor\":\"#2a3f5f\",\"gridcolor\":\"white\",\"linecolor\":\"white\",\"minorgridcolor\":\"white\",\"startlinecolor\":\"#2a3f5f\"},\"type\":\"carpet\"}],\"table\":[{\"cells\":{\"fill\":{\"color\":\"#EBF0F8\"},\"line\":{\"color\":\"white\"}},\"header\":{\"fill\":{\"color\":\"#C8D4E3\"},\"line\":{\"color\":\"white\"}},\"type\":\"table\"}],\"barpolar\":[{\"marker\":{\"line\":{\"color\":\"#E5ECF6\",\"width\":0.5},\"pattern\":{\"fillmode\":\"overlay\",\"size\":10,\"solidity\":0.2}},\"type\":\"barpolar\"}],\"pie\":[{\"automargin\":true,\"type\":\"pie\"}]},\"layout\":{\"autotypenumbers\":\"strict\",\"colorway\":[\"#636efa\",\"#EF553B\",\"#00cc96\",\"#ab63fa\",\"#FFA15A\",\"#19d3f3\",\"#FF6692\",\"#B6E880\",\"#FF97FF\",\"#FECB52\"],\"font\":{\"color\":\"#2a3f5f\"},\"hovermode\":\"closest\",\"hoverlabel\":{\"align\":\"left\"},\"paper_bgcolor\":\"white\",\"plot_bgcolor\":\"#E5ECF6\",\"polar\":{\"bgcolor\":\"#E5ECF6\",\"angularaxis\":{\"gridcolor\":\"white\",\"linecolor\":\"white\",\"ticks\":\"\"},\"radialaxis\":{\"gridcolor\":\"white\",\"linecolor\":\"white\",\"ticks\":\"\"}},\"ternary\":{\"bgcolor\":\"#E5ECF6\",\"aaxis\":{\"gridcolor\":\"white\",\"linecolor\":\"white\",\"ticks\":\"\"},\"baxis\":{\"gridcolor\":\"white\",\"linecolor\":\"white\",\"ticks\":\"\"},\"caxis\":{\"gridcolor\":\"white\",\"linecolor\":\"white\",\"ticks\":\"\"}},\"coloraxis\":{\"colorbar\":{\"outlinewidth\":0,\"ticks\":\"\"}},\"colorscale\":{\"sequential\":[[0.0,\"#0d0887\"],[0.1111111111111111,\"#46039f\"],[0.2222222222222222,\"#7201a8\"],[0.3333333333333333,\"#9c179e\"],[0.4444444444444444,\"#bd3786\"],[0.5555555555555556,\"#d8576b\"],[0.6666666666666666,\"#ed7953\"],[0.7777777777777778,\"#fb9f3a\"],[0.8888888888888888,\"#fdca26\"],[1.0,\"#f0f921\"]],\"sequentialminus\":[[0.0,\"#0d0887\"],[0.1111111111111111,\"#46039f\"],[0.2222222222222222,\"#7201a8\"],[0.3333333333333333,\"#9c179e\"],[0.4444444444444444,\"#bd3786\"],[0.5555555555555556,\"#d8576b\"],[0.6666666666666666,\"#ed7953\"],[0.7777777777777778,\"#fb9f3a\"],[0.8888888888888888,\"#fdca26\"],[1.0,\"#f0f921\"]],\"diverging\":[[0,\"#8e0152\"],[0.1,\"#c51b7d\"],[0.2,\"#de77ae\"],[0.3,\"#f1b6da\"],[0.4,\"#fde0ef\"],[0.5,\"#f7f7f7\"],[0.6,\"#e6f5d0\"],[0.7,\"#b8e186\"],[0.8,\"#7fbc41\"],[0.9,\"#4d9221\"],[1,\"#276419\"]]},\"xaxis\":{\"gridcolor\":\"white\",\"linecolor\":\"white\",\"ticks\":\"\",\"title\":{\"standoff\":15},\"zerolinecolor\":\"white\",\"automargin\":true,\"zerolinewidth\":2},\"yaxis\":{\"gridcolor\":\"white\",\"linecolor\":\"white\",\"ticks\":\"\",\"title\":{\"standoff\":15},\"zerolinecolor\":\"white\",\"automargin\":true,\"zerolinewidth\":2},\"scene\":{\"xaxis\":{\"backgroundcolor\":\"#E5ECF6\",\"gridcolor\":\"white\",\"linecolor\":\"white\",\"showbackground\":true,\"ticks\":\"\",\"zerolinecolor\":\"white\",\"gridwidth\":2},\"yaxis\":{\"backgroundcolor\":\"#E5ECF6\",\"gridcolor\":\"white\",\"linecolor\":\"white\",\"showbackground\":true,\"ticks\":\"\",\"zerolinecolor\":\"white\",\"gridwidth\":2},\"zaxis\":{\"backgroundcolor\":\"#E5ECF6\",\"gridcolor\":\"white\",\"linecolor\":\"white\",\"showbackground\":true,\"ticks\":\"\",\"zerolinecolor\":\"white\",\"gridwidth\":2}},\"shapedefaults\":{\"line\":{\"color\":\"#2a3f5f\"}},\"annotationdefaults\":{\"arrowcolor\":\"#2a3f5f\",\"arrowhead\":0,\"arrowwidth\":1},\"geo\":{\"bgcolor\":\"white\",\"landcolor\":\"#E5ECF6\",\"subunitcolor\":\"white\",\"showland\":true,\"showlakes\":true,\"lakecolor\":\"white\"},\"title\":{\"x\":0.05},\"mapbox\":{\"style\":\"light\"}}},\"title\":{\"text\":\"dividendYield\",\"x\":0.5,\"y\":0.95},\"yaxis\":{\"title\":{\"text\":\"dividendYield\"}}},                        {\"responsive\": true}                    ).then(function(){\n",
              "                            \n",
              "var gd = document.getElementById('5220f193-f0ab-43e3-bf10-e66883d10d68');\n",
              "var x = new MutationObserver(function (mutations, observer) {{\n",
              "        var display = window.getComputedStyle(gd).display;\n",
              "        if (!display || display === 'none') {{\n",
              "            console.log([gd, 'removed!']);\n",
              "            Plotly.purge(gd);\n",
              "            observer.disconnect();\n",
              "        }}\n",
              "}});\n",
              "\n",
              "// Listen for the removal of the full notebook cells\n",
              "var notebookContainer = gd.closest('#notebook-container');\n",
              "if (notebookContainer) {{\n",
              "    x.observe(notebookContainer, {childList: true});\n",
              "}}\n",
              "\n",
              "// Listen for the clearing of the current output cell\n",
              "var outputEl = gd.closest('.output');\n",
              "if (outputEl) {{\n",
              "    x.observe(outputEl, {childList: true});\n",
              "}}\n",
              "\n",
              "                        })                };                            </script>        </div>\n",
              "</body>\n",
              "</html>"
            ]
          },
          "metadata": {}
        },
        {
          "output_type": "display_data",
          "data": {
            "text/html": [
              "<html>\n",
              "<head><meta charset=\"utf-8\" /></head>\n",
              "<body>\n",
              "    <div>            <script src=\"https://cdnjs.cloudflare.com/ajax/libs/mathjax/2.7.5/MathJax.js?config=TeX-AMS-MML_SVG\"></script><script type=\"text/javascript\">if (window.MathJax && window.MathJax.Hub && window.MathJax.Hub.Config) {window.MathJax.Hub.Config({SVG: {font: \"STIX-Web\"}});}</script>                <script type=\"text/javascript\">window.PlotlyConfig = {MathJaxConfig: 'local'};</script>\n",
              "        <script src=\"https://cdn.plot.ly/plotly-2.18.2.min.js\"></script>                <div id=\"aec4e2c3-329e-451e-89b7-3fa5f498ce0d\" class=\"plotly-graph-div\" style=\"height:525px; width:100%;\"></div>            <script type=\"text/javascript\">                                    window.PLOTLYENV=window.PLOTLYENV || {};                                    if (document.getElementById(\"aec4e2c3-329e-451e-89b7-3fa5f498ce0d\")) {                    Plotly.newPlot(                        \"aec4e2c3-329e-451e-89b7-3fa5f498ce0d\",                        [{\"marker\":{\"color\":\"#003f5c\"},\"name\":\"Cluster 0\",\"y\":[0.11530811030063583,0.18928515246197114,0.22820957584707624,0.20560828815980142,0.23260416329023698,0.11101790100015672,0.20439113790910063,0.083603621178117,0.08590559041600489,0.1202260753253342,0.14209463439845632,0.11206435878960609,0.1359211579253194,0.2276864956391645,0.07983678945917551,0.1448153057015743,0.19001758370249794,0.19095936597563978,0.048864731577183476,0.2141884093871338,0.295908763392593,0.13790939798791058,0.24421868499598398,0.03473888960093352,0.0777438738802768,0.05681679970667067,0.1140525988521973,0.09417168509441466,0.24693935629910196,0.11614521705747012,0.0607929824582272,0.26765707944009304,0.1482681108715932,0.2486135698127706,0.1294339522768858,0.11331987023804461,0.08548688835077482,0.12901525021165572,0.0777438738802768,0.19451714403559212,0.1436641723958174,0.19891173147875285,0.17913549323727773,0.09385795591911796,0.13309610847951975,0.1174007285059087,0.2714239111590345,0.08046454518339478,0.23469707886913566,0.26284378993170227,0.1980746247219185,0.02605409285729368,0.07000085940977879,0.20372502098714368,0.16574237987518042,0.0,0.13749069592268048,0.20435277671136293,0.2833524594137041,0.22109431710079747,0.22925603363652558,0.11039014527593748,0.23323221638808211,0.07753482022128762,0.12217654893743944,0.0766977134644533,0.15601112534209122,0.08956774661863885,0.16124311691571214,0.14962859520996513,0.16657948663201472,0.05713082625559324,0.26389024772115155,0.1752639860020287,0.09019550234285813,0.08998644868386894,0.20351566995452863,0.21680440517394428,0.2393010173449115,0.11352922127065969,0.12566712055794432,0.08402202586972123,0.1880296410135326,0.06885002347764776,0.2522757260154046,0.12409758256058322,0.08297586545389775,0.16773032256414572,0.19022693473511298,0.17055566938357125,0.015381353424688507,0.1020193750812202,0.25531012649381923,0.2555194775264343,0.13372386420373905,0.1723342610399215,0.1723342610399215,0.2746676626700643,0.07073329065030558,0.26294846544800976,0.08182473214814086],\"type\":\"box\"},{\"marker\":{\"color\":\"#bc5090\"},\"name\":\"Cluster 1\",\"y\":[0.3269854967908925,0.3207073448014481,0.4081824732148141,0.30155886228419226,0.28743331768156816,0.38411632304648574,0.31474292198730036,0.3197655625283063,0.29339744312209004,1.0,0.42638887608530224,0.3243695010040821,0.3348328894040722,0.37124599251867435,0.2838755396216159,0.2965255162926549,0.3370304804992784,0.3480169491071803,0.34414544187193136,0.3158940552930573,0.4060895576359154,0.31526629956883795,0.3755362018191534,0.3481216246234879,0.31892845577147194,0.4019043212253697,0.2831431083810891,0.3518884563424293,0.3649681379028558,0.40870555342272585,0.29454827905422104,0.3836976209812557,0.3003033508357537,0.349900513653464,0.5438942801075185,0.35283023861557117,0.3688396451381048,0.5848069435552148,0.4219942886421415,0.3201839672199105,0.27989935687005935,0.34362236166401955,0.33012457278561474,0.2826200281731774,0.372920206032343,0.3177773224657151,0.35858531039710384,0.39907897440594414,0.3764779840922953,0.3530395896481862,0.6651668132223021,0.4357014285531614,0.42126185740161476,0.5657631365542665,0.4196923194042536,0.3698858055539283,0.3367164539503559,0.34550592621030324,0.3971957072332864,0.30229129352471906,0.34372703718032704,0.34372703718032704,0.33462383574508303,0.41875053713111177,0.4773462258677586,0.4036832102553458,0.48822831633297886,0.3952074671706952,0.37040888576184,0.29862913732208507,0.32939184417146206,0.3503189183450682,0.32708987493357417,0.36831626755656716,0.34393638821294215,0.37543152630284593,0.4806946528950959,0.32143977604197493,0.33043830196091145,0.27487701370267936,0.29088612285158705,0.3962539249601445,0.2778067386647865,0.3880925057980423,0.6254052830803626,0.3422621746992735,0.40912425548795595,0.39175466200067627,0.30239596904102656,0.28000403238636684,0.4912627168113935,0.3246835275530046,0.4426073362668251,0.39081287972753437,0.39510308902801355,0.3058490715846714],\"type\":\"box\"},{\"marker\":{\"color\":\"#ffa600\"},\"name\":\"Cluster 2\",\"y\":[0.14858213742051574,0.19399376645405447,0.2582398514559264,0.27770206314847895,0.12127223574115768,0.10672798907330351,0.1599873080936477,0.2373127772823203,0.18185616454039571,0.11938896856849988,0.13466564647688084,0.25143861925857025,0.17453155476150195,0.1587317966452092,0.09877562357019044,0.28136421935111294,0.24882292084538565,0.21293289793869524,0.14502465673418935,0.08914934192703465,0.13770004695529553,0.27916692562953255,0.22255917958185106,0.18446651022831456,0.18907609880298198,0.259914064969595,0.048027624820349155,0.24997375677751665,0.2091660662197538,0.20288791423030933,0.06058392879923802,0.13770004695529553,0.2522757260154046,0.1305847882090168,0.24662532975017942,0.19713284244877666,0.19713284244877666,0.30061737738467625,0.20680700124569812,0.20680700124569812,0.3098252543362279,0.21847861868761287,0.1844721603272062,0.044051442068792634,0.16595173090779547,0.24662532975017942,0.2288373315712955,0.30281467110625665,0.2883748025810841,0.14062977191740272,0.2014230517492558,0.26158827848326366,0.11039014527593748,0.17934484426989272,0.20362034547083613,0.1966097622408649,0.18625075198355645,0.22559358006026575,0.20832895946291946,0.28084113914320114,0.12137691125746523,0.14805905721260404,0.28858415361369916,0.24107960900126174,0.2812598412084313,0.22444274412813475,0.10076386363278163,0.2714239111590345,0.22789584667177953,0.27571412045951366,0.22873265605498794,0.09908965011911301,0.2721563423995613,0.23082557163388667,0.25876322903746407,0.14900054211212,0.09427636061072218,0.2789578719705434,0.1474310041147589,0.2582398514559264,0.24338187561277552,0.2833524594137041,0.2695406439863767,0.20466680326028547,0.23302286535546707,0.24693935629910196,0.18614607646724896,0.22172207282501671,0.19430779300297701,0.15391850713681832,0.20728250167347007,0.2384639105880772,0.17243893655622905,0.09689235639753264,0.16867210483728756,0.27592347149212865,0.17693819951569734,0.27131923564272703,0.25007843229382415,0.17871708854567347],\"type\":\"box\"},{\"marker\":{\"color\":\"#90EE90\"},\"name\":\"Cluster 3\",\"y\":[0.21617664944972498,0.4421889315752209],\"type\":\"box\"},{\"marker\":{\"color\":\"#ADD8E6\"},\"name\":\"Cluster 4\",\"y\":[0.23365062107968632,0.2845032953458351,0.40378758839802753,0.2760278496348103,0.021240803348902826,0.6538660206918517,0.5552997481542764,0.34255597984163666,0.31275497929833507,0.41404192313902843,0.33138008423405324,0.21335130263029944,0.25520545097751174,0.3493774334455522,0.3813956517433678,0.22486114881973895,0.31442919281200365,0.4354920775205463,0.3605732530860692,0.3825467850491247,0.3603639020534541,0.29643184360050473,0.4086008779064183,0.3420528236666585,0.052317536747202395,0.39280111979012566,0.30103578207628057,0.23773147934755035,0.30459326276260695],\"type\":\"box\"},{\"marker\":{\"color\":\"#000000\"},\"name\":\"Cluster 5\",\"y\":[0.3370304804992784,0.22831425136338374],\"type\":\"box\"}],                        {\"template\":{\"data\":{\"histogram2dcontour\":[{\"type\":\"histogram2dcontour\",\"colorbar\":{\"outlinewidth\":0,\"ticks\":\"\"},\"colorscale\":[[0.0,\"#0d0887\"],[0.1111111111111111,\"#46039f\"],[0.2222222222222222,\"#7201a8\"],[0.3333333333333333,\"#9c179e\"],[0.4444444444444444,\"#bd3786\"],[0.5555555555555556,\"#d8576b\"],[0.6666666666666666,\"#ed7953\"],[0.7777777777777778,\"#fb9f3a\"],[0.8888888888888888,\"#fdca26\"],[1.0,\"#f0f921\"]]}],\"choropleth\":[{\"type\":\"choropleth\",\"colorbar\":{\"outlinewidth\":0,\"ticks\":\"\"}}],\"histogram2d\":[{\"type\":\"histogram2d\",\"colorbar\":{\"outlinewidth\":0,\"ticks\":\"\"},\"colorscale\":[[0.0,\"#0d0887\"],[0.1111111111111111,\"#46039f\"],[0.2222222222222222,\"#7201a8\"],[0.3333333333333333,\"#9c179e\"],[0.4444444444444444,\"#bd3786\"],[0.5555555555555556,\"#d8576b\"],[0.6666666666666666,\"#ed7953\"],[0.7777777777777778,\"#fb9f3a\"],[0.8888888888888888,\"#fdca26\"],[1.0,\"#f0f921\"]]}],\"heatmap\":[{\"type\":\"heatmap\",\"colorbar\":{\"outlinewidth\":0,\"ticks\":\"\"},\"colorscale\":[[0.0,\"#0d0887\"],[0.1111111111111111,\"#46039f\"],[0.2222222222222222,\"#7201a8\"],[0.3333333333333333,\"#9c179e\"],[0.4444444444444444,\"#bd3786\"],[0.5555555555555556,\"#d8576b\"],[0.6666666666666666,\"#ed7953\"],[0.7777777777777778,\"#fb9f3a\"],[0.8888888888888888,\"#fdca26\"],[1.0,\"#f0f921\"]]}],\"heatmapgl\":[{\"type\":\"heatmapgl\",\"colorbar\":{\"outlinewidth\":0,\"ticks\":\"\"},\"colorscale\":[[0.0,\"#0d0887\"],[0.1111111111111111,\"#46039f\"],[0.2222222222222222,\"#7201a8\"],[0.3333333333333333,\"#9c179e\"],[0.4444444444444444,\"#bd3786\"],[0.5555555555555556,\"#d8576b\"],[0.6666666666666666,\"#ed7953\"],[0.7777777777777778,\"#fb9f3a\"],[0.8888888888888888,\"#fdca26\"],[1.0,\"#f0f921\"]]}],\"contourcarpet\":[{\"type\":\"contourcarpet\",\"colorbar\":{\"outlinewidth\":0,\"ticks\":\"\"}}],\"contour\":[{\"type\":\"contour\",\"colorbar\":{\"outlinewidth\":0,\"ticks\":\"\"},\"colorscale\":[[0.0,\"#0d0887\"],[0.1111111111111111,\"#46039f\"],[0.2222222222222222,\"#7201a8\"],[0.3333333333333333,\"#9c179e\"],[0.4444444444444444,\"#bd3786\"],[0.5555555555555556,\"#d8576b\"],[0.6666666666666666,\"#ed7953\"],[0.7777777777777778,\"#fb9f3a\"],[0.8888888888888888,\"#fdca26\"],[1.0,\"#f0f921\"]]}],\"surface\":[{\"type\":\"surface\",\"colorbar\":{\"outlinewidth\":0,\"ticks\":\"\"},\"colorscale\":[[0.0,\"#0d0887\"],[0.1111111111111111,\"#46039f\"],[0.2222222222222222,\"#7201a8\"],[0.3333333333333333,\"#9c179e\"],[0.4444444444444444,\"#bd3786\"],[0.5555555555555556,\"#d8576b\"],[0.6666666666666666,\"#ed7953\"],[0.7777777777777778,\"#fb9f3a\"],[0.8888888888888888,\"#fdca26\"],[1.0,\"#f0f921\"]]}],\"mesh3d\":[{\"type\":\"mesh3d\",\"colorbar\":{\"outlinewidth\":0,\"ticks\":\"\"}}],\"scatter\":[{\"fillpattern\":{\"fillmode\":\"overlay\",\"size\":10,\"solidity\":0.2},\"type\":\"scatter\"}],\"parcoords\":[{\"type\":\"parcoords\",\"line\":{\"colorbar\":{\"outlinewidth\":0,\"ticks\":\"\"}}}],\"scatterpolargl\":[{\"type\":\"scatterpolargl\",\"marker\":{\"colorbar\":{\"outlinewidth\":0,\"ticks\":\"\"}}}],\"bar\":[{\"error_x\":{\"color\":\"#2a3f5f\"},\"error_y\":{\"color\":\"#2a3f5f\"},\"marker\":{\"line\":{\"color\":\"#E5ECF6\",\"width\":0.5},\"pattern\":{\"fillmode\":\"overlay\",\"size\":10,\"solidity\":0.2}},\"type\":\"bar\"}],\"scattergeo\":[{\"type\":\"scattergeo\",\"marker\":{\"colorbar\":{\"outlinewidth\":0,\"ticks\":\"\"}}}],\"scatterpolar\":[{\"type\":\"scatterpolar\",\"marker\":{\"colorbar\":{\"outlinewidth\":0,\"ticks\":\"\"}}}],\"histogram\":[{\"marker\":{\"pattern\":{\"fillmode\":\"overlay\",\"size\":10,\"solidity\":0.2}},\"type\":\"histogram\"}],\"scattergl\":[{\"type\":\"scattergl\",\"marker\":{\"colorbar\":{\"outlinewidth\":0,\"ticks\":\"\"}}}],\"scatter3d\":[{\"type\":\"scatter3d\",\"line\":{\"colorbar\":{\"outlinewidth\":0,\"ticks\":\"\"}},\"marker\":{\"colorbar\":{\"outlinewidth\":0,\"ticks\":\"\"}}}],\"scattermapbox\":[{\"type\":\"scattermapbox\",\"marker\":{\"colorbar\":{\"outlinewidth\":0,\"ticks\":\"\"}}}],\"scatterternary\":[{\"type\":\"scatterternary\",\"marker\":{\"colorbar\":{\"outlinewidth\":0,\"ticks\":\"\"}}}],\"scattercarpet\":[{\"type\":\"scattercarpet\",\"marker\":{\"colorbar\":{\"outlinewidth\":0,\"ticks\":\"\"}}}],\"carpet\":[{\"aaxis\":{\"endlinecolor\":\"#2a3f5f\",\"gridcolor\":\"white\",\"linecolor\":\"white\",\"minorgridcolor\":\"white\",\"startlinecolor\":\"#2a3f5f\"},\"baxis\":{\"endlinecolor\":\"#2a3f5f\",\"gridcolor\":\"white\",\"linecolor\":\"white\",\"minorgridcolor\":\"white\",\"startlinecolor\":\"#2a3f5f\"},\"type\":\"carpet\"}],\"table\":[{\"cells\":{\"fill\":{\"color\":\"#EBF0F8\"},\"line\":{\"color\":\"white\"}},\"header\":{\"fill\":{\"color\":\"#C8D4E3\"},\"line\":{\"color\":\"white\"}},\"type\":\"table\"}],\"barpolar\":[{\"marker\":{\"line\":{\"color\":\"#E5ECF6\",\"width\":0.5},\"pattern\":{\"fillmode\":\"overlay\",\"size\":10,\"solidity\":0.2}},\"type\":\"barpolar\"}],\"pie\":[{\"automargin\":true,\"type\":\"pie\"}]},\"layout\":{\"autotypenumbers\":\"strict\",\"colorway\":[\"#636efa\",\"#EF553B\",\"#00cc96\",\"#ab63fa\",\"#FFA15A\",\"#19d3f3\",\"#FF6692\",\"#B6E880\",\"#FF97FF\",\"#FECB52\"],\"font\":{\"color\":\"#2a3f5f\"},\"hovermode\":\"closest\",\"hoverlabel\":{\"align\":\"left\"},\"paper_bgcolor\":\"white\",\"plot_bgcolor\":\"#E5ECF6\",\"polar\":{\"bgcolor\":\"#E5ECF6\",\"angularaxis\":{\"gridcolor\":\"white\",\"linecolor\":\"white\",\"ticks\":\"\"},\"radialaxis\":{\"gridcolor\":\"white\",\"linecolor\":\"white\",\"ticks\":\"\"}},\"ternary\":{\"bgcolor\":\"#E5ECF6\",\"aaxis\":{\"gridcolor\":\"white\",\"linecolor\":\"white\",\"ticks\":\"\"},\"baxis\":{\"gridcolor\":\"white\",\"linecolor\":\"white\",\"ticks\":\"\"},\"caxis\":{\"gridcolor\":\"white\",\"linecolor\":\"white\",\"ticks\":\"\"}},\"coloraxis\":{\"colorbar\":{\"outlinewidth\":0,\"ticks\":\"\"}},\"colorscale\":{\"sequential\":[[0.0,\"#0d0887\"],[0.1111111111111111,\"#46039f\"],[0.2222222222222222,\"#7201a8\"],[0.3333333333333333,\"#9c179e\"],[0.4444444444444444,\"#bd3786\"],[0.5555555555555556,\"#d8576b\"],[0.6666666666666666,\"#ed7953\"],[0.7777777777777778,\"#fb9f3a\"],[0.8888888888888888,\"#fdca26\"],[1.0,\"#f0f921\"]],\"sequentialminus\":[[0.0,\"#0d0887\"],[0.1111111111111111,\"#46039f\"],[0.2222222222222222,\"#7201a8\"],[0.3333333333333333,\"#9c179e\"],[0.4444444444444444,\"#bd3786\"],[0.5555555555555556,\"#d8576b\"],[0.6666666666666666,\"#ed7953\"],[0.7777777777777778,\"#fb9f3a\"],[0.8888888888888888,\"#fdca26\"],[1.0,\"#f0f921\"]],\"diverging\":[[0,\"#8e0152\"],[0.1,\"#c51b7d\"],[0.2,\"#de77ae\"],[0.3,\"#f1b6da\"],[0.4,\"#fde0ef\"],[0.5,\"#f7f7f7\"],[0.6,\"#e6f5d0\"],[0.7,\"#b8e186\"],[0.8,\"#7fbc41\"],[0.9,\"#4d9221\"],[1,\"#276419\"]]},\"xaxis\":{\"gridcolor\":\"white\",\"linecolor\":\"white\",\"ticks\":\"\",\"title\":{\"standoff\":15},\"zerolinecolor\":\"white\",\"automargin\":true,\"zerolinewidth\":2},\"yaxis\":{\"gridcolor\":\"white\",\"linecolor\":\"white\",\"ticks\":\"\",\"title\":{\"standoff\":15},\"zerolinecolor\":\"white\",\"automargin\":true,\"zerolinewidth\":2},\"scene\":{\"xaxis\":{\"backgroundcolor\":\"#E5ECF6\",\"gridcolor\":\"white\",\"linecolor\":\"white\",\"showbackground\":true,\"ticks\":\"\",\"zerolinecolor\":\"white\",\"gridwidth\":2},\"yaxis\":{\"backgroundcolor\":\"#E5ECF6\",\"gridcolor\":\"white\",\"linecolor\":\"white\",\"showbackground\":true,\"ticks\":\"\",\"zerolinecolor\":\"white\",\"gridwidth\":2},\"zaxis\":{\"backgroundcolor\":\"#E5ECF6\",\"gridcolor\":\"white\",\"linecolor\":\"white\",\"showbackground\":true,\"ticks\":\"\",\"zerolinecolor\":\"white\",\"gridwidth\":2}},\"shapedefaults\":{\"line\":{\"color\":\"#2a3f5f\"}},\"annotationdefaults\":{\"arrowcolor\":\"#2a3f5f\",\"arrowhead\":0,\"arrowwidth\":1},\"geo\":{\"bgcolor\":\"white\",\"landcolor\":\"#E5ECF6\",\"subunitcolor\":\"white\",\"showland\":true,\"showlakes\":true,\"lakecolor\":\"white\"},\"title\":{\"x\":0.05},\"mapbox\":{\"style\":\"light\"}}},\"title\":{\"text\":\"beta\",\"x\":0.5,\"y\":0.95},\"yaxis\":{\"title\":{\"text\":\"beta\"}}},                        {\"responsive\": true}                    ).then(function(){\n",
              "                            \n",
              "var gd = document.getElementById('aec4e2c3-329e-451e-89b7-3fa5f498ce0d');\n",
              "var x = new MutationObserver(function (mutations, observer) {{\n",
              "        var display = window.getComputedStyle(gd).display;\n",
              "        if (!display || display === 'none') {{\n",
              "            console.log([gd, 'removed!']);\n",
              "            Plotly.purge(gd);\n",
              "            observer.disconnect();\n",
              "        }}\n",
              "}});\n",
              "\n",
              "// Listen for the removal of the full notebook cells\n",
              "var notebookContainer = gd.closest('#notebook-container');\n",
              "if (notebookContainer) {{\n",
              "    x.observe(notebookContainer, {childList: true});\n",
              "}}\n",
              "\n",
              "// Listen for the clearing of the current output cell\n",
              "var outputEl = gd.closest('.output');\n",
              "if (outputEl) {{\n",
              "    x.observe(outputEl, {childList: true});\n",
              "}}\n",
              "\n",
              "                        })                };                            </script>        </div>\n",
              "</body>\n",
              "</html>"
            ]
          },
          "metadata": {}
        },
        {
          "output_type": "display_data",
          "data": {
            "text/html": [
              "<html>\n",
              "<head><meta charset=\"utf-8\" /></head>\n",
              "<body>\n",
              "    <div>            <script src=\"https://cdnjs.cloudflare.com/ajax/libs/mathjax/2.7.5/MathJax.js?config=TeX-AMS-MML_SVG\"></script><script type=\"text/javascript\">if (window.MathJax && window.MathJax.Hub && window.MathJax.Hub.Config) {window.MathJax.Hub.Config({SVG: {font: \"STIX-Web\"}});}</script>                <script type=\"text/javascript\">window.PlotlyConfig = {MathJaxConfig: 'local'};</script>\n",
              "        <script src=\"https://cdn.plot.ly/plotly-2.18.2.min.js\"></script>                <div id=\"7a9d1006-afd1-4d0b-aeb7-88efeb8fdddb\" class=\"plotly-graph-div\" style=\"height:525px; width:100%;\"></div>            <script type=\"text/javascript\">                                    window.PLOTLYENV=window.PLOTLYENV || {};                                    if (document.getElementById(\"7a9d1006-afd1-4d0b-aeb7-88efeb8fdddb\")) {                    Plotly.newPlot(                        \"7a9d1006-afd1-4d0b-aeb7-88efeb8fdddb\",                        [{\"marker\":{\"color\":\"#003f5c\"},\"name\":\"Cluster 0\",\"y\":[0.08494042703051956,0.012141389998676921,0.012301430707521694,0.019977458814668444,0.00536181955798267,0.0030264557907344223,0.0035053208712567266,0.005966153475043114,0.013556445853692487,0.02858582394925853,0.04035638610544386,0.0006866305884470159,0.00441652643984555,0.0072378373656861285,0.04682351390354572,0.0033897983793050885,0.0024152868915923572,0.0024618692372525347,0.0038147859340835226,0.004754842883531451,0.10130777288114473,0.0038906725480726753,0.070700896379261,0.005407366366756531,0.02146462283510491,0.004433589953056642,0.0905401075471034,0.020496029954262366,0.05675374607707476,0.004323660383765621,0.009918701636614508,0.0077741497048262045,0.015836666642072818,0.008745630245888269,0.029315450153504452,0.00917609558244515,0.013296648546641433,0.006307510003544931,0.022824019222152537,0.007533735542853721,0.005744661163567297,0.006640127521853297,0.0035393057078275955,0.006975987992246164,0.012381617011025052,0.005783363852094285,0.14656999140904636,0.00599940031338826,0.005538489534425778,0.002387967432756039,0.018309609142450684,0.01605167524253929,0.03257623993657953,0.005937997691322965,0.0013699641268712377,0.0059082525979022495,0.001258873279540037,0.04001084064199069,0.0035749694081184964,0.0058323129825546376,0.003951979767692743,0.14201715570998794,0.001901225984840036,0.00659565536131303,0.013893745036822574,0.014522570698863868,0.015140082581270402,0.010125582387379555,0.010260901800532359,0.03855384572584261,0.037480998807383537,0.09835134687152637,0.012054869850074344,0.004719807889009863,0.050897483425501995,0.002359187695112508,0.004664148421041922,0.0024213487848936894,0.011984709210431871,0.08860515003563327,0.07452956245530855,0.0015307578205327472,0.005287942974822269,0.11871011463870344,0.03955340894530281,0.009042894761524289,0.016460573778049065,0.04668559047882281,0.012661260950896237,0.014513198596581778,0.003974693591242233,0.025548976236999938,0.020400506154200648,0.05462783161608049,0.01246948375965911,0.004918531547944681,0.006097139204706977,0.049553363126542245,0.008194229699337896,0.011554822136972115,0.011132252906245876],\"type\":\"box\"},{\"marker\":{\"color\":\"#bc5090\"},\"name\":\"Cluster 1\",\"y\":[0.0018676505380724412,0.06748532077574462,0.006567505426018641,0.04001306304377989,0.01219760360498572,0.00956201199787365,0.010349302949070334,0.014405755704819036,0.0302118442183268,0.0018605732118483472,0.03816313871866259,0.0029189142067869607,0.03361980086304013,0.002126201764909781,0.1181631932552328,0.010516027677506772,0.002455269288781186,0.015438976614534097,0.04175567168039475,0.02063807651914682,0.01127929695094315,0.005278516043548672,0.00763558953274856,0.005097734623795544,0.009428441995076623,0.001721869753339555,0.023600406514570956,0.006450183812092259,0.014203025874237898,0.020816123068803438,0.002913463473977659,0.007530037875666295,0.009351245699243603,0.01800048328831803,0.015538870650745763,0.014306450897502796,0.0368459036329264,0.0076734924490527235,0.012112270686812638,0.005127891300179194,0.043698840381633394,0.0025823351110787025,0.0046782877213724875,0.02204059773565001,0.0066285622599108135,0.01315760807259816,0.020206968586809444,0.02816158791719039,0.0092282547675951,0.0033641215970544053,0.00334176269984329,0.01455191956143927,0.01636386420966429,0.0035167925583870323,0.013051884618009166,0.02505833425462792,0.018888404446319052,0.04735153317495663,0.002221102342101337,0.003568530291355577,0.0021622430541888794,0.002161058747972266,0.015369870153635053,0.010138815912770377,0.33831909850566927,0.014969293927983254,0.01684851886616343,0.013047818499998793,0.004353499783051733,0.00948303120113029,0.00410553822763461,0.0036363278014639733,0.04296465240529385,0.0008927108359360182,0.0009224906543846901,0.009787541916284255,0.020238531078535408,0.0003643907361250299,0.004267214668059428,0.0031690967018868435,0.004759670027943979,0.0039318805559850544,0.01108845696993423,0.0016519945899795445,0.0038895310084694403,0.012090305461760563,0.003966765319069906,0.0028442038574289993,0.011718569285642955,0.040224603527770054,0.0066173003850546865,0.0016728935739100572,0.01226780518360852,0.004372060858784265,0.0058025561922824005,0.010020266129434175],\"type\":\"box\"},{\"marker\":{\"color\":\"#ffa600\"},\"name\":\"Cluster 2\",\"y\":[0.06107828847655046,0.028931319701092733,0.010586020174908612,0.0016905507023358961,0.008365943134948511,0.010569715494940016,0.013693889707502993,0.003095552016888382,0.004194828702414876,0.02279465427640629,0.003652443869701775,0.004535486344038248,0.00470396157941029,0.00900507299212756,0.0034189831204325723,0.006671769698380253,0.0027174056006100513,0.032646198805533246,0.026057967655197255,0.006451833068156876,0.024418153873971546,0.009729988289422953,0.004945435768551965,0.012029765482495024,0.057792637035565156,0.03529750074634594,0.01430195930651831,0.015220485276526918,0.010776980048645633,0.03608019556594766,0.14304959000643816,0.02311175884538346,0.021928759751927835,0.003794603382308739,0.0044531609788127854,0.0037034578599823894,0.0030498125755910174,0.006683723149582626,0.003834715541444141,0.003855009578834995,0.0373811310890878,0.005892362425109469,0.001963619549545219,0.017289339571583476,0.020794130063728995,0.0038198254494565004,0.019635590548912535,0.039745161280730454,0.004548862059280386,0.002314851144944575,0.003371677397611076,0.005086503453174663,0.004120321585852111,0.0022559326417212876,0.0607364362939654,0.003010798823918863,0.002090467152456527,0.02873305514358016,0.007152230302555494,0.11992732409864834,0.006645632352600887,0.033919535607506976,0.006797699463973686,0.008041615760156438,0.056166739583437875,0.002830059805252503,0.022054682206989067,0.010476003975811006,0.011330461903713722,0.0017053951034972788,0.002747398155545781,0.02511185904719308,0.007592233690475433,0.003739818619518686,0.005268731627250431,0.01437801369722148,0.009425954220968515,0.0035401986893359863,0.005340586848257167,0.015600380006581194,0.010916998671897441,0.04004255665489288,0.019266304863188807,0.005427020732579769,0.03523344586319801,0.00233037286691441,0.06820194592952372,0.029621580151541007,0.006684119380427937,0.1589813568032316,0.00969681528745304,0.16080982033001873,0.007657549640428093,0.1401294008428353,0.021928022850281944,0.007233605298594786,0.006701062269857707,0.007012297212530441,0.007848606013190169,0.02485665714068377],\"type\":\"box\"},{\"marker\":{\"color\":\"#90EE90\"},\"name\":\"Cluster 3\",\"y\":[0.020879404497644468,0.02402516013231895],\"type\":\"box\"},{\"marker\":{\"color\":\"#ADD8E6\"},\"name\":\"Cluster 4\",\"y\":[0.016825534552922492,0.0,0.0040716959464416665,0.0011404916384444637,0.00468952181620625,0.008968904134061548,0.006607474298722897,0.010698111103044953,0.001001674866686551,0.015579158993707216,0.002714851300658911,0.0023394616860736963,0.0020889494859715335,0.000747362651946145,0.002452536246317724,0.01133295771940725,0.008314256941231985,0.007438908436510788,0.013442623791530875,0.015125468827399974,0.008682663900985113,0.0018721837990904775,0.012390537322417097,0.006983329228682726,0.05200494132761498,0.0007923757918693092,0.002330883873115281,0.009382455823317462,0.010879293871015933],\"type\":\"box\"},{\"marker\":{\"color\":\"#000000\"},\"name\":\"Cluster 5\",\"y\":[0.9999999999999999,0.8731754369619781],\"type\":\"box\"}],                        {\"template\":{\"data\":{\"histogram2dcontour\":[{\"type\":\"histogram2dcontour\",\"colorbar\":{\"outlinewidth\":0,\"ticks\":\"\"},\"colorscale\":[[0.0,\"#0d0887\"],[0.1111111111111111,\"#46039f\"],[0.2222222222222222,\"#7201a8\"],[0.3333333333333333,\"#9c179e\"],[0.4444444444444444,\"#bd3786\"],[0.5555555555555556,\"#d8576b\"],[0.6666666666666666,\"#ed7953\"],[0.7777777777777778,\"#fb9f3a\"],[0.8888888888888888,\"#fdca26\"],[1.0,\"#f0f921\"]]}],\"choropleth\":[{\"type\":\"choropleth\",\"colorbar\":{\"outlinewidth\":0,\"ticks\":\"\"}}],\"histogram2d\":[{\"type\":\"histogram2d\",\"colorbar\":{\"outlinewidth\":0,\"ticks\":\"\"},\"colorscale\":[[0.0,\"#0d0887\"],[0.1111111111111111,\"#46039f\"],[0.2222222222222222,\"#7201a8\"],[0.3333333333333333,\"#9c179e\"],[0.4444444444444444,\"#bd3786\"],[0.5555555555555556,\"#d8576b\"],[0.6666666666666666,\"#ed7953\"],[0.7777777777777778,\"#fb9f3a\"],[0.8888888888888888,\"#fdca26\"],[1.0,\"#f0f921\"]]}],\"heatmap\":[{\"type\":\"heatmap\",\"colorbar\":{\"outlinewidth\":0,\"ticks\":\"\"},\"colorscale\":[[0.0,\"#0d0887\"],[0.1111111111111111,\"#46039f\"],[0.2222222222222222,\"#7201a8\"],[0.3333333333333333,\"#9c179e\"],[0.4444444444444444,\"#bd3786\"],[0.5555555555555556,\"#d8576b\"],[0.6666666666666666,\"#ed7953\"],[0.7777777777777778,\"#fb9f3a\"],[0.8888888888888888,\"#fdca26\"],[1.0,\"#f0f921\"]]}],\"heatmapgl\":[{\"type\":\"heatmapgl\",\"colorbar\":{\"outlinewidth\":0,\"ticks\":\"\"},\"colorscale\":[[0.0,\"#0d0887\"],[0.1111111111111111,\"#46039f\"],[0.2222222222222222,\"#7201a8\"],[0.3333333333333333,\"#9c179e\"],[0.4444444444444444,\"#bd3786\"],[0.5555555555555556,\"#d8576b\"],[0.6666666666666666,\"#ed7953\"],[0.7777777777777778,\"#fb9f3a\"],[0.8888888888888888,\"#fdca26\"],[1.0,\"#f0f921\"]]}],\"contourcarpet\":[{\"type\":\"contourcarpet\",\"colorbar\":{\"outlinewidth\":0,\"ticks\":\"\"}}],\"contour\":[{\"type\":\"contour\",\"colorbar\":{\"outlinewidth\":0,\"ticks\":\"\"},\"colorscale\":[[0.0,\"#0d0887\"],[0.1111111111111111,\"#46039f\"],[0.2222222222222222,\"#7201a8\"],[0.3333333333333333,\"#9c179e\"],[0.4444444444444444,\"#bd3786\"],[0.5555555555555556,\"#d8576b\"],[0.6666666666666666,\"#ed7953\"],[0.7777777777777778,\"#fb9f3a\"],[0.8888888888888888,\"#fdca26\"],[1.0,\"#f0f921\"]]}],\"surface\":[{\"type\":\"surface\",\"colorbar\":{\"outlinewidth\":0,\"ticks\":\"\"},\"colorscale\":[[0.0,\"#0d0887\"],[0.1111111111111111,\"#46039f\"],[0.2222222222222222,\"#7201a8\"],[0.3333333333333333,\"#9c179e\"],[0.4444444444444444,\"#bd3786\"],[0.5555555555555556,\"#d8576b\"],[0.6666666666666666,\"#ed7953\"],[0.7777777777777778,\"#fb9f3a\"],[0.8888888888888888,\"#fdca26\"],[1.0,\"#f0f921\"]]}],\"mesh3d\":[{\"type\":\"mesh3d\",\"colorbar\":{\"outlinewidth\":0,\"ticks\":\"\"}}],\"scatter\":[{\"fillpattern\":{\"fillmode\":\"overlay\",\"size\":10,\"solidity\":0.2},\"type\":\"scatter\"}],\"parcoords\":[{\"type\":\"parcoords\",\"line\":{\"colorbar\":{\"outlinewidth\":0,\"ticks\":\"\"}}}],\"scatterpolargl\":[{\"type\":\"scatterpolargl\",\"marker\":{\"colorbar\":{\"outlinewidth\":0,\"ticks\":\"\"}}}],\"bar\":[{\"error_x\":{\"color\":\"#2a3f5f\"},\"error_y\":{\"color\":\"#2a3f5f\"},\"marker\":{\"line\":{\"color\":\"#E5ECF6\",\"width\":0.5},\"pattern\":{\"fillmode\":\"overlay\",\"size\":10,\"solidity\":0.2}},\"type\":\"bar\"}],\"scattergeo\":[{\"type\":\"scattergeo\",\"marker\":{\"colorbar\":{\"outlinewidth\":0,\"ticks\":\"\"}}}],\"scatterpolar\":[{\"type\":\"scatterpolar\",\"marker\":{\"colorbar\":{\"outlinewidth\":0,\"ticks\":\"\"}}}],\"histogram\":[{\"marker\":{\"pattern\":{\"fillmode\":\"overlay\",\"size\":10,\"solidity\":0.2}},\"type\":\"histogram\"}],\"scattergl\":[{\"type\":\"scattergl\",\"marker\":{\"colorbar\":{\"outlinewidth\":0,\"ticks\":\"\"}}}],\"scatter3d\":[{\"type\":\"scatter3d\",\"line\":{\"colorbar\":{\"outlinewidth\":0,\"ticks\":\"\"}},\"marker\":{\"colorbar\":{\"outlinewidth\":0,\"ticks\":\"\"}}}],\"scattermapbox\":[{\"type\":\"scattermapbox\",\"marker\":{\"colorbar\":{\"outlinewidth\":0,\"ticks\":\"\"}}}],\"scatterternary\":[{\"type\":\"scatterternary\",\"marker\":{\"colorbar\":{\"outlinewidth\":0,\"ticks\":\"\"}}}],\"scattercarpet\":[{\"type\":\"scattercarpet\",\"marker\":{\"colorbar\":{\"outlinewidth\":0,\"ticks\":\"\"}}}],\"carpet\":[{\"aaxis\":{\"endlinecolor\":\"#2a3f5f\",\"gridcolor\":\"white\",\"linecolor\":\"white\",\"minorgridcolor\":\"white\",\"startlinecolor\":\"#2a3f5f\"},\"baxis\":{\"endlinecolor\":\"#2a3f5f\",\"gridcolor\":\"white\",\"linecolor\":\"white\",\"minorgridcolor\":\"white\",\"startlinecolor\":\"#2a3f5f\"},\"type\":\"carpet\"}],\"table\":[{\"cells\":{\"fill\":{\"color\":\"#EBF0F8\"},\"line\":{\"color\":\"white\"}},\"header\":{\"fill\":{\"color\":\"#C8D4E3\"},\"line\":{\"color\":\"white\"}},\"type\":\"table\"}],\"barpolar\":[{\"marker\":{\"line\":{\"color\":\"#E5ECF6\",\"width\":0.5},\"pattern\":{\"fillmode\":\"overlay\",\"size\":10,\"solidity\":0.2}},\"type\":\"barpolar\"}],\"pie\":[{\"automargin\":true,\"type\":\"pie\"}]},\"layout\":{\"autotypenumbers\":\"strict\",\"colorway\":[\"#636efa\",\"#EF553B\",\"#00cc96\",\"#ab63fa\",\"#FFA15A\",\"#19d3f3\",\"#FF6692\",\"#B6E880\",\"#FF97FF\",\"#FECB52\"],\"font\":{\"color\":\"#2a3f5f\"},\"hovermode\":\"closest\",\"hoverlabel\":{\"align\":\"left\"},\"paper_bgcolor\":\"white\",\"plot_bgcolor\":\"#E5ECF6\",\"polar\":{\"bgcolor\":\"#E5ECF6\",\"angularaxis\":{\"gridcolor\":\"white\",\"linecolor\":\"white\",\"ticks\":\"\"},\"radialaxis\":{\"gridcolor\":\"white\",\"linecolor\":\"white\",\"ticks\":\"\"}},\"ternary\":{\"bgcolor\":\"#E5ECF6\",\"aaxis\":{\"gridcolor\":\"white\",\"linecolor\":\"white\",\"ticks\":\"\"},\"baxis\":{\"gridcolor\":\"white\",\"linecolor\":\"white\",\"ticks\":\"\"},\"caxis\":{\"gridcolor\":\"white\",\"linecolor\":\"white\",\"ticks\":\"\"}},\"coloraxis\":{\"colorbar\":{\"outlinewidth\":0,\"ticks\":\"\"}},\"colorscale\":{\"sequential\":[[0.0,\"#0d0887\"],[0.1111111111111111,\"#46039f\"],[0.2222222222222222,\"#7201a8\"],[0.3333333333333333,\"#9c179e\"],[0.4444444444444444,\"#bd3786\"],[0.5555555555555556,\"#d8576b\"],[0.6666666666666666,\"#ed7953\"],[0.7777777777777778,\"#fb9f3a\"],[0.8888888888888888,\"#fdca26\"],[1.0,\"#f0f921\"]],\"sequentialminus\":[[0.0,\"#0d0887\"],[0.1111111111111111,\"#46039f\"],[0.2222222222222222,\"#7201a8\"],[0.3333333333333333,\"#9c179e\"],[0.4444444444444444,\"#bd3786\"],[0.5555555555555556,\"#d8576b\"],[0.6666666666666666,\"#ed7953\"],[0.7777777777777778,\"#fb9f3a\"],[0.8888888888888888,\"#fdca26\"],[1.0,\"#f0f921\"]],\"diverging\":[[0,\"#8e0152\"],[0.1,\"#c51b7d\"],[0.2,\"#de77ae\"],[0.3,\"#f1b6da\"],[0.4,\"#fde0ef\"],[0.5,\"#f7f7f7\"],[0.6,\"#e6f5d0\"],[0.7,\"#b8e186\"],[0.8,\"#7fbc41\"],[0.9,\"#4d9221\"],[1,\"#276419\"]]},\"xaxis\":{\"gridcolor\":\"white\",\"linecolor\":\"white\",\"ticks\":\"\",\"title\":{\"standoff\":15},\"zerolinecolor\":\"white\",\"automargin\":true,\"zerolinewidth\":2},\"yaxis\":{\"gridcolor\":\"white\",\"linecolor\":\"white\",\"ticks\":\"\",\"title\":{\"standoff\":15},\"zerolinecolor\":\"white\",\"automargin\":true,\"zerolinewidth\":2},\"scene\":{\"xaxis\":{\"backgroundcolor\":\"#E5ECF6\",\"gridcolor\":\"white\",\"linecolor\":\"white\",\"showbackground\":true,\"ticks\":\"\",\"zerolinecolor\":\"white\",\"gridwidth\":2},\"yaxis\":{\"backgroundcolor\":\"#E5ECF6\",\"gridcolor\":\"white\",\"linecolor\":\"white\",\"showbackground\":true,\"ticks\":\"\",\"zerolinecolor\":\"white\",\"gridwidth\":2},\"zaxis\":{\"backgroundcolor\":\"#E5ECF6\",\"gridcolor\":\"white\",\"linecolor\":\"white\",\"showbackground\":true,\"ticks\":\"\",\"zerolinecolor\":\"white\",\"gridwidth\":2}},\"shapedefaults\":{\"line\":{\"color\":\"#2a3f5f\"}},\"annotationdefaults\":{\"arrowcolor\":\"#2a3f5f\",\"arrowhead\":0,\"arrowwidth\":1},\"geo\":{\"bgcolor\":\"white\",\"landcolor\":\"#E5ECF6\",\"subunitcolor\":\"white\",\"showland\":true,\"showlakes\":true,\"lakecolor\":\"white\"},\"title\":{\"x\":0.05},\"mapbox\":{\"style\":\"light\"}}},\"title\":{\"text\":\"marketCap\",\"x\":0.5,\"y\":0.95},\"yaxis\":{\"title\":{\"text\":\"marketCap\"}}},                        {\"responsive\": true}                    ).then(function(){\n",
              "                            \n",
              "var gd = document.getElementById('7a9d1006-afd1-4d0b-aeb7-88efeb8fdddb');\n",
              "var x = new MutationObserver(function (mutations, observer) {{\n",
              "        var display = window.getComputedStyle(gd).display;\n",
              "        if (!display || display === 'none') {{\n",
              "            console.log([gd, 'removed!']);\n",
              "            Plotly.purge(gd);\n",
              "            observer.disconnect();\n",
              "        }}\n",
              "}});\n",
              "\n",
              "// Listen for the removal of the full notebook cells\n",
              "var notebookContainer = gd.closest('#notebook-container');\n",
              "if (notebookContainer) {{\n",
              "    x.observe(notebookContainer, {childList: true});\n",
              "}}\n",
              "\n",
              "// Listen for the clearing of the current output cell\n",
              "var outputEl = gd.closest('.output');\n",
              "if (outputEl) {{\n",
              "    x.observe(outputEl, {childList: true});\n",
              "}}\n",
              "\n",
              "                        })                };                            </script>        </div>\n",
              "</body>\n",
              "</html>"
            ]
          },
          "metadata": {}
        },
        {
          "output_type": "display_data",
          "data": {
            "text/html": [
              "<html>\n",
              "<head><meta charset=\"utf-8\" /></head>\n",
              "<body>\n",
              "    <div>            <script src=\"https://cdnjs.cloudflare.com/ajax/libs/mathjax/2.7.5/MathJax.js?config=TeX-AMS-MML_SVG\"></script><script type=\"text/javascript\">if (window.MathJax && window.MathJax.Hub && window.MathJax.Hub.Config) {window.MathJax.Hub.Config({SVG: {font: \"STIX-Web\"}});}</script>                <script type=\"text/javascript\">window.PlotlyConfig = {MathJaxConfig: 'local'};</script>\n",
              "        <script src=\"https://cdn.plot.ly/plotly-2.18.2.min.js\"></script>                <div id=\"411bc366-1556-47d2-aa52-ef4b564f34c1\" class=\"plotly-graph-div\" style=\"height:525px; width:100%;\"></div>            <script type=\"text/javascript\">                                    window.PLOTLYENV=window.PLOTLYENV || {};                                    if (document.getElementById(\"411bc366-1556-47d2-aa52-ef4b564f34c1\")) {                    Plotly.newPlot(                        \"411bc366-1556-47d2-aa52-ef4b564f34c1\",                        [{\"marker\":{\"color\":\"#003f5c\"},\"name\":\"Cluster 0\",\"y\":[0.02223178560544012,0.0021530881552949367,0.0027026272623052617,0.003160987234968582,0.002475437672877226,0.006758297905453209,0.008299386403285976,0.006835496871072373,0.008565720465151966,0.01812753979976323,0.054562134243835665,0.0022754501744653975,0.0030245502662653457,0.0034694039742254974,0.005834327228549078,0.002905600356072528,0.007689945827557037,0.0035378357153882183,0.006299037515143012,0.007540523888577771,0.0006662142778847143,0.0003756163299554877,0.0010444370799759012,0.08332725551421691,0.0006621860936749973,0.008951004437210775,0.007718095726622588,0.09929990632339145,0.0056994067527247946,0.0050141415330482424,0.0050485943556419395,0.0030077266733894692,0.018691532979526068,0.003624844494318104,0.00504409226740755,0.004760887222263216,0.00919947231734661,0.008702062653050268,0.007010177894566687,0.00933704665570906,0.009747826664295254,0.0030794283523224307,0.0048401713655909385,0.007073870595482682,0.00788055002628035,0.008873426348371873,0.0009323113877383684,0.010017051540711745,8.634531329534424e-05,0.02113194914497999,0.002984505376180513,0.005218631119694461,0.005693009048391715,0.0014209538275782667,0.0070464315524541386,0.002034280416309521,0.0041332487319868496,0.013467499353950342,0.0057793069712845915,0.003580202735193947,0.10176074775230876,0.003518689992791446,0.0018983173516309575,0.007899269235254917,0.002597420568827949,0.04781701087026835,0.001918410882277075,0.009671338554713098,0.002739023091400116,0.007644972335615608,0.0022155960961492503,0.003087295159131996,0.014188544327489672,0.0032715016535222277,0.006299700980777552,0.006835354699864971,0.007717479651390513,0.0034919618057999125,0.0011946646557971091,0.011505394520598454,0.001673734234338621,0.007499815532858397,0.0049281279525701695,0.0037985303193606053,0.002108067272951042,0.006540633786921093,0.0032058659461050754,0.0022813265843713375,0.003114497250148202,0.0046522684198082595,0.0024869535406767704,0.008283178885642175,0.007793114733728257,0.0031289039324982485,0.0014798600978450684,0.0021445578828508303,0.005646045159546662,0.006219753371815289,0.007055767461740189,0.0033671354857011545,0.007337266452395702],\"type\":\"box\"},{\"marker\":{\"color\":\"#bc5090\"},\"name\":\"Cluster 1\",\"y\":[0.0009742518939218918,0.0006024741865662521,0.0016706538581782494,0.007834107431862436,0.00264613790256429,0.0046557753095908365,0.0014575866086854572,0.002908870293842769,0.0008665335091138141,0.01962810950348649,0.0018785081633996435,0.0011694529616845279,0.0010109320654315495,0.0027221047177193045,0.007990164027187116,0.005216782893998238,0.011754146743149091,0.003785640129889511,0.0016254434142244853,0.007090078113126483,0.0013349876375026604,0.01380558248515176,0.005993701152046467,0.0036737039992618473,0.0014756897424279497,0.005154796247571065,0.0024910765056914215,0.00723049587563697,0.0028683988901357306,0.0007581042682687277,0.002114370196479187,0.0067174947689289,0.0009198477118894794,0.007278739305348638,0.0017610273556833108,0.007439345379310175,0.024924982177654396,0.005013288505803831,0.00499257889992564,0.0030663486012414676,0.005420040330180308,0.0032016955906879565,0.0051469294407615,0.012787304907337786,0.0014055993371788749,0.0032607440321621604,0.01068743617401358,0.0028021471074865037,0.0010178984545942365,0.0033135369405106856,0.0024863374654446957,0.003998849550589705,0.3953859472007414,0.02916647058887646,0.004782639416995686,0.0012788300105789595,0.012547414690048525,0.016898422321372425,0.0017302235940795927,0.01154885151966093,0.002192564360550163,0.002192564360550163,0.0057605403719075575,0.0016042125139191536,0.0022793361874677127,0.006396946086640366,0.003216102273038003,0.006467699957523983,8.373884115964506e-05,0.00528692068964978,0.002287250384679745,0.0012398750997508735,0.0038264906568162877,0.00559993429794602,0.0006390121868685081,0.005952850625119691,0.0033638181575284466,0.06720812097101608,0.001815052414495985,0.001280014770640641,0.004293807415545919,0.0017270484371142865,0.03449514222309989,0.006881844684685352,0.013090698263933172,0.0017833482352453893,0.0002132568111026614,0.0026403562734632845,0.003761565805436144,0.013436458640334286,0.008292372623720822,0.004106804887410119,0.001982150973595537,0.002085130318156889,0.002367197993642009,0.004248217848372418],\"type\":\"box\"},{\"marker\":{\"color\":\"#ffa600\"},\"name\":\"Cluster 2\",\"y\":[0.0021478752110235385,0.004362381327916042,0.002221188163640387,0.0102323461391205,0.005586001519620646,0.058060446363566186,0.0034266578312000307,0.008237020633639064,0.01289042642310654,0.0033426820380280495,0.0020461280169263353,0.010238127768221503,0.00405320634221965,0.0047042083009123745,0.0025095587626536523,0.019611096349000746,0.001885758894977134,0.01000108097508028,0.0016156809913162303,0.003326664081994116,0.0034388845550365837,0.0005448474571660663,0.0017220250544527575,0.0009029293382086684,0.001907463699307138,0.012217245756059139,0.015083606858888775,0.005814754992330101,0.0014252663542027872,0.0033169490494883284,0.007946470076112305,0.0066834684599574095,0.006775074107926619,0.001602648630637734,0.0007639332877722004,0.005762767720823518,0.005901384648040249,0.001465642977104891,0.0037053607881099753,0.0037053607881099753,0.003518689992791446,0.005067645297433777,0.0026206892564393726,0.006866205851871156,0.0034040999996256156,0.0023167272150143793,0.003728534694916465,0.0019192639095214855,0.001953669341712715,0.0012749439975766445,0.0027821009672428535,0.002889203276818857,0.021499366935308645,0.005900294668783501,0.002133468528673492,0.002783807021731675,0.0003243399144859144,0.006321927079534696,0.0035674547169302546,0.013625546346178647,0.005028216482581018,0.0037872040131709302,0.0,0.004281865034124171,0.0040789393307593715,0.0020210584940211556,0.0050494947732888165,0.00010719709038093782,0.004081687974102472,0.004317502616779548,0.006182883638695761,0.001775765770850628,0.0037414722747900263,0.0035337127503735667,0.002283506542884831,0.005856695498513624,0.0020584495215678223,0.002641019739097826,0.0012366525523831,0.0019143353076648908,0.006282498264681938,0.0014521841028041897,0.019435088394237347,0.0025297470741047043,0.003784313198620428,0.0020017232098145147,0.003927195262059211,0.009452916189741506,0.011623917917169066,0.003672140115980428,0.18338043228482542,0.002512923481228828,0.003038672606200589,0.0037895735332942933,0.010679806319216351,0.000517455804539991,0.0025281831908232845,0.002552968371313661,0.0023119407843651863,0.007122540538816555],\"type\":\"box\"},{\"marker\":{\"color\":\"#90EE90\"},\"name\":\"Cluster 3\",\"y\":[0.9999999999999999,0.8287408952966401],\"type\":\"box\"},{\"marker\":{\"color\":\"#ADD8E6\"},\"name\":\"Cluster 4\",\"y\":[0.005210337799262691,0.007175523008774949,0.00663712064634443,0.0086323987614234,0.0009464811180760786,0.002839632915838105,0.0020782587097991365,0.003772655159613482,0.006732849259328292,0.015624283960637721,0.0013551759489537124,0.0043511024121288345,0.003521059512914809,0.0004002593392384619,0.0034657549132355186,0.004674068004943199,0.004812353199342658,0.008822244713707236,0.0026750460480693176,0.0013474987037540166,0.004970447581973431,0.0030334122715267235,0.033572214135050044,0.00018098394702245865,0.009346335174592641,0.012710769407353164,0.004290205744958408,0.0034721052271661315,0.008057932302715296],\"type\":\"box\"},{\"marker\":{\"color\":\"#000000\"},\"name\":\"Cluster 5\",\"y\":[0.00833800958129679,0.0019113971027119206],\"type\":\"box\"}],                        {\"template\":{\"data\":{\"histogram2dcontour\":[{\"type\":\"histogram2dcontour\",\"colorbar\":{\"outlinewidth\":0,\"ticks\":\"\"},\"colorscale\":[[0.0,\"#0d0887\"],[0.1111111111111111,\"#46039f\"],[0.2222222222222222,\"#7201a8\"],[0.3333333333333333,\"#9c179e\"],[0.4444444444444444,\"#bd3786\"],[0.5555555555555556,\"#d8576b\"],[0.6666666666666666,\"#ed7953\"],[0.7777777777777778,\"#fb9f3a\"],[0.8888888888888888,\"#fdca26\"],[1.0,\"#f0f921\"]]}],\"choropleth\":[{\"type\":\"choropleth\",\"colorbar\":{\"outlinewidth\":0,\"ticks\":\"\"}}],\"histogram2d\":[{\"type\":\"histogram2d\",\"colorbar\":{\"outlinewidth\":0,\"ticks\":\"\"},\"colorscale\":[[0.0,\"#0d0887\"],[0.1111111111111111,\"#46039f\"],[0.2222222222222222,\"#7201a8\"],[0.3333333333333333,\"#9c179e\"],[0.4444444444444444,\"#bd3786\"],[0.5555555555555556,\"#d8576b\"],[0.6666666666666666,\"#ed7953\"],[0.7777777777777778,\"#fb9f3a\"],[0.8888888888888888,\"#fdca26\"],[1.0,\"#f0f921\"]]}],\"heatmap\":[{\"type\":\"heatmap\",\"colorbar\":{\"outlinewidth\":0,\"ticks\":\"\"},\"colorscale\":[[0.0,\"#0d0887\"],[0.1111111111111111,\"#46039f\"],[0.2222222222222222,\"#7201a8\"],[0.3333333333333333,\"#9c179e\"],[0.4444444444444444,\"#bd3786\"],[0.5555555555555556,\"#d8576b\"],[0.6666666666666666,\"#ed7953\"],[0.7777777777777778,\"#fb9f3a\"],[0.8888888888888888,\"#fdca26\"],[1.0,\"#f0f921\"]]}],\"heatmapgl\":[{\"type\":\"heatmapgl\",\"colorbar\":{\"outlinewidth\":0,\"ticks\":\"\"},\"colorscale\":[[0.0,\"#0d0887\"],[0.1111111111111111,\"#46039f\"],[0.2222222222222222,\"#7201a8\"],[0.3333333333333333,\"#9c179e\"],[0.4444444444444444,\"#bd3786\"],[0.5555555555555556,\"#d8576b\"],[0.6666666666666666,\"#ed7953\"],[0.7777777777777778,\"#fb9f3a\"],[0.8888888888888888,\"#fdca26\"],[1.0,\"#f0f921\"]]}],\"contourcarpet\":[{\"type\":\"contourcarpet\",\"colorbar\":{\"outlinewidth\":0,\"ticks\":\"\"}}],\"contour\":[{\"type\":\"contour\",\"colorbar\":{\"outlinewidth\":0,\"ticks\":\"\"},\"colorscale\":[[0.0,\"#0d0887\"],[0.1111111111111111,\"#46039f\"],[0.2222222222222222,\"#7201a8\"],[0.3333333333333333,\"#9c179e\"],[0.4444444444444444,\"#bd3786\"],[0.5555555555555556,\"#d8576b\"],[0.6666666666666666,\"#ed7953\"],[0.7777777777777778,\"#fb9f3a\"],[0.8888888888888888,\"#fdca26\"],[1.0,\"#f0f921\"]]}],\"surface\":[{\"type\":\"surface\",\"colorbar\":{\"outlinewidth\":0,\"ticks\":\"\"},\"colorscale\":[[0.0,\"#0d0887\"],[0.1111111111111111,\"#46039f\"],[0.2222222222222222,\"#7201a8\"],[0.3333333333333333,\"#9c179e\"],[0.4444444444444444,\"#bd3786\"],[0.5555555555555556,\"#d8576b\"],[0.6666666666666666,\"#ed7953\"],[0.7777777777777778,\"#fb9f3a\"],[0.8888888888888888,\"#fdca26\"],[1.0,\"#f0f921\"]]}],\"mesh3d\":[{\"type\":\"mesh3d\",\"colorbar\":{\"outlinewidth\":0,\"ticks\":\"\"}}],\"scatter\":[{\"fillpattern\":{\"fillmode\":\"overlay\",\"size\":10,\"solidity\":0.2},\"type\":\"scatter\"}],\"parcoords\":[{\"type\":\"parcoords\",\"line\":{\"colorbar\":{\"outlinewidth\":0,\"ticks\":\"\"}}}],\"scatterpolargl\":[{\"type\":\"scatterpolargl\",\"marker\":{\"colorbar\":{\"outlinewidth\":0,\"ticks\":\"\"}}}],\"bar\":[{\"error_x\":{\"color\":\"#2a3f5f\"},\"error_y\":{\"color\":\"#2a3f5f\"},\"marker\":{\"line\":{\"color\":\"#E5ECF6\",\"width\":0.5},\"pattern\":{\"fillmode\":\"overlay\",\"size\":10,\"solidity\":0.2}},\"type\":\"bar\"}],\"scattergeo\":[{\"type\":\"scattergeo\",\"marker\":{\"colorbar\":{\"outlinewidth\":0,\"ticks\":\"\"}}}],\"scatterpolar\":[{\"type\":\"scatterpolar\",\"marker\":{\"colorbar\":{\"outlinewidth\":0,\"ticks\":\"\"}}}],\"histogram\":[{\"marker\":{\"pattern\":{\"fillmode\":\"overlay\",\"size\":10,\"solidity\":0.2}},\"type\":\"histogram\"}],\"scattergl\":[{\"type\":\"scattergl\",\"marker\":{\"colorbar\":{\"outlinewidth\":0,\"ticks\":\"\"}}}],\"scatter3d\":[{\"type\":\"scatter3d\",\"line\":{\"colorbar\":{\"outlinewidth\":0,\"ticks\":\"\"}},\"marker\":{\"colorbar\":{\"outlinewidth\":0,\"ticks\":\"\"}}}],\"scattermapbox\":[{\"type\":\"scattermapbox\",\"marker\":{\"colorbar\":{\"outlinewidth\":0,\"ticks\":\"\"}}}],\"scatterternary\":[{\"type\":\"scatterternary\",\"marker\":{\"colorbar\":{\"outlinewidth\":0,\"ticks\":\"\"}}}],\"scattercarpet\":[{\"type\":\"scattercarpet\",\"marker\":{\"colorbar\":{\"outlinewidth\":0,\"ticks\":\"\"}}}],\"carpet\":[{\"aaxis\":{\"endlinecolor\":\"#2a3f5f\",\"gridcolor\":\"white\",\"linecolor\":\"white\",\"minorgridcolor\":\"white\",\"startlinecolor\":\"#2a3f5f\"},\"baxis\":{\"endlinecolor\":\"#2a3f5f\",\"gridcolor\":\"white\",\"linecolor\":\"white\",\"minorgridcolor\":\"white\",\"startlinecolor\":\"#2a3f5f\"},\"type\":\"carpet\"}],\"table\":[{\"cells\":{\"fill\":{\"color\":\"#EBF0F8\"},\"line\":{\"color\":\"white\"}},\"header\":{\"fill\":{\"color\":\"#C8D4E3\"},\"line\":{\"color\":\"white\"}},\"type\":\"table\"}],\"barpolar\":[{\"marker\":{\"line\":{\"color\":\"#E5ECF6\",\"width\":0.5},\"pattern\":{\"fillmode\":\"overlay\",\"size\":10,\"solidity\":0.2}},\"type\":\"barpolar\"}],\"pie\":[{\"automargin\":true,\"type\":\"pie\"}]},\"layout\":{\"autotypenumbers\":\"strict\",\"colorway\":[\"#636efa\",\"#EF553B\",\"#00cc96\",\"#ab63fa\",\"#FFA15A\",\"#19d3f3\",\"#FF6692\",\"#B6E880\",\"#FF97FF\",\"#FECB52\"],\"font\":{\"color\":\"#2a3f5f\"},\"hovermode\":\"closest\",\"hoverlabel\":{\"align\":\"left\"},\"paper_bgcolor\":\"white\",\"plot_bgcolor\":\"#E5ECF6\",\"polar\":{\"bgcolor\":\"#E5ECF6\",\"angularaxis\":{\"gridcolor\":\"white\",\"linecolor\":\"white\",\"ticks\":\"\"},\"radialaxis\":{\"gridcolor\":\"white\",\"linecolor\":\"white\",\"ticks\":\"\"}},\"ternary\":{\"bgcolor\":\"#E5ECF6\",\"aaxis\":{\"gridcolor\":\"white\",\"linecolor\":\"white\",\"ticks\":\"\"},\"baxis\":{\"gridcolor\":\"white\",\"linecolor\":\"white\",\"ticks\":\"\"},\"caxis\":{\"gridcolor\":\"white\",\"linecolor\":\"white\",\"ticks\":\"\"}},\"coloraxis\":{\"colorbar\":{\"outlinewidth\":0,\"ticks\":\"\"}},\"colorscale\":{\"sequential\":[[0.0,\"#0d0887\"],[0.1111111111111111,\"#46039f\"],[0.2222222222222222,\"#7201a8\"],[0.3333333333333333,\"#9c179e\"],[0.4444444444444444,\"#bd3786\"],[0.5555555555555556,\"#d8576b\"],[0.6666666666666666,\"#ed7953\"],[0.7777777777777778,\"#fb9f3a\"],[0.8888888888888888,\"#fdca26\"],[1.0,\"#f0f921\"]],\"sequentialminus\":[[0.0,\"#0d0887\"],[0.1111111111111111,\"#46039f\"],[0.2222222222222222,\"#7201a8\"],[0.3333333333333333,\"#9c179e\"],[0.4444444444444444,\"#bd3786\"],[0.5555555555555556,\"#d8576b\"],[0.6666666666666666,\"#ed7953\"],[0.7777777777777778,\"#fb9f3a\"],[0.8888888888888888,\"#fdca26\"],[1.0,\"#f0f921\"]],\"diverging\":[[0,\"#8e0152\"],[0.1,\"#c51b7d\"],[0.2,\"#de77ae\"],[0.3,\"#f1b6da\"],[0.4,\"#fde0ef\"],[0.5,\"#f7f7f7\"],[0.6,\"#e6f5d0\"],[0.7,\"#b8e186\"],[0.8,\"#7fbc41\"],[0.9,\"#4d9221\"],[1,\"#276419\"]]},\"xaxis\":{\"gridcolor\":\"white\",\"linecolor\":\"white\",\"ticks\":\"\",\"title\":{\"standoff\":15},\"zerolinecolor\":\"white\",\"automargin\":true,\"zerolinewidth\":2},\"yaxis\":{\"gridcolor\":\"white\",\"linecolor\":\"white\",\"ticks\":\"\",\"title\":{\"standoff\":15},\"zerolinecolor\":\"white\",\"automargin\":true,\"zerolinewidth\":2},\"scene\":{\"xaxis\":{\"backgroundcolor\":\"#E5ECF6\",\"gridcolor\":\"white\",\"linecolor\":\"white\",\"showbackground\":true,\"ticks\":\"\",\"zerolinecolor\":\"white\",\"gridwidth\":2},\"yaxis\":{\"backgroundcolor\":\"#E5ECF6\",\"gridcolor\":\"white\",\"linecolor\":\"white\",\"showbackground\":true,\"ticks\":\"\",\"zerolinecolor\":\"white\",\"gridwidth\":2},\"zaxis\":{\"backgroundcolor\":\"#E5ECF6\",\"gridcolor\":\"white\",\"linecolor\":\"white\",\"showbackground\":true,\"ticks\":\"\",\"zerolinecolor\":\"white\",\"gridwidth\":2}},\"shapedefaults\":{\"line\":{\"color\":\"#2a3f5f\"}},\"annotationdefaults\":{\"arrowcolor\":\"#2a3f5f\",\"arrowhead\":0,\"arrowwidth\":1},\"geo\":{\"bgcolor\":\"white\",\"landcolor\":\"#E5ECF6\",\"subunitcolor\":\"white\",\"showland\":true,\"showlakes\":true,\"lakecolor\":\"white\"},\"title\":{\"x\":0.05},\"mapbox\":{\"style\":\"light\"}}},\"title\":{\"text\":\"debtToEquity\",\"x\":0.5,\"y\":0.95},\"yaxis\":{\"title\":{\"text\":\"debtToEquity\"}}},                        {\"responsive\": true}                    ).then(function(){\n",
              "                            \n",
              "var gd = document.getElementById('411bc366-1556-47d2-aa52-ef4b564f34c1');\n",
              "var x = new MutationObserver(function (mutations, observer) {{\n",
              "        var display = window.getComputedStyle(gd).display;\n",
              "        if (!display || display === 'none') {{\n",
              "            console.log([gd, 'removed!']);\n",
              "            Plotly.purge(gd);\n",
              "            observer.disconnect();\n",
              "        }}\n",
              "}});\n",
              "\n",
              "// Listen for the removal of the full notebook cells\n",
              "var notebookContainer = gd.closest('#notebook-container');\n",
              "if (notebookContainer) {{\n",
              "    x.observe(notebookContainer, {childList: true});\n",
              "}}\n",
              "\n",
              "// Listen for the clearing of the current output cell\n",
              "var outputEl = gd.closest('.output');\n",
              "if (outputEl) {{\n",
              "    x.observe(outputEl, {childList: true});\n",
              "}}\n",
              "\n",
              "                        })                };                            </script>        </div>\n",
              "</body>\n",
              "</html>"
            ]
          },
          "metadata": {}
        }
      ]
    },
    {
      "cell_type": "code",
      "source": [
        "print(np.sum(zero))\n",
        "print(np.sum(one))\n",
        "print(np.sum(two))\n",
        "print(np.sum(three))\n",
        "print(np.sum(four))\n",
        "print(np.sum(five))"
      ],
      "metadata": {
        "colab": {
          "base_uri": "https://localhost:8080/"
        },
        "id": "Ifw2JDNcdvah",
        "outputId": "a338a58f-e55c-4b12-b926-dcba5530fd43"
      },
      "execution_count": null,
      "outputs": [
        {
          "output_type": "stream",
          "name": "stdout",
          "text": [
            "101\n",
            "96\n",
            "100\n",
            "2\n",
            "29\n",
            "2\n"
          ]
        }
      ]
    },
    {
      "cell_type": "code",
      "source": [
        "companies = list(dicInfo2.keys())\n",
        "for k in [zero, one, two, three, four, five]:\n",
        "  print([companies[i] for i, j in enumerate(k) if j])"
      ],
      "metadata": {
        "colab": {
          "base_uri": "https://localhost:8080/"
        },
        "id": "nONTVnw9dwun",
        "outputId": "3bbfb7eb-ef68-4c20-d2cb-708c5e9501a9"
      },
      "execution_count": null,
      "outputs": [
        {
          "output_type": "stream",
          "name": "stdout",
          "text": [
            "['ABBV', 'ADM', 'AFL', 'APD', 'ARE', 'LNT', 'AMCR', 'AEE', 'AEP', 'AMT', 'AMGN', 'AIZ', 'ATO', 'AVB', 'BMY', 'BG', 'CHRW', 'CPT', 'CPB', 'CNP', 'CVX', 'CINF', 'CSCO', 'CLX', 'CME', 'CMS', 'KO', 'CL', 'CMCSA', 'CAG', 'ED', 'GLW', 'CCI', 'CMI', 'CVS', 'DLR', 'D', 'DTE', 'DUK', 'EIX', 'ETR', 'EQR', 'ESS', 'ES', 'EXC', 'EXR', 'XOM', 'FE', 'GRMN', 'GEN', 'GD', 'GIS', 'GILD', 'HIG', 'HAS', 'HRL', 'HII', 'IBM', 'IPG', 'INVH', 'IRM', 'JNJ', 'JNPR', 'K', 'KDP', 'KMB', 'KHC', 'KR', 'LHX', 'LMT', 'MDT', 'MRK', 'MET', 'MAA', 'NEE', 'NI', 'OMC', 'PKG', 'PAYX', 'PEP', 'PFE', 'PNW', 'PPL', 'PG', 'PLD', 'PEG', 'PSA', 'RTX', 'O', 'SRE', 'SJM', 'SO', 'TGT', 'TXN', 'TRV', 'TSN', 'UDR', 'UPS', 'WEC', 'WELL', 'XEL']\n",
            "['AOS', 'ACN', 'ALB', 'AXP', 'AIG', 'AMP', 'AME', 'APH', 'ADI', 'APA', 'AMAT', 'TECH', 'BLK', 'BWA', 'AVGO', 'CARR', 'CE', 'CTAS', 'COP', 'CSX', 'DHI', 'DRI', 'DFS', 'DOV', 'DD', 'EMN', 'ETN', 'EBAY', 'EMR', 'EOG', 'EQT', 'EFX', 'FAST', 'FDX', 'FCX', 'GM', 'GS', 'HAL', 'HES', 'HPE', 'HON', 'HST', 'HWM', 'ITW', 'IR', 'JCI', 'KLAC', 'LRCX', 'LEN', 'LKQ', 'MRO', 'MPC', 'MAR', 'MGM', 'MCHP', 'MU', 'MCO', 'MS', 'MOS', 'NTAP', 'NWSA', 'NWS', 'NSC', 'NUE', 'NVDA', 'NXPI', 'OXY', 'PH', 'PAYC', 'PPG', 'PFG', 'PHM', 'QCOM', 'RL', 'RHI', 'ROK', 'SLB', 'SEE', 'SWKS', 'SNA', 'LUV', 'STLD', 'SYY', 'TPR', 'TRGP', 'TEL', 'TER', 'TXT', 'TT', 'UNP', 'URI', 'UHS', 'VLO', 'WAB', 'WY', 'GWW']\n",
            "['ABT', 'ADP', 'A', 'ALLE', 'AWK', 'ABC', 'AJG', 'AVY', 'BALL', 'BDX', 'WRB', 'BR', 'BRO', 'BF-B', 'CBOE', 'CDW', 'CF', 'SCHW', 'CB', 'CHD', 'CI', 'CTSH', 'COO', 'CTVA', 'DHR', 'DE', 'DG', 'ECL', 'EA', 'ELV', 'LLY', 'EQIX', 'EL', 'RE', 'EXPD', 'FDS', 'FMC', 'FTV', 'FOXA', 'FOX', 'GE', 'GPC', 'GL', 'HSY', 'HUM', 'IEX', 'ICE', 'INTU', 'JBHT', 'JKHY', 'J', 'LH', 'LW', 'LDOS', 'LIN', 'L', 'MKTX', 'MMC', 'MLM', 'MA', 'MKC', 'MDLZ', 'MPWR', 'NDAQ', 'NKE', 'NDSN', 'NOC', 'ODFL', 'PCAR', 'PNR', 'POOL', 'PGR', 'PWR', 'DGX', 'RJF', 'RSG', 'RMD', 'RVTY', 'ROL', 'ROP', 'ROST', 'SPGI', 'SHW', 'STE', 'SYK', 'TFX', 'TMO', 'TJX', 'TSCO', 'UNH', 'VRSK', 'V', 'VMC', 'WMT', 'WM', 'WST', 'WTW', 'XYL', 'ZBH', 'ZTS']\n",
            "['AON', 'HCA']\n",
            "['MMM', 'AAP', 'BBY', 'BXP', 'CTRA', 'DVN', 'FANG', 'DOW', 'FRT', 'F', 'BEN', 'PEAK', 'IP', 'IVZ', 'KIM', 'KMI', 'LYB', 'OKE', 'PSX', 'PXD', 'PRU', 'REG', 'SPG', 'TROW', 'VZ', 'VFC', 'VTRS', 'VICI', 'WMB']\n",
            "['AAPL', 'MSFT']\n"
          ]
        }
      ]
    }
  ],
  "metadata": {
    "colab": {
      "collapsed_sections": [
        "nNRcSG6GZAkB",
        "3s2Mo8Z5LZMN",
        "hQ3bHjdgcaDi",
        "XdD8zEqnrDkS",
        "U9j3gQtivtmc",
        "G-Ejv49A-1OQ",
        "7PvWW0Fgx_pB",
        "zmQyE3hzdYa2"
      ],
      "provenance": []
    },
    "kernelspec": {
      "display_name": "Python 3",
      "name": "python3"
    },
    "language_info": {
      "name": "python"
    }
  },
  "nbformat": 4,
  "nbformat_minor": 0
}